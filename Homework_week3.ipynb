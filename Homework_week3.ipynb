{
  "nbformat": 4,
  "nbformat_minor": 0,
  "metadata": {
    "colab": {
      "provenance": [],
      "authorship_tag": "ABX9TyN8pg9T3Te5GyWFcFd1+ArY",
      "include_colab_link": true
    },
    "kernelspec": {
      "name": "python3",
      "display_name": "Python 3"
    },
    "language_info": {
      "name": "python"
    }
  },
  "cells": [
    {
      "cell_type": "markdown",
      "metadata": {
        "id": "view-in-github",
        "colab_type": "text"
      },
      "source": [
        "<a href=\"https://colab.research.google.com/github/marilikalantzi/datajour/blob/main/Homework_week3.ipynb\" target=\"_parent\"><img src=\"https://colab.research.google.com/assets/colab-badge.svg\" alt=\"Open In Colab\"/></a>"
      ]
    },
    {
      "cell_type": "markdown",
      "source": [
        "ΆΣΚΗΣΗ 1:"
      ],
      "metadata": {
        "id": "IgOfrNIbFqYx"
      }
    },
    {
      "cell_type": "code",
      "source": [
        "datetime = \"2024-03-28T12:07:19+02:00\"\n",
        "date = (datetime[0:10])\n",
        "print(date)"
      ],
      "metadata": {
        "colab": {
          "base_uri": "https://localhost:8080/"
        },
        "id": "qt9JQ3zDFuK6",
        "outputId": "f545b8cc-c324-4d10-c87d-027c908314f3"
      },
      "execution_count": 5,
      "outputs": [
        {
          "output_type": "stream",
          "name": "stdout",
          "text": [
            "2024-03-28\n"
          ]
        }
      ]
    },
    {
      "cell_type": "code",
      "source": [
        "year = (datetime[0:4])\n",
        "print(year)"
      ],
      "metadata": {
        "colab": {
          "base_uri": "https://localhost:8080/"
        },
        "id": "tEJ2wNMoI78l",
        "outputId": "90105ff8-6eb4-43d0-db05-441fce0f930a"
      },
      "execution_count": 6,
      "outputs": [
        {
          "output_type": "stream",
          "name": "stdout",
          "text": [
            "2024\n"
          ]
        }
      ]
    },
    {
      "cell_type": "code",
      "source": [
        "month = (datetime[5:7])\n",
        "print(month)"
      ],
      "metadata": {
        "colab": {
          "base_uri": "https://localhost:8080/"
        },
        "id": "0jhXrjvrJ2tR",
        "outputId": "42901981-bbe9-47be-be24-5d3e0be47533"
      },
      "execution_count": 8,
      "outputs": [
        {
          "output_type": "stream",
          "name": "stdout",
          "text": [
            "03\n"
          ]
        }
      ]
    },
    {
      "cell_type": "code",
      "source": [
        "day = (datetime[8:10])\n",
        "print(day)"
      ],
      "metadata": {
        "colab": {
          "base_uri": "https://localhost:8080/"
        },
        "id": "NjCkEzmEKHwr",
        "outputId": "165b8453-00b2-4835-e010-4033d13f4d32"
      },
      "execution_count": 9,
      "outputs": [
        {
          "output_type": "stream",
          "name": "stdout",
          "text": [
            "28\n"
          ]
        }
      ]
    },
    {
      "cell_type": "code",
      "source": [
        "time = (datetime[11:19])\n",
        "print(time)"
      ],
      "metadata": {
        "colab": {
          "base_uri": "https://localhost:8080/"
        },
        "id": "GKc-kzFuLGxx",
        "outputId": "6cda2fc9-25a9-43d2-f84c-5def380fd21a"
      },
      "execution_count": 11,
      "outputs": [
        {
          "output_type": "stream",
          "name": "stdout",
          "text": [
            "12:07:19\n"
          ]
        }
      ]
    },
    {
      "cell_type": "code",
      "source": [
        "custom_daytime = (\"Ημερομηνία:\", date,\"ωρα:\", time)\n",
        "print(custom_daytime)"
      ],
      "metadata": {
        "colab": {
          "base_uri": "https://localhost:8080/"
        },
        "id": "R2dElwwXNz5Y",
        "outputId": "b2521a18-8ac5-4e8c-f063-9c4d1f1ee880"
      },
      "execution_count": 58,
      "outputs": [
        {
          "output_type": "stream",
          "name": "stdout",
          "text": [
            "('Ημερομηνία:', '2024-03-28', 'ωρα:', '12:07:19')\n"
          ]
        }
      ]
    },
    {
      "cell_type": "markdown",
      "source": [
        "ΆΣΚΗΣΗ 2:"
      ],
      "metadata": {
        "id": "eJ9djqiiUQRN"
      }
    },
    {
      "cell_type": "code",
      "source": [
        "usersL = []\n",
        "providersL = []\n",
        "email1 = \"marilikalantzi@gmail.com\"\n",
        "papaki_index1 = email1.index(\"@\")\n",
        "print(papaki_index1)"
      ],
      "metadata": {
        "colab": {
          "base_uri": "https://localhost:8080/"
        },
        "id": "DNVmf8iIZVA5",
        "outputId": "5a5bad49-9924-4a79-c0a3-c6f8a4df881c"
      },
      "execution_count": 34,
      "outputs": [
        {
          "output_type": "stream",
          "name": "stdout",
          "text": [
            "14\n"
          ]
        }
      ]
    },
    {
      "cell_type": "code",
      "source": [
        "user1 = (email1[:14])\n",
        "print(user1)"
      ],
      "metadata": {
        "colab": {
          "base_uri": "https://localhost:8080/"
        },
        "id": "-4D1Mn-FZ1Pg",
        "outputId": "b1fb2024-6f46-4c5f-c220-b0c5c512b29e"
      },
      "execution_count": 35,
      "outputs": [
        {
          "output_type": "stream",
          "name": "stdout",
          "text": [
            "marilikalantzi\n"
          ]
        }
      ]
    },
    {
      "cell_type": "code",
      "source": [
        "usersL = []\n",
        "usersL.append(user1)\n",
        "usersL"
      ],
      "metadata": {
        "colab": {
          "base_uri": "https://localhost:8080/"
        },
        "id": "kmy8gIubaTBF",
        "outputId": "c4fc1209-7d29-4a5a-9d59-cb6c56aa4337"
      },
      "execution_count": 37,
      "outputs": [
        {
          "output_type": "execute_result",
          "data": {
            "text/plain": [
              "['marilikalantzi']"
            ]
          },
          "metadata": {},
          "execution_count": 37
        }
      ]
    },
    {
      "cell_type": "code",
      "source": [
        "provider1 = (email1[15:])\n",
        "print(provider1)"
      ],
      "metadata": {
        "colab": {
          "base_uri": "https://localhost:8080/"
        },
        "id": "f5SONIrVa_yT",
        "outputId": "2305c3ad-5bed-46a8-ae85-e4c7b93fb85a"
      },
      "execution_count": 39,
      "outputs": [
        {
          "output_type": "stream",
          "name": "stdout",
          "text": [
            "gmail.com\n"
          ]
        }
      ]
    },
    {
      "cell_type": "code",
      "source": [
        "providersL = provider1.replace(\".com\", \"\")\n",
        "providersL"
      ],
      "metadata": {
        "colab": {
          "base_uri": "https://localhost:8080/",
          "height": 37
        },
        "id": "k2lrrIOdbhZs",
        "outputId": "4b56fd58-c752-4e32-a2aa-ab4c99b2f634"
      },
      "execution_count": 54,
      "outputs": [
        {
          "output_type": "execute_result",
          "data": {
            "text/plain": [
              "'yahoo'"
            ],
            "application/vnd.google.colaboratory.intrinsic+json": {
              "type": "string"
            }
          },
          "metadata": {},
          "execution_count": 54
        }
      ]
    },
    {
      "cell_type": "code",
      "source": [
        "email1 = \"elenikarantana@yahoo.com\"\n",
        "papaki_index1 = email1.index(\"@\")\n",
        "print(papaki_index1)"
      ],
      "metadata": {
        "colab": {
          "base_uri": "https://localhost:8080/"
        },
        "id": "EFNPb0wgcW2j",
        "outputId": "bbc48ce9-479d-4f19-ebfb-c6aeaf27cc04"
      },
      "execution_count": 41,
      "outputs": [
        {
          "output_type": "stream",
          "name": "stdout",
          "text": [
            "14\n"
          ]
        }
      ]
    },
    {
      "cell_type": "code",
      "source": [
        "user1 = (email1[:14])\n",
        "print(user1)"
      ],
      "metadata": {
        "colab": {
          "base_uri": "https://localhost:8080/"
        },
        "id": "psaMEasKc8er",
        "outputId": "f20080e7-0211-41ea-faf3-9d1658ecae68"
      },
      "execution_count": 42,
      "outputs": [
        {
          "output_type": "stream",
          "name": "stdout",
          "text": [
            "elenikarantana\n"
          ]
        }
      ]
    },
    {
      "cell_type": "code",
      "source": [
        "usersL = []\n",
        "usersL.append(user1)\n",
        "usersL"
      ],
      "metadata": {
        "colab": {
          "base_uri": "https://localhost:8080/"
        },
        "id": "Qx49ABxadJ1M",
        "outputId": "d4626ff3-37d3-4399-d869-785a4b9b1ef1"
      },
      "execution_count": 43,
      "outputs": [
        {
          "output_type": "execute_result",
          "data": {
            "text/plain": [
              "['elenikarantana']"
            ]
          },
          "metadata": {},
          "execution_count": 43
        }
      ]
    },
    {
      "cell_type": "code",
      "source": [
        "provider1 = (email1[15:])\n",
        "print(provider1)"
      ],
      "metadata": {
        "colab": {
          "base_uri": "https://localhost:8080/"
        },
        "id": "RR8jtK7NdQxn",
        "outputId": "2df09f7c-3558-43db-aee5-9d375e28da79"
      },
      "execution_count": 44,
      "outputs": [
        {
          "output_type": "stream",
          "name": "stdout",
          "text": [
            "yahoo.com\n"
          ]
        }
      ]
    },
    {
      "cell_type": "code",
      "source": [
        "print(len(usersL))\n",
        "print(usersL)"
      ],
      "metadata": {
        "colab": {
          "base_uri": "https://localhost:8080/"
        },
        "id": "oCi950YWd_wL",
        "outputId": "955fd0b2-a421-4419-c7e0-8031eaa9c84c"
      },
      "execution_count": 48,
      "outputs": [
        {
          "output_type": "stream",
          "name": "stdout",
          "text": [
            "1\n",
            "['elenikarantana']\n"
          ]
        }
      ]
    },
    {
      "cell_type": "code",
      "source": [
        "print(len(providersL))\n",
        "print(providersL)"
      ],
      "metadata": {
        "colab": {
          "base_uri": "https://localhost:8080/"
        },
        "id": "tRVXStzcgfTc",
        "outputId": "d8907851-7a73-495d-eb16-5d4232e5cd9b"
      },
      "execution_count": 49,
      "outputs": [
        {
          "output_type": "stream",
          "name": "stdout",
          "text": [
            "5\n",
            "gmail\n"
          ]
        }
      ]
    },
    {
      "cell_type": "code",
      "source": [
        "providersL = [ \"gmail\" ]\n",
        "final_list = usersL + providersL\n",
        "final_list"
      ],
      "metadata": {
        "colab": {
          "base_uri": "https://localhost:8080/"
        },
        "id": "zD6Fol64jGCv",
        "outputId": "683b3b42-a00b-431e-ac1c-9c047085befb"
      },
      "execution_count": 55,
      "outputs": [
        {
          "output_type": "execute_result",
          "data": {
            "text/plain": [
              "['elenikarantana', 'gmail']"
            ]
          },
          "metadata": {},
          "execution_count": 55
        }
      ]
    }
  ]
}