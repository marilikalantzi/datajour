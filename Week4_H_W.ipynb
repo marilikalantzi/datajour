{
  "nbformat": 4,
  "nbformat_minor": 0,
  "metadata": {
    "colab": {
      "provenance": [],
      "authorship_tag": "ABX9TyMiAltPaRy7+B32l8enhTli",
      "include_colab_link": true
    },
    "kernelspec": {
      "name": "python3",
      "display_name": "Python 3"
    },
    "language_info": {
      "name": "python"
    }
  },
  "cells": [
    {
      "cell_type": "markdown",
      "metadata": {
        "id": "view-in-github",
        "colab_type": "text"
      },
      "source": [
        "<a href=\"https://colab.research.google.com/github/marilikalantzi/datajour/blob/main/Week4_H_W.ipynb\" target=\"_parent\"><img src=\"https://colab.research.google.com/assets/colab-badge.svg\" alt=\"Open In Colab\"/></a>"
      ]
    },
    {
      "cell_type": "code",
      "source": [
        "urlsL = [\"https://www.protothema.gr/culture/article/1485474/xanthi-ena-neo-epigrafiko-mouseio-dimiourgeitai-sta-ktiria-tou-sugrotimatos-ton-kapnapothikon/\"]\n",
        "url = urlsL[0]\n",
        "print(url)\n"
      ],
      "metadata": {
        "colab": {
          "base_uri": "https://localhost:8080/"
        },
        "id": "O_kXmOCLfZxd",
        "outputId": "9a5c4a09-fca7-4ce4-8240-be8b00d8dad4"
      },
      "execution_count": 6,
      "outputs": [
        {
          "output_type": "stream",
          "name": "stdout",
          "text": [
            "https://www.protothema.gr/culture/article/1485474/xanthi-ena-neo-epigrafiko-mouseio-dimiourgeitai-sta-ktiria-tou-sugrotimatos-ton-kapnapothikon/\n"
          ]
        }
      ]
    },
    {
      "cell_type": "code",
      "source": [
        "titlesL = []\n",
        "titlewordsNL = []\n",
        "print(titlesL)\n",
        "print(titlewordsNL)\n"
      ],
      "metadata": {
        "colab": {
          "base_uri": "https://localhost:8080/"
        },
        "id": "X7M23cNof0hW",
        "outputId": "82810255-b540-4805-f09e-185a94bfdef2"
      },
      "execution_count": 22,
      "outputs": [
        {
          "output_type": "stream",
          "name": "stdout",
          "text": [
            "[]\n",
            "[]\n"
          ]
        }
      ]
    },
    {
      "cell_type": "code",
      "source": [
        "title = url.replace(\"https://www.protothema.gr/culture/article/1485474/\", \"\").replace(\"/\", \"\").replace(\"-\", \" \")\n",
        "titlesL.append(title)\n",
        "titleL = title.split(\" \")\n",
        "titlewordsN = len(titleL)\n",
        "titlewordsNL.append(titlewordsN)\n",
        "print(titlesL)\n",
        "print(titlewordsNL)\n"
      ],
      "metadata": {
        "colab": {
          "base_uri": "https://localhost:8080/"
        },
        "id": "iMq4MkDqf7EV",
        "outputId": "b0c4547a-3a96-4f6a-c39e-89070596b9b7"
      },
      "execution_count": 23,
      "outputs": [
        {
          "output_type": "stream",
          "name": "stdout",
          "text": [
            "['xanthi ena neo epigrafiko mouseio dimiourgeitai sta ktiria tou sugrotimatos ton kapnapothikon']\n",
            "[12]\n"
          ]
        }
      ]
    },
    {
      "cell_type": "code",
      "source": [
        "urlsL = [\"https://www.protothema.gr/culture/article/1485531/mikrasiatiki-katastrofi-to-hroniko-tis-mesa-apo-ta-imerologia-ton-stratioton-parousiazetai-sto-theatro-horos/\"]\n",
        "url = urlsL[0]\n",
        "titlesL = []\n",
        "titlewordsNL = []\n",
        "title = url.replace(\"https://www.protothema.gr/culture/article/1485531/\", \"\").replace(\"/\", \"\").replace(\"-\", \" \")\n",
        "titlesL.append(title)\n",
        "titleL = title.split(\" \")\n",
        "titlewordsN = len(titleL)\n",
        "titlewordsNL.append(titlewordsN)\n",
        "print(titlesL)\n",
        "print(titlewordsNL)"
      ],
      "metadata": {
        "colab": {
          "base_uri": "https://localhost:8080/"
        },
        "id": "cNVbVQr5mQk4",
        "outputId": "94d3dcb5-ce56-4974-cb71-b12bb95900f0"
      },
      "execution_count": 33,
      "outputs": [
        {
          "output_type": "stream",
          "name": "stdout",
          "text": [
            "['mikrasiatiki katastrofi to hroniko tis mesa apo ta imerologia ton stratioton parousiazetai sto theatro horos']\n",
            "[15]\n"
          ]
        }
      ]
    },
    {
      "cell_type": "code",
      "source": [
        "urlsL = [\"https://www.protothema.gr/culture/article/1485936/epanapatrismos-arhaiotitas-aggeio-pou-eihe-klapei-kata-tin-germaniki-katohi-epistrefei-stin-ellada/\"]\n",
        "url = urlsL[0]\n",
        "titlesL = []\n",
        "titlewordsNL = []\n",
        "title = url.replace(\"https://www.protothema.gr/culture/article/1485936/\", \"\").replace(\"/\", \"\").replace(\"-\", \" \")\n",
        "titlesL.append(title)\n",
        "titleL = title.split(\" \")\n",
        "titlewordsN = len(titleL)\n",
        "titlewordsNL.append(titlewordsN)\n",
        "print(titlesL)\n",
        "print(titlewordsNL)"
      ],
      "metadata": {
        "colab": {
          "base_uri": "https://localhost:8080/"
        },
        "id": "_dk0WtJBnAev",
        "outputId": "56c07f6e-acc3-42ab-ecf3-d8d6d7b69711"
      },
      "execution_count": 35,
      "outputs": [
        {
          "output_type": "stream",
          "name": "stdout",
          "text": [
            "['epanapatrismos arhaiotitas aggeio pou eihe klapei kata tin germaniki katohi epistrefei stin ellada']\n",
            "[13]\n"
          ]
        }
      ]
    }
  ]
}