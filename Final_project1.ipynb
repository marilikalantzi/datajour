{
  "nbformat": 4,
  "nbformat_minor": 0,
  "metadata": {
    "colab": {
      "provenance": [],
      "authorship_tag": "ABX9TyOHsquhbSLhdB1WsCt/Sniv",
      "include_colab_link": true
    },
    "kernelspec": {
      "name": "python3",
      "display_name": "Python 3"
    },
    "language_info": {
      "name": "python"
    }
  },
  "cells": [
    {
      "cell_type": "markdown",
      "metadata": {
        "id": "view-in-github",
        "colab_type": "text"
      },
      "source": [
        "<a href=\"https://colab.research.google.com/github/marilikalantzi/datajour/blob/main/Final_project1.ipynb\" target=\"_parent\"><img src=\"https://colab.research.google.com/assets/colab-badge.svg\" alt=\"Open In Colab\"/></a>"
      ]
    },
    {
      "cell_type": "code",
      "execution_count": null,
      "metadata": {
        "colab": {
          "base_uri": "https://localhost:8080/"
        },
        "id": "BtdqVEUEknM_",
        "outputId": "6e5a47e4-78d0-48d3-a4a7-7671cb8abe67"
      },
      "outputs": [
        {
          "output_type": "stream",
          "name": "stdout",
          "text": [
            "Drive already mounted at /content/gdrive; to attempt to forcibly remount, call drive.mount(\"/content/gdrive\", force_remount=True).\n"
          ]
        }
      ],
      "source": [
        "from google.colab import drive\n",
        "drive.mount('/content/gdrive')"
      ]
    },
    {
      "cell_type": "code",
      "source": [
        "import pandas as pd"
      ],
      "metadata": {
        "id": "Gf4Y3bkEk6WX"
      },
      "execution_count": null,
      "outputs": []
    },
    {
      "cell_type": "code",
      "source": [
        "df = pd.read_excel('/content/gdrive/MyDrive/Τελική εργασία σεμινάριο/report4.xlsx')\n",
        "df.tail(1)"
      ],
      "metadata": {
        "colab": {
          "base_uri": "https://localhost:8080/",
          "height": 148
        },
        "id": "MYkNIuSMk841",
        "outputId": "960266e3-0ff6-44dc-f280-88aeba8594ae"
      },
      "execution_count": null,
      "outputs": [
        {
          "output_type": "execute_result",
          "data": {
            "text/plain": [
              "     type      source                                              title  \\\n",
              "4999  web  ertnews.gr  Γερμανία – Ευρωεκλογές: Ομαλά εξελίσσεται η ψη...   \n",
              "\n",
              "                                                   text  \\\n",
              "4999  Από τις 08:00 (τοπική ώρα) βρίσκεται σε εξέλιξ...   \n",
              "\n",
              "                   categories sentiment        date      time  \\\n",
              "4999  ΕΥΡΩΕΚΛΟΓΕΣ - ΕΥΡΩΒΟΥΛΗ  Positive  2024-06-09  17:50:20   \n",
              "\n",
              "                                                   link  \n",
              "4999  https://www.ertnews.gr/eidiseis/diethni/german...  "
            ],
            "text/html": [
              "\n",
              "  <div id=\"df-afb7743f-ec6d-4fb6-910f-64613d2d9219\" class=\"colab-df-container\">\n",
              "    <div>\n",
              "<style scoped>\n",
              "    .dataframe tbody tr th:only-of-type {\n",
              "        vertical-align: middle;\n",
              "    }\n",
              "\n",
              "    .dataframe tbody tr th {\n",
              "        vertical-align: top;\n",
              "    }\n",
              "\n",
              "    .dataframe thead th {\n",
              "        text-align: right;\n",
              "    }\n",
              "</style>\n",
              "<table border=\"1\" class=\"dataframe\">\n",
              "  <thead>\n",
              "    <tr style=\"text-align: right;\">\n",
              "      <th></th>\n",
              "      <th>type</th>\n",
              "      <th>source</th>\n",
              "      <th>title</th>\n",
              "      <th>text</th>\n",
              "      <th>categories</th>\n",
              "      <th>sentiment</th>\n",
              "      <th>date</th>\n",
              "      <th>time</th>\n",
              "      <th>link</th>\n",
              "    </tr>\n",
              "  </thead>\n",
              "  <tbody>\n",
              "    <tr>\n",
              "      <th>4999</th>\n",
              "      <td>web</td>\n",
              "      <td>ertnews.gr</td>\n",
              "      <td>Γερμανία – Ευρωεκλογές: Ομαλά εξελίσσεται η ψη...</td>\n",
              "      <td>Από τις 08:00 (τοπική ώρα) βρίσκεται σε εξέλιξ...</td>\n",
              "      <td>ΕΥΡΩΕΚΛΟΓΕΣ - ΕΥΡΩΒΟΥΛΗ</td>\n",
              "      <td>Positive</td>\n",
              "      <td>2024-06-09</td>\n",
              "      <td>17:50:20</td>\n",
              "      <td>https://www.ertnews.gr/eidiseis/diethni/german...</td>\n",
              "    </tr>\n",
              "  </tbody>\n",
              "</table>\n",
              "</div>\n",
              "    <div class=\"colab-df-buttons\">\n",
              "\n",
              "  <div class=\"colab-df-container\">\n",
              "    <button class=\"colab-df-convert\" onclick=\"convertToInteractive('df-afb7743f-ec6d-4fb6-910f-64613d2d9219')\"\n",
              "            title=\"Convert this dataframe to an interactive table.\"\n",
              "            style=\"display:none;\">\n",
              "\n",
              "  <svg xmlns=\"http://www.w3.org/2000/svg\" height=\"24px\" viewBox=\"0 -960 960 960\">\n",
              "    <path d=\"M120-120v-720h720v720H120Zm60-500h600v-160H180v160Zm220 220h160v-160H400v160Zm0 220h160v-160H400v160ZM180-400h160v-160H180v160Zm440 0h160v-160H620v160ZM180-180h160v-160H180v160Zm440 0h160v-160H620v160Z\"/>\n",
              "  </svg>\n",
              "    </button>\n",
              "\n",
              "  <style>\n",
              "    .colab-df-container {\n",
              "      display:flex;\n",
              "      gap: 12px;\n",
              "    }\n",
              "\n",
              "    .colab-df-convert {\n",
              "      background-color: #E8F0FE;\n",
              "      border: none;\n",
              "      border-radius: 50%;\n",
              "      cursor: pointer;\n",
              "      display: none;\n",
              "      fill: #1967D2;\n",
              "      height: 32px;\n",
              "      padding: 0 0 0 0;\n",
              "      width: 32px;\n",
              "    }\n",
              "\n",
              "    .colab-df-convert:hover {\n",
              "      background-color: #E2EBFA;\n",
              "      box-shadow: 0px 1px 2px rgba(60, 64, 67, 0.3), 0px 1px 3px 1px rgba(60, 64, 67, 0.15);\n",
              "      fill: #174EA6;\n",
              "    }\n",
              "\n",
              "    .colab-df-buttons div {\n",
              "      margin-bottom: 4px;\n",
              "    }\n",
              "\n",
              "    [theme=dark] .colab-df-convert {\n",
              "      background-color: #3B4455;\n",
              "      fill: #D2E3FC;\n",
              "    }\n",
              "\n",
              "    [theme=dark] .colab-df-convert:hover {\n",
              "      background-color: #434B5C;\n",
              "      box-shadow: 0px 1px 3px 1px rgba(0, 0, 0, 0.15);\n",
              "      filter: drop-shadow(0px 1px 2px rgba(0, 0, 0, 0.3));\n",
              "      fill: #FFFFFF;\n",
              "    }\n",
              "  </style>\n",
              "\n",
              "    <script>\n",
              "      const buttonEl =\n",
              "        document.querySelector('#df-afb7743f-ec6d-4fb6-910f-64613d2d9219 button.colab-df-convert');\n",
              "      buttonEl.style.display =\n",
              "        google.colab.kernel.accessAllowed ? 'block' : 'none';\n",
              "\n",
              "      async function convertToInteractive(key) {\n",
              "        const element = document.querySelector('#df-afb7743f-ec6d-4fb6-910f-64613d2d9219');\n",
              "        const dataTable =\n",
              "          await google.colab.kernel.invokeFunction('convertToInteractive',\n",
              "                                                    [key], {});\n",
              "        if (!dataTable) return;\n",
              "\n",
              "        const docLinkHtml = 'Like what you see? Visit the ' +\n",
              "          '<a target=\"_blank\" href=https://colab.research.google.com/notebooks/data_table.ipynb>data table notebook</a>'\n",
              "          + ' to learn more about interactive tables.';\n",
              "        element.innerHTML = '';\n",
              "        dataTable['output_type'] = 'display_data';\n",
              "        await google.colab.output.renderOutput(dataTable, element);\n",
              "        const docLink = document.createElement('div');\n",
              "        docLink.innerHTML = docLinkHtml;\n",
              "        element.appendChild(docLink);\n",
              "      }\n",
              "    </script>\n",
              "  </div>\n",
              "\n",
              "\n",
              "    </div>\n",
              "  </div>\n"
            ],
            "application/vnd.google.colaboratory.intrinsic+json": {
              "type": "dataframe",
              "repr_error": "0"
            }
          },
          "metadata": {},
          "execution_count": 4
        }
      ]
    },
    {
      "cell_type": "code",
      "source": [
        "my_sites = [\"parapolitika.gr\", 'iefimerida.gr', 'protothema.gr','athensvoice.gr','cnn.gr','thetoc.gr', 'efsyn.gr','newsit.gr', 'naftemporiki.gr','lifo.gr','tovima.gr','tanea.gr', 'in.gr','newsbomb.gr','news247.gr','enikos.gr', 'skai.gr', 'zougla.gr', 'kathimerini.gr', 'ethnos.gr',]"
      ],
      "metadata": {
        "id": "j4v58RvPlIDs"
      },
      "execution_count": null,
      "outputs": []
    },
    {
      "cell_type": "code",
      "source": [
        "len(my_sites)"
      ],
      "metadata": {
        "colab": {
          "base_uri": "https://localhost:8080/"
        },
        "id": "mvSpp1oclROS",
        "outputId": "ac4394cb-3ff3-4764-9f83-0fad178ffe2b"
      },
      "execution_count": null,
      "outputs": [
        {
          "output_type": "execute_result",
          "data": {
            "text/plain": [
              "20"
            ]
          },
          "metadata": {},
          "execution_count": 6
        }
      ]
    },
    {
      "cell_type": "code",
      "source": [
        "df = df[df['source'].isin(my_sites)]\n",
        "df.head(1)"
      ],
      "metadata": {
        "colab": {
          "base_uri": "https://localhost:8080/",
          "height": 168
        },
        "id": "waEqhmwFlT8r",
        "outputId": "b49e6b20-5b9a-4960-cdc5-53f1b881206c"
      },
      "execution_count": null,
      "outputs": [
        {
          "output_type": "execute_result",
          "data": {
            "text/plain": [
              "  type     source                                              title  \\\n",
              "6  web  tovima.gr  Ευρωεκλογές 2024: Παραμένουν στην τρίτη θέση π...   \n",
              "\n",
              "                                                text               categories  \\\n",
              "6  09.06.2024\\n23:38\\nΚόσμος\\nNewsroom\\nΟι φιλελε...  ΕΥΡΩΕΚΛΟΓΕΣ - ΕΥΡΩΒΟΥΛΗ   \n",
              "\n",
              "  sentiment        date      time  \\\n",
              "6  Positive  2024-06-09  23:59:17   \n",
              "\n",
              "                                                link  \n",
              "6  https://www.tovima.gr/2024/06/09/world/eyroekl...  "
            ],
            "text/html": [
              "\n",
              "  <div id=\"df-1e7d2797-d6a9-422b-9c3f-bf893c7a4024\" class=\"colab-df-container\">\n",
              "    <div>\n",
              "<style scoped>\n",
              "    .dataframe tbody tr th:only-of-type {\n",
              "        vertical-align: middle;\n",
              "    }\n",
              "\n",
              "    .dataframe tbody tr th {\n",
              "        vertical-align: top;\n",
              "    }\n",
              "\n",
              "    .dataframe thead th {\n",
              "        text-align: right;\n",
              "    }\n",
              "</style>\n",
              "<table border=\"1\" class=\"dataframe\">\n",
              "  <thead>\n",
              "    <tr style=\"text-align: right;\">\n",
              "      <th></th>\n",
              "      <th>type</th>\n",
              "      <th>source</th>\n",
              "      <th>title</th>\n",
              "      <th>text</th>\n",
              "      <th>categories</th>\n",
              "      <th>sentiment</th>\n",
              "      <th>date</th>\n",
              "      <th>time</th>\n",
              "      <th>link</th>\n",
              "    </tr>\n",
              "  </thead>\n",
              "  <tbody>\n",
              "    <tr>\n",
              "      <th>6</th>\n",
              "      <td>web</td>\n",
              "      <td>tovima.gr</td>\n",
              "      <td>Ευρωεκλογές 2024: Παραμένουν στην τρίτη θέση π...</td>\n",
              "      <td>09.06.2024\\n23:38\\nΚόσμος\\nNewsroom\\nΟι φιλελε...</td>\n",
              "      <td>ΕΥΡΩΕΚΛΟΓΕΣ - ΕΥΡΩΒΟΥΛΗ</td>\n",
              "      <td>Positive</td>\n",
              "      <td>2024-06-09</td>\n",
              "      <td>23:59:17</td>\n",
              "      <td>https://www.tovima.gr/2024/06/09/world/eyroekl...</td>\n",
              "    </tr>\n",
              "  </tbody>\n",
              "</table>\n",
              "</div>\n",
              "    <div class=\"colab-df-buttons\">\n",
              "\n",
              "  <div class=\"colab-df-container\">\n",
              "    <button class=\"colab-df-convert\" onclick=\"convertToInteractive('df-1e7d2797-d6a9-422b-9c3f-bf893c7a4024')\"\n",
              "            title=\"Convert this dataframe to an interactive table.\"\n",
              "            style=\"display:none;\">\n",
              "\n",
              "  <svg xmlns=\"http://www.w3.org/2000/svg\" height=\"24px\" viewBox=\"0 -960 960 960\">\n",
              "    <path d=\"M120-120v-720h720v720H120Zm60-500h600v-160H180v160Zm220 220h160v-160H400v160Zm0 220h160v-160H400v160ZM180-400h160v-160H180v160Zm440 0h160v-160H620v160ZM180-180h160v-160H180v160Zm440 0h160v-160H620v160Z\"/>\n",
              "  </svg>\n",
              "    </button>\n",
              "\n",
              "  <style>\n",
              "    .colab-df-container {\n",
              "      display:flex;\n",
              "      gap: 12px;\n",
              "    }\n",
              "\n",
              "    .colab-df-convert {\n",
              "      background-color: #E8F0FE;\n",
              "      border: none;\n",
              "      border-radius: 50%;\n",
              "      cursor: pointer;\n",
              "      display: none;\n",
              "      fill: #1967D2;\n",
              "      height: 32px;\n",
              "      padding: 0 0 0 0;\n",
              "      width: 32px;\n",
              "    }\n",
              "\n",
              "    .colab-df-convert:hover {\n",
              "      background-color: #E2EBFA;\n",
              "      box-shadow: 0px 1px 2px rgba(60, 64, 67, 0.3), 0px 1px 3px 1px rgba(60, 64, 67, 0.15);\n",
              "      fill: #174EA6;\n",
              "    }\n",
              "\n",
              "    .colab-df-buttons div {\n",
              "      margin-bottom: 4px;\n",
              "    }\n",
              "\n",
              "    [theme=dark] .colab-df-convert {\n",
              "      background-color: #3B4455;\n",
              "      fill: #D2E3FC;\n",
              "    }\n",
              "\n",
              "    [theme=dark] .colab-df-convert:hover {\n",
              "      background-color: #434B5C;\n",
              "      box-shadow: 0px 1px 3px 1px rgba(0, 0, 0, 0.15);\n",
              "      filter: drop-shadow(0px 1px 2px rgba(0, 0, 0, 0.3));\n",
              "      fill: #FFFFFF;\n",
              "    }\n",
              "  </style>\n",
              "\n",
              "    <script>\n",
              "      const buttonEl =\n",
              "        document.querySelector('#df-1e7d2797-d6a9-422b-9c3f-bf893c7a4024 button.colab-df-convert');\n",
              "      buttonEl.style.display =\n",
              "        google.colab.kernel.accessAllowed ? 'block' : 'none';\n",
              "\n",
              "      async function convertToInteractive(key) {\n",
              "        const element = document.querySelector('#df-1e7d2797-d6a9-422b-9c3f-bf893c7a4024');\n",
              "        const dataTable =\n",
              "          await google.colab.kernel.invokeFunction('convertToInteractive',\n",
              "                                                    [key], {});\n",
              "        if (!dataTable) return;\n",
              "\n",
              "        const docLinkHtml = 'Like what you see? Visit the ' +\n",
              "          '<a target=\"_blank\" href=https://colab.research.google.com/notebooks/data_table.ipynb>data table notebook</a>'\n",
              "          + ' to learn more about interactive tables.';\n",
              "        element.innerHTML = '';\n",
              "        dataTable['output_type'] = 'display_data';\n",
              "        await google.colab.output.renderOutput(dataTable, element);\n",
              "        const docLink = document.createElement('div');\n",
              "        docLink.innerHTML = docLinkHtml;\n",
              "        element.appendChild(docLink);\n",
              "      }\n",
              "    </script>\n",
              "  </div>\n",
              "\n",
              "\n",
              "    </div>\n",
              "  </div>\n"
            ],
            "application/vnd.google.colaboratory.intrinsic+json": {
              "type": "dataframe",
              "variable_name": "df",
              "repr_error": "0"
            }
          },
          "metadata": {},
          "execution_count": 7
        }
      ]
    },
    {
      "cell_type": "code",
      "source": [
        "len(df)"
      ],
      "metadata": {
        "colab": {
          "base_uri": "https://localhost:8080/"
        },
        "id": "xcLLA67kS96p",
        "outputId": "9fae52fb-58e0-4f65-8245-8ed30ced7571"
      },
      "execution_count": null,
      "outputs": [
        {
          "output_type": "execute_result",
          "data": {
            "text/plain": [
              "1341"
            ]
          },
          "metadata": {},
          "execution_count": 8
        }
      ]
    },
    {
      "cell_type": "code",
      "source": [
        "df.drop_duplicates(inplace=True)\n",
        "df.dropna(inplace=True)\n",
        "df = df.reset_index(drop=True)"
      ],
      "metadata": {
        "id": "gwezQ3o-lcc0",
        "colab": {
          "base_uri": "https://localhost:8080/"
        },
        "outputId": "375276ba-ca6f-4f2e-f03c-5dcf2bd16932"
      },
      "execution_count": null,
      "outputs": [
        {
          "output_type": "stream",
          "name": "stderr",
          "text": [
            "<ipython-input-9-ca293342285f>:1: SettingWithCopyWarning: \n",
            "A value is trying to be set on a copy of a slice from a DataFrame\n",
            "\n",
            "See the caveats in the documentation: https://pandas.pydata.org/pandas-docs/stable/user_guide/indexing.html#returning-a-view-versus-a-copy\n",
            "  df.drop_duplicates(inplace=True)\n",
            "<ipython-input-9-ca293342285f>:2: SettingWithCopyWarning: \n",
            "A value is trying to be set on a copy of a slice from a DataFrame\n",
            "\n",
            "See the caveats in the documentation: https://pandas.pydata.org/pandas-docs/stable/user_guide/indexing.html#returning-a-view-versus-a-copy\n",
            "  df.dropna(inplace=True)\n"
          ]
        }
      ]
    },
    {
      "cell_type": "code",
      "source": [
        "df['full_text'] = df[['title', 'text']].agg(' '.join, axis=1)"
      ],
      "metadata": {
        "id": "B5ToDDi7m_m7"
      },
      "execution_count": null,
      "outputs": []
    },
    {
      "cell_type": "code",
      "source": [
        "df['datetime'] = df[['date', 'time']].agg(' '.join, axis=1)"
      ],
      "metadata": {
        "id": "tKNJ08lFnIiR"
      },
      "execution_count": null,
      "outputs": []
    },
    {
      "cell_type": "code",
      "source": [
        "selected_cols_df = df[[\"source\", \"title\", \"datetime\",  \"full_text\"]]\n",
        "selected_cols_df.head(1)"
      ],
      "metadata": {
        "colab": {
          "base_uri": "https://localhost:8080/",
          "height": 80
        },
        "id": "9D8dF7b8mTRO",
        "outputId": "592563a2-a9f0-4a38-98df-cf551799fe8a"
      },
      "execution_count": null,
      "outputs": [
        {
          "output_type": "execute_result",
          "data": {
            "text/plain": [
              "      source                                              title  \\\n",
              "0  tovima.gr  Ευρωεκλογές 2024: Παραμένουν στην τρίτη θέση π...   \n",
              "\n",
              "              datetime                                          full_text  \n",
              "0  2024-06-09 23:59:17  Ευρωεκλογές 2024: Παραμένουν στην τρίτη θέση π...  "
            ],
            "text/html": [
              "\n",
              "  <div id=\"df-4be7684b-3b7b-4a0f-8c4b-8b228967ac54\" class=\"colab-df-container\">\n",
              "    <div>\n",
              "<style scoped>\n",
              "    .dataframe tbody tr th:only-of-type {\n",
              "        vertical-align: middle;\n",
              "    }\n",
              "\n",
              "    .dataframe tbody tr th {\n",
              "        vertical-align: top;\n",
              "    }\n",
              "\n",
              "    .dataframe thead th {\n",
              "        text-align: right;\n",
              "    }\n",
              "</style>\n",
              "<table border=\"1\" class=\"dataframe\">\n",
              "  <thead>\n",
              "    <tr style=\"text-align: right;\">\n",
              "      <th></th>\n",
              "      <th>source</th>\n",
              "      <th>title</th>\n",
              "      <th>datetime</th>\n",
              "      <th>full_text</th>\n",
              "    </tr>\n",
              "  </thead>\n",
              "  <tbody>\n",
              "    <tr>\n",
              "      <th>0</th>\n",
              "      <td>tovima.gr</td>\n",
              "      <td>Ευρωεκλογές 2024: Παραμένουν στην τρίτη θέση π...</td>\n",
              "      <td>2024-06-09 23:59:17</td>\n",
              "      <td>Ευρωεκλογές 2024: Παραμένουν στην τρίτη θέση π...</td>\n",
              "    </tr>\n",
              "  </tbody>\n",
              "</table>\n",
              "</div>\n",
              "    <div class=\"colab-df-buttons\">\n",
              "\n",
              "  <div class=\"colab-df-container\">\n",
              "    <button class=\"colab-df-convert\" onclick=\"convertToInteractive('df-4be7684b-3b7b-4a0f-8c4b-8b228967ac54')\"\n",
              "            title=\"Convert this dataframe to an interactive table.\"\n",
              "            style=\"display:none;\">\n",
              "\n",
              "  <svg xmlns=\"http://www.w3.org/2000/svg\" height=\"24px\" viewBox=\"0 -960 960 960\">\n",
              "    <path d=\"M120-120v-720h720v720H120Zm60-500h600v-160H180v160Zm220 220h160v-160H400v160Zm0 220h160v-160H400v160ZM180-400h160v-160H180v160Zm440 0h160v-160H620v160ZM180-180h160v-160H180v160Zm440 0h160v-160H620v160Z\"/>\n",
              "  </svg>\n",
              "    </button>\n",
              "\n",
              "  <style>\n",
              "    .colab-df-container {\n",
              "      display:flex;\n",
              "      gap: 12px;\n",
              "    }\n",
              "\n",
              "    .colab-df-convert {\n",
              "      background-color: #E8F0FE;\n",
              "      border: none;\n",
              "      border-radius: 50%;\n",
              "      cursor: pointer;\n",
              "      display: none;\n",
              "      fill: #1967D2;\n",
              "      height: 32px;\n",
              "      padding: 0 0 0 0;\n",
              "      width: 32px;\n",
              "    }\n",
              "\n",
              "    .colab-df-convert:hover {\n",
              "      background-color: #E2EBFA;\n",
              "      box-shadow: 0px 1px 2px rgba(60, 64, 67, 0.3), 0px 1px 3px 1px rgba(60, 64, 67, 0.15);\n",
              "      fill: #174EA6;\n",
              "    }\n",
              "\n",
              "    .colab-df-buttons div {\n",
              "      margin-bottom: 4px;\n",
              "    }\n",
              "\n",
              "    [theme=dark] .colab-df-convert {\n",
              "      background-color: #3B4455;\n",
              "      fill: #D2E3FC;\n",
              "    }\n",
              "\n",
              "    [theme=dark] .colab-df-convert:hover {\n",
              "      background-color: #434B5C;\n",
              "      box-shadow: 0px 1px 3px 1px rgba(0, 0, 0, 0.15);\n",
              "      filter: drop-shadow(0px 1px 2px rgba(0, 0, 0, 0.3));\n",
              "      fill: #FFFFFF;\n",
              "    }\n",
              "  </style>\n",
              "\n",
              "    <script>\n",
              "      const buttonEl =\n",
              "        document.querySelector('#df-4be7684b-3b7b-4a0f-8c4b-8b228967ac54 button.colab-df-convert');\n",
              "      buttonEl.style.display =\n",
              "        google.colab.kernel.accessAllowed ? 'block' : 'none';\n",
              "\n",
              "      async function convertToInteractive(key) {\n",
              "        const element = document.querySelector('#df-4be7684b-3b7b-4a0f-8c4b-8b228967ac54');\n",
              "        const dataTable =\n",
              "          await google.colab.kernel.invokeFunction('convertToInteractive',\n",
              "                                                    [key], {});\n",
              "        if (!dataTable) return;\n",
              "\n",
              "        const docLinkHtml = 'Like what you see? Visit the ' +\n",
              "          '<a target=\"_blank\" href=https://colab.research.google.com/notebooks/data_table.ipynb>data table notebook</a>'\n",
              "          + ' to learn more about interactive tables.';\n",
              "        element.innerHTML = '';\n",
              "        dataTable['output_type'] = 'display_data';\n",
              "        await google.colab.output.renderOutput(dataTable, element);\n",
              "        const docLink = document.createElement('div');\n",
              "        docLink.innerHTML = docLinkHtml;\n",
              "        element.appendChild(docLink);\n",
              "      }\n",
              "    </script>\n",
              "  </div>\n",
              "\n",
              "\n",
              "    </div>\n",
              "  </div>\n"
            ],
            "application/vnd.google.colaboratory.intrinsic+json": {
              "type": "dataframe",
              "variable_name": "selected_cols_df",
              "summary": "{\n  \"name\": \"selected_cols_df\",\n  \"rows\": 1315,\n  \"fields\": [\n    {\n      \"column\": \"source\",\n      \"properties\": {\n        \"dtype\": \"category\",\n        \"num_unique_values\": 20,\n        \"samples\": [\n          \"tovima.gr\",\n          \"newsbomb.gr\",\n          \"naftemporiki.gr\"\n        ],\n        \"semantic_type\": \"\",\n        \"description\": \"\"\n      }\n    },\n    {\n      \"column\": \"title\",\n      \"properties\": {\n        \"dtype\": \"string\",\n        \"num_unique_values\": 1281,\n        \"samples\": [\n          \"\\u039c\\u03b5\\u03b3\\u03b1\\u03bb\\u03cd\\u03c4\\u03b5\\u03c1\\u03b7 \\u03b7 \\u03b1\\u03c0\\u03bf\\u03c7\\u03ae \\u03c3\\u03c4\\u03b7 \\u0393\\u03b5\\u03c1\\u03bc\\u03b1\\u03bd\\u03af\\u03b1 \\u03c3\\u03c5\\u03b3\\u03ba\\u03c1\\u03b9\\u03c4\\u03b9\\u03ba\\u03ac \\u03bc\\u03b5 \\u03c4\\u03b9\\u03c2 \\u03b5\\u03c5\\u03c1\\u03c9\\u03b5\\u03ba\\u03bb\\u03bf\\u03b3\\u03b9\\u03ba\\u03ad\\u03c2 \\u03c4\\u03bf\\u03c5 2019\",\n          \"\\u0391\\u03c0\\u03bf\\u03c4\\u03b5\\u03bb\\u03ad\\u03c3\\u03bc\\u03b1\\u03c4\\u03b1 \\u03b5\\u03c5\\u03c1\\u03c9\\u03b5\\u03ba\\u03bb\\u03bf\\u03b3\\u03ce\\u03bd 2024: \\u03a0\\u03ce\\u03c2 \\u03c8\\u03ae\\u03c6\\u03b9\\u03c3\\u03b5 \\u03b7 \\u039d\\u03cc\\u03c4\\u03b9\\u03b1 \\u0391\\u03c4\\u03c4\\u03b9\\u03ba\\u03ae\",\n          \"\\u03a4\\u03b5\\u03bb\\u03b9\\u03ba\\u03ae \\u03b5\\u03ba\\u03c4\\u03af\\u03bc\\u03b7\\u03c3\\u03b7 \\u03c0\\u03c1\\u03b9\\u03bd \\u03b4\\u03b7\\u03bc\\u03bf\\u03c3\\u03b9\\u03b5\\u03c5\\u03b8\\u03b5\\u03af \\u03c4\\u03bf exit poll\"\n        ],\n        \"semantic_type\": \"\",\n        \"description\": \"\"\n      }\n    },\n    {\n      \"column\": \"datetime\",\n      \"properties\": {\n        \"dtype\": \"object\",\n        \"num_unique_values\": 1197,\n        \"samples\": [\n          \"2024-06-09 19:54:21\",\n          \"2024-06-09 22:20:49\",\n          \"2024-06-09 23:26:43\"\n        ],\n        \"semantic_type\": \"\",\n        \"description\": \"\"\n      }\n    },\n    {\n      \"column\": \"full_text\",\n      \"properties\": {\n        \"dtype\": \"string\",\n        \"num_unique_values\": 1315,\n        \"samples\": [\n          \"\\u0395\\u03c5\\u03c1\\u03c9\\u03b5\\u03ba\\u03bb\\u03bf\\u03b3\\u03ad\\u03c2 2024 \\u03b1\\u03c0\\u03bf\\u03c4\\u03b5\\u03bb\\u03ad\\u03c3\\u03bc\\u03b1\\u03c4\\u03b1: \\u03a0\\u03c1\\u03ce\\u03c4\\u03b7 \\u03b7 \\u039d\\u0394 \\u03ba\\u03b1\\u03b9 \\u03c3\\u03c4\\u03bf\\u03c5\\u03c2 \\u03c4\\u03c1\\u03b5\\u03b9\\u03c2 \\u03c4\\u03bf\\u03bc\\u03b5\\u03af\\u03c2 \\u03c4\\u03b7\\u03c2 \\u0392' \\u0391\\u03b8\\u03b7\\u03bd\\u03ce\\u03bd \\u03a4\\u03b9 \\u03b4\\u03b5\\u03af\\u03c7\\u03bd\\u03bf\\u03c5\\u03bd \\u03c4\\u03b1 \\u03b1\\u03c0\\u03bf\\u03c4\\u03b5\\u03bb\\u03ad\\u03c3\\u03bc\\u03b1\\u03c4\\u03b1\\n\\u03a3\\u03c4\\u03b7 \\u03b4\\u03b5\\u03cd\\u03c4\\u03b5\\u03c1\\u03b7 \\u03b8\\u03ad\\u03c3\\u03b7 \\u03bf \\u03a3\\u03a5\\u03a1\\u0399\\u0396\\u0391 \\u03ba\\u03b1\\u03b9 \\u03c3\\u03c4\\u03b7\\u03bd \\u03c4\\u03c1\\u03af\\u03c4\\u03b7 \\u03c4\\u03bf \\u039a\\u039a\\u0395\\n\\u03a0\\u03c1\\u03ce\\u03c4\\u03b7 \\u03ba\\u03b1\\u03b9 \\u03c3\\u03c4\\u03bf\\u03c5\\u03c2 \\u03c4\\u03c1\\u03b5\\u03b9\\u03c2 \\u03c4\\u03bf\\u03bc\\u03b5\\u03af\\u03c2 \\u03c4\\u03b7\\u03c2 \\u0392' \\u0391\\u03b8\\u03b7\\u03bd\\u03ce\\u03bd \\u03b2\\u03c1\\u03af\\u03c3\\u03ba\\u03b5\\u03c4\\u03b1\\u03b9 \\u03b7 \\u039d\\u03ad\\u03b1 \\u0394\\u03b7\\u03bc\\u03bf\\u03ba\\u03c1\\u03b1\\u03c4\\u03af\\u03b1 \\u03bc\\u03b5 \\u03c4\\u03bf\\u03bd \\u03a3\\u03a5\\u03a1\\u0399\\u0396\\u0391 \\u03bd\\u03b1 \\u03b1\\u03ba\\u03bf\\u03bb\\u03bf\\u03c5\\u03b8\\u03b5\\u03af \\u03ba\\u03b1\\u03b9 \\u03c4\\u03bf \\u039a\\u039a\\u0395 \\u03bd\\u03b1 \\u03b5\\u03af\\u03bd\\u03b1\\u03b9 \\u03c4\\u03c1\\u03af\\u03c4\\u03bf. \\u03a3\\u03cd\\u03bc\\u03c6\\u03c9\\u03bd\\u03b1 \\u03bc\\u03b5 \\u03c4\\u03b1 \\u03c0\\u03c1\\u03ce\\u03c4\\u03b1 \\u03b1\\u03c0\\u03bf\\u03c4\\u03b5\\u03bb\\u03ad\\u03c3\\u03bc\\u03b1\\u03c4\\u03b1, \\u03c4\\u03c9\\u03bd\\n\\u03b5\\u03c5\\u03c1\\u03c9\\u03b5\\u03ba\\u03bb\\u03bf\\u03b3\\u03ce\\u03bd\\n\\u03c3\\u03c4\\u03bf\\u03bd \\u03b2\\u03cc\\u03c1\\u03b5\\u03b9\\u03bf \\u03c4\\u03bf\\u03bc\\u03ad\\u03b1 \\u03b7 \\u039d\\u0394 \\u03c3\\u03c5\\u03b3\\u03ba\\u03b5\\u03bd\\u03c4\\u03c1\\u03ce\\u03bd\\u03b5\\u03b9 33,92%, \\u03c3\\u03c4\\u03bf\\u03bd \\u03b4\\u03c5\\u03c4\\u03b9\\u03ba\\u03cc \\u03c4\\u03bf\\u03bc\\u03ad\\u03b1 22,50% \\u03ba\\u03b1\\u03b9 \\u03c3\\u03c4\\u03bf\\u03bd \\u03bd\\u03cc\\u03c4\\u03b9\\u03bf \\u03c4\\u03bf\\u03bc\\u03ad\\u03b1 29,49%.\\n\\u03a4\\u03b1 \\u03b1\\u03bd\\u03c4\\u03af\\u03c3\\u03c4\\u03bf\\u03b9\\u03c7\\u03b1 \\u03c0\\u03bf\\u03c3\\u03bf\\u03c3\\u03c4\\u03ac \\u03c4\\u03bf\\u03c5 \\u03a3\\u03a5\\u03a1\\u0399\\u0396\\u0391 \\u03b5\\u03af\\u03bd\\u03b1\\u03b9 15,07%, 18,89% \\u03ba\\u03b1\\u03b9 17,02%. \\u03a4\\u03b7\\u03bd \\u03af\\u03b4\\u03b9\\u03b1 \\u03ce\\u03c1\\u03b1 \\u03c4\\u03b1 \\u03c0\\u03bf\\u03c3\\u03bf\\u03c3\\u03c4\\u03ac \\u03c4\\u03bf\\u03c5 \\u039a\\u039a\\u0395 \\u03b5\\u03af\\u03bd\\u03b1\\u03b9 9,98%, 14,64% \\u03ba\\u03b1\\u03b9 11,47%.\",\n          \"\\u00ab\\u038c\\u03bb\\u03b1 \\u03b1\\u03c1\\u03c7\\u03af\\u03b6\\u03bf\\u03c5\\u03bd \\u03b1\\u03bb\\u03bb\\u03b9\\u03ce\\u03c2\\u00bb \\u2013 T\\u03bf \\u03c3\\u03ba\\u03b7\\u03bd\\u03b9\\u03ba\\u03cc \\u03bc\\u03b5\\u03c4\\u03ac \\u03c4\\u03b1 exit polls \\u0394\\u03b7\\u03bc\\u03ae\\u03c4\\u03c1\\u03b7\\u03c2 \\u03a7\\u03cc\\u03bd\\u03b4\\u03c1\\u03bf\\u03c2\\n\\u0394\\u03b7\\u03bc\\u03ae\\u03c4\\u03c1\\u03b7\\u03c2 \\u03a7\\u03cc\\u03bd\\u03b4\\u03c1\\u03bf\\u03c2\\n09.06.2024\\n19:14\\n\\u0393\\u03bd\\u03ce\\u03bc\\u03b5\\u03c2\\n\\u0394\\u03b7\\u03bc\\u03ae\\u03c4\\u03c1\\u03b7\\u03c2 \\u03a7\\u03cc\\u03bd\\u03b4\\u03c1\\u03bf\\u03c2\\n\\u0391\\u03c0\\u03cc \\u03c4\\u03b9\\u03c2 \\u03ba\\u03ac\\u03bb\\u03c0\\u03b5\\u03c2 \\u03c6\\u03b1\\u03af\\u03bd\\u03b5\\u03c4\\u03b1\\u03b9 \\u03bd\\u03b1 \\u03be\\u03b5\\u03c0\\u03c1\\u03bf\\u03b2\\u03ac\\u03bb\\u03bb\\u03b5\\u03b9 \\u03ad\\u03bd\\u03b1 \\u03bd\\u03ad\\u03bf \\u03c0\\u03bf\\u03bb\\u03b9\\u03c4\\u03b9\\u03ba\\u03cc \\u03c3\\u03ba\\u03b7\\u03bd\\u03b9\\u03ba\\u03cc - \\u0391\\u03c0\\u03cc \\u03c4\\u03b7 \\u0394\\u03b5\\u03c5\\u03c4\\u03ad\\u03c1\\u03b1 \\u00ab\\u03cc\\u03bb\\u03b1 \\u03b1\\u03c1\\u03c7\\u03af\\u03b6\\u03bf\\u03c5\\u03bd \\u03b1\\u03bb\\u03bb\\u03b9\\u03ce\\u03c2\\u00bb.\\n\\u039a\\u03ac\\u03b8\\u03b5 \\u03c0\\u03c1\\u03bf\\u03c3\\u03c0\\u03ac\\u03b8\\u03b5\\u03b9\\u03b1 \\u03b1\\u03c0\\u03bf\\u03c4\\u03cd\\u03c0\\u03c9\\u03c3\\u03b7\\u03c2 \\u03c4\\u03bf\\u03c5 \\u03bc\\u03b5\\u03c4\\u03b5\\u03ba\\u03bb\\u03bf\\u03b3\\u03b9\\u03ba\\u03bf\\u03cd \\u03c4\\u03bf\\u03c0\\u03af\\u03bf\\u03c5 \\u03bc\\u03b5 \\u03b2\\u03ac\\u03c3\\u03b7 \\u03c4\\u03b1\\nexit polls\\n\\u03c4\\u03b5\\u03bb\\u03b5\\u03af \\u03c5\\u03c0\\u03cc \\u03c4\\u03b7\\u03bd \\u03b1\\u03af\\u03c1\\u03b5\\u03c3\\u03b7 \\u03c4\\u03bf\\u03c5 \\u03b5\\u03ba\\u03bb\\u03bf\\u03b3\\u03b9\\u03ba\\u03bf\\u03cd \\u03b1\\u03c0\\u03bf\\u03c4\\u03b5\\u03bb\\u03ad\\u03c3\\u03bc\\u03b1\\u03c4\\u03bf\\u03c2. \\u0397 \\u03bc\\u03b5\\u03b3\\u03ac\\u03bb\\u03b7 \\u03b5\\u03b9\\u03ba\\u03cc\\u03bd\\u03b1, \\u03c3\\u03b5 \\u03c3\\u03c7\\u03ad\\u03c3\\u03b7 \\u03bc\\u03b5 \\u03c4\\u03b9\\u03c2 \\u03b5\\u03b8\\u03bd\\u03b9\\u03ba\\u03ad\\u03c2 \\u03b5\\u03ba\\u03bb\\u03bf\\u03b3\\u03ad\\u03c2, \\u03b4\\u03b5\\u03bd \\u03b1\\u03bb\\u03bb\\u03ac\\u03b6\\u03b5\\u03b9 \\u03b4\\u03c1\\u03b1\\u03bc\\u03b1\\u03c4\\u03b9\\u03ba\\u03ac. \\u03a9\\u03c3\\u03c4\\u03cc\\u03c3\\u03bf, \\u03b1\\u03c0\\u03cc \\u03c4\\u03b9\\u03c2 \\u03ba\\u03ac\\u03bb\\u03c0\\u03b5\\u03c2 \\u03c6\\u03b1\\u03af\\u03bd\\u03b5\\u03c4\\u03b1\\u03b9 \\u03bd\\u03b1 \\u03be\\u03b5\\u03c0\\u03c1\\u03bf\\u03b2\\u03ac\\u03bb\\u03bb\\u03b5\\u03b9 \\u03ad\\u03bd\\u03b1 \\u03bd\\u03ad\\u03bf \\u03c0\\u03bf\\u03bb\\u03b9\\u03c4\\u03b9\\u03ba\\u03cc \\u03c3\\u03ba\\u03b7\\u03bd\\u03b9\\u03ba\\u03cc. \\u03a7\\u03c9\\u03c1\\u03af\\u03c2 \\u03b1\\u03c0\\u03cc\\u03bb\\u03c5\\u03c4\\u03b5\\u03c2 \\u03c0\\u03bf\\u03bb\\u03b9\\u03c4\\u03b9\\u03ba\\u03ad\\u03c2 \\u03ba\\u03c5\\u03c1\\u03b9\\u03b1\\u03c1\\u03c7\\u03af\\u03b5\\u03c2. \\u039c\\u03b5 \\u03bd\\u03ad\\u03b1 \\u03b4\\u03b5\\u03b4\\u03bf\\u03bc\\u03ad\\u03bd\\u03b1 \\u03c3\\u03c4\\u03bf \\u03c7\\u03ce\\u03c1\\u03bf \\u03c4\\u03b7\\u03c2 \\u03ba\\u03b5\\u03bd\\u03c4\\u03c1\\u03bf\\u03b1\\u03c1\\u03b9\\u03c3\\u03c4\\u03b5\\u03c1\\u03ac\\u03c2. \\u039f\\u03b9 \\u03c0\\u03bf\\u03bb\\u03af\\u03c4\\u03b5\\u03c2 \\u03b5\\u03c0\\u03ad\\u03bb\\u03b5\\u03be\\u03b1\\u03bd \\u03bd\\u03b1 \\u03c3\\u03c4\\u03b5\\u03af\\u03bb\\u03bf\\u03c5\\u03bd \\u03ad\\u03bd\\u03b1 \\u03b4\\u03b9\\u03c0\\u03bb\\u03cc \\u03bc\\u03ae\\u03bd\\u03c5\\u03bc\\u03b1. \\u03a3\\u03b5 \\u03cc\\u03bb\\u03bf \\u03c4\\u03bf \\u03c0\\u03bf\\u03bb\\u03b9\\u03c4\\u03b9\\u03ba\\u03cc \\u03c3\\u03ba\\u03b7\\u03bd\\u03b9\\u03ba\\u03cc \\u03bc\\u03b5 \\u03c4\\u03b7\\u03bd\\n\\u03b1\\u03c0\\u03bf\\u03c7\\u03ae\\n\\u03c4\\u03bf\\u03c5\\u03c2. \\u039a\\u03b1\\u03b9 \\u03c3\\u03c4\\u03bf \\u03ba\\u03ac\\u03b8\\u03b5 \\u03ba\\u03cc\\u03bc\\u03bc\\u03b1 \\u03be\\u03b5\\u03c7\\u03c9\\u03c1\\u03b9\\u03c3\\u03c4\\u03ac \\u03bc\\u03b5 \\u03c4\\u03b7\\u03bd \\u03b5\\u03c0\\u03b9\\u03bb\\u03bf\\u03b3\\u03ae \\u03c4\\u03bf\\u03c5\\u03c2 \\u03c3\\u03c4\\u03b7\\u03bd \\u03ba\\u03ac\\u03bb\\u03c0\\u03b7. \\u0391\\u03c0\\u03cc \\u03c4\\u03b7 \\u0394\\u03b5\\u03c5\\u03c4\\u03ad\\u03c1\\u03b1 \\u00ab\\u03cc\\u03bb\\u03b1 \\u03b1\\u03c1\\u03c7\\u03af\\u03b6\\u03bf\\u03c5\\u03bd \\u03b1\\u03bb\\u03bb\\u03b9\\u03ce\\u03c2\\u00bb.\\n\\u039f\\n\\u039a\\u03c5\\u03c1\\u03b9\\u03ac\\u03ba\\u03bf\\u03c2 \\u039c\\u03b7\\u03c4\\u03c3\\u03bf\\u03c4\\u03ac\\u03ba\\u03b7\\u03c2\\n\\u03b5\\u03c0\\u03b9\\u03b2\\u03b5\\u03b2\\u03b1\\u03af\\u03c9\\u03c3\\u03b5 \\u03c4\\u03b7\\u03bd \\u03c0\\u03bf\\u03bb\\u03b9\\u03c4\\u03b9\\u03ba\\u03ae \\u03c5\\u03c0\\u03b5\\u03c1\\u03bf\\u03c7\\u03ae \\u03c4\\u03bf\\u03c5 \\u03ad\\u03bd\\u03b1\\u03bd\\u03c4\\u03b9 \\u03c4\\u03c9\\u03bd \\u03b1\\u03bd\\u03c4\\u03b9\\u03c0\\u03ac\\u03bb\\u03c9\\u03bd \\u03c4\\u03bf\\u03c5 \\u03b1\\u03bb\\u03bb\\u03ac \\u03ba\\u03b1\\u03b9 \\u03c4\\u03b1 \\u03b1\\u03bd\\u03bf\\u03b9\\u03c7\\u03c4\\u03ac \\u03c4\\u03bf\\u03c5 \\u03bc\\u03ad\\u03c4\\u03c9\\u03c0\\u03b1 \\u03bc\\u03b5 \\u03c4\\u03b7\\u03bd \\u03ba\\u03bf\\u03b9\\u03bd\\u03c9\\u03bd\\u03af\\u03b1. \\u0397 \\u039d\\u0394 \\u03b4\\u03b5\\u03bd \\u03c6\\u03b1\\u03af\\u03bd\\u03b5\\u03c4\\u03b1\\u03b9 \\u03bd\\u03b1 \\u03be\\u03b5\\u03c0\\u03b5\\u03c1\\u03bd\\u03ac \\u03c4\\u03bf\\u03bd \\u03c0\\u03ae\\u03c7\\u03b7 \\u03c4\\u03c9\\u03bd \\u03c0\\u03c1\\u03bf\\u03b7\\u03b3\\u03bf\\u03cd\\u03bc\\u03b5\\u03bd\\u03c9\\u03bd \\u03b5\\u03ba\\u03bb\\u03bf\\u03b3\\u03ce\\u03bd \\u03b8\\u03b1 \\u03ba\\u03b9\\u03bd\\u03b7\\u03b8\\u03b5\\u03af \\u03ba\\u03bf\\u03bd\\u03c4\\u03ac \\u03c3\\u03c4\\u03bf 30%. \\u0391\\u03c5\\u03c4\\u03cc \\u03c3\\u03c5\\u03bd\\u03b9\\u03c3\\u03c4\\u03ac \\u03ad\\u03bd\\u03b1 \\u03bc\\u03ae\\u03bd\\u03c5\\u03bc\\u03b1 \\u03b4\\u03c5\\u03c3\\u03b1\\u03c1\\u03ad\\u03c3\\u03ba\\u03b5\\u03b9\\u03b1\\u03c2 \\u03c0\\u03bf\\u03c5 \\u03b4\\u03b5\\u03bd \\u03bc\\u03c0\\u03bf\\u03c1\\u03b5\\u03af \\u03bd\\u03b1 \\u03c0\\u03b5\\u03c1\\u03ac\\u03c3\\u03b5\\u03b9 \\u03b1\\u03c0\\u03b1\\u03c1\\u03b1\\u03c4\\u03ae\\u03c1\\u03b7\\u03c4\\u03bf. \\u0397 \\u03c6\\u03b8\\u03bf\\u03c1\\u03ac \\u03ba\\u03b1\\u03c4\\u03ac\\u03c6\\u03b5\\u03c1\\u03b5 \\u03bd\\u03b1 \\u03c0\\u03b5\\u03c1\\u03ac\\u03c3\\u03b5\\u03b9 \\u03c4\\u03b7\\u03bd \\u03ba\\u03c5\\u03b2\\u03b5\\u03c1\\u03bd\\u03b7\\u03c4\\u03b9\\u03ba\\u03ae \\u03c0\\u03b1\\u03bd\\u03bf\\u03c0\\u03bb\\u03af\\u03b1 \\u03ba\\u03b1\\u03b9 \\u03b1\\u03c5\\u03c4\\u03cc \\u03b5\\u03af\\u03bd\\u03b1\\u03b9 \\u03ad\\u03bd\\u03b1 \\u03b1\\u03bd\\u03b7\\u03c3\\u03c5\\u03c7\\u03b7\\u03c4\\u03b9\\u03ba\\u03cc \\u03bc\\u03ae\\u03bd\\u03c5\\u03bc\\u03b1 \\u03b3\\u03b9\\u03b1 \\u03c4\\u03bf \\u039c\\u03ad\\u03b3\\u03b1\\u03c1\\u03bf \\u039c\\u03b1\\u03be\\u03af\\u03bc\\u03bf\\u03c5. \\u039f \\u03b4\\u03c1\\u03cc\\u03bc\\u03bf\\u03c2 \\u03c0\\u03c1\\u03bf\\u03c2 \\u03c4\\u03b9\\u03c2 \\u03b5\\u03c0\\u03cc\\u03bc\\u03b5\\u03bd\\u03b5\\u03c2 \\u03b5\\u03b8\\u03bd\\u03b9\\u03ba\\u03ad\\u03c2 \\u03b5\\u03ba\\u03bb\\u03bf\\u03b3\\u03ad\\u03c2 \\u03b1\\u03c0\\u03ad\\u03ba\\u03c4\\u03b7\\u03c3\\u03b5 \\u03ad\\u03bd\\u03b1 \\u03bc\\u03b5\\u03b3\\u03b1\\u03bb\\u03cd\\u03c4\\u03b5\\u03c1\\u03bf \\u03b2\\u03b1\\u03b8\\u03bc\\u03cc \\u03b4\\u03c5\\u03c3\\u03ba\\u03bf\\u03bb\\u03af\\u03b1\\u03c2 \\u03b3\\u03b9\\u03b1 \\u03c4\\u03bf\\u03bd \\u039a\\u03c5\\u03c1\\u03b9\\u03ac\\u03ba\\u03bf \\u039c\\u03b7\\u03c4\\u03c3\\u03bf\\u03c4\\u03ac\\u03ba\\u03b7. \\u0394\\u03b5\\u03bd \\u03b5\\u03af\\u03bd\\u03b1\\u03b9 \\u03bc\\u03b9\\u03ba\\u03c1\\u03cc \\u03c0\\u03c1\\u03ac\\u03b3\\u03bc\\u03b1 \\u03b7 \\u03b1\\u03c0\\u03ce\\u03bb\\u03b5\\u03b9\\u03b1 10 \\u03bc\\u03bf\\u03bd\\u03ac\\u03b4\\u03c9\\u03bd \\u03bc\\u03ad\\u03c3\\u03b1 \\u03c3\\u03b5 \\u03ad\\u03bd\\u03b1 \\u03c7\\u03c1\\u03cc\\u03bd\\u03bf.\\n\\u03a4\\u03b1 \\u03b2\\u03bb\\u03ad\\u03bc\\u03bc\\u03b1\\u03c4\\u03b1, \\u03c3\\u03c4\\u03c1\\u03ad\\u03c6\\u03bf\\u03bd\\u03c4\\u03b1\\u03b9 \\u03c3\\u03c4\\u03bf\\u03bd\\n\\u03a3\\u03c4\\u03ad\\u03c6\\u03b1\\u03bd\\u03bf \\u039a\\u03b1\\u03c3\\u03c3\\u03b5\\u03bb\\u03ac\\u03ba\\u03b7\\n. \\u0394\\u03b5\\u03bd \\u03c6\\u03b1\\u03af\\u03bd\\u03b5\\u03c4\\u03b1\\u03b9 \\u03bd\\u03b1 \\u03c0\\u03b1\\u03af\\u03c1\\u03bd\\u03b5\\u03b9 \\u03c0\\u03bf\\u03c3\\u03bf\\u03c3\\u03c4\\u03cc \\u03c0\\u03ac\\u03bd\\u03c9 \\u03b1\\u03c0\\u03cc 20%, \\u03cc\\u03c0\\u03c9\\u03c2 \\u03b8\\u03b1 \\u03ae\\u03b8\\u03b5\\u03bb\\u03b5, \\u03ba\\u03b9\\u03bd\\u03b5\\u03af\\u03c4\\u03b1\\u03b9 \\u03ba\\u03ac\\u03c4\\u03c9 \\u03b1\\u03c0\\u03cc \\u03c4\\u03b9\\u03c2 \\u03b5\\u03c0\\u03b9\\u03b4\\u03cc\\u03c3\\u03b5\\u03b9\\u03c2 \\u03c4\\u03bf\\u03c5 \\u03a3\\u03a5\\u03a1\\u0399\\u0396\\u0391 \\u03c3\\u03c4\\u03b9\\u03c2 \\u03b5\\u03b8\\u03bd\\u03b9\\u03ba\\u03ad\\u03c2 \\u03b5\\u03ba\\u03bb\\u03bf\\u03b3\\u03ad\\u03c2 \\u03b1\\u03bb\\u03bb\\u03ac \\u03ad\\u03c7\\u03b5\\u03b9 \\u03c4\\u03b7 \\u03bc\\u03c0\\u03ac\\u03bb\\u03b1 \\u03c3\\u03c4\\u03b1 \\u03c0\\u03cc\\u03b4\\u03b9\\u03b1 \\u03c4\\u03bf\\u03c5. \\u039a\\u03b1\\u03c4\\u03ac\\u03c6\\u03b5\\u03c1\\u03b5 \\u03bd\\u03b1 \\u03b5\\u03af\\u03bd\\u03b1\\u03b9 \\u03c3\\u03c4\\u03b7 \\u03b4\\u03b5\\u03cd\\u03c4\\u03b5\\u03c1\\u03b7 \\u03b8\\u03ad\\u03c3\\u03b7 \\u03b1\\u03c6\\u03ae\\u03bd\\u03bf\\u03bd\\u03c4\\u03b1\\u03c2 \\u03c4\\u03c1\\u03af\\u03c4\\u03bf, \\u03bc\\u03b5 \\u03b4\\u03b9\\u03b1\\u03c6\\u03bf\\u03c1\\u03ac, \\u03c4\\u03bf \\u03a0\\u03b1\\u03a3\\u03bf\\u039a. \\u039f \\u03ba. \\u039a\\u03b1\\u03c3\\u03c3\\u03b5\\u03bb\\u03ac\\u03ba\\u03b7\\u03c2 \\u03bc\\u03b5 \\u03c4\\u03b7\\u03bd \\u03b5\\u03ba\\u03bb\\u03bf\\u03b3\\u03b9\\u03ba\\u03ae \\u03c4\\u03bf\\u03c5 \\u03b5\\u03c0\\u03af\\u03b4\\u03bf\\u03c3\\u03b7, \\u03c0\\u03bf\\u03c5 \\u03c3\\u03b5 \\u03bc\\u03b5\\u03b3\\u03ac\\u03bb\\u03bf \\u03b2\\u03b1\\u03b8\\u03bc\\u03cc \\u03b5\\u03af\\u03bd\\u03b1\\u03b9 \\u03c0\\u03c1\\u03bf\\u03c3\\u03c9\\u03c0\\u03b9\\u03ba\\u03ae, \\u03bc\\u03c0\\u03ae\\u03ba\\u03b5 \\u03c3\\u03c4\\u03b7 \\u03b8\\u03ad\\u03c3\\u03b7 \\u03c4\\u03bf\\u03c5 \\u03bf\\u03b4\\u03b7\\u03b3\\u03bf\\u03cd \\u03c4\\u03c9\\u03bd \\u03b5\\u03be\\u03b5\\u03bb\\u03af\\u03be\\u03b5\\u03c9\\u03bd \\u03c3\\u03c4\\u03b7\\u03bd \\u03ba\\u03b5\\u03bd\\u03c4\\u03c1\\u03bf\\u03b1\\u03c1\\u03b9\\u03c3\\u03c4\\u03b5\\u03c1\\u03ac. \\u03a4\\u03bf \\u03b5\\u03c1\\u03ce\\u03c4\\u03b7\\u03bc\\u03b1 \\u03b5\\u03af\\u03bd\\u03b1\\u03b9 \\u03c0\\u03bf\\u03b9\\u03b5\\u03c2 \\u03b8\\u03b1 \\u03b5\\u03af\\u03bd\\u03b1\\u03b9 \\u03bf\\u03b9 \\u03b5\\u03c0\\u03cc\\u03bc\\u03b5\\u03bd\\u03b5\\u03c2 \\u03ba\\u03b9\\u03bd\\u03ae\\u03c3\\u03b5\\u03b9\\u03c2 \\u03c4\\u03bf\\u03c5. \\u039c\\u03b5 \\u03c0\\u03bf\\u03b9\\u03b1 \\u03c4\\u03b1\\u03c7\\u03cd\\u03c4\\u03b7\\u03c4\\u03b1 \\u03b8\\u03b1 \\u03c0\\u03c1\\u03bf\\u03c7\\u03c9\\u03c1\\u03ae\\u03c3\\u03b5\\u03b9 \\u03c3\\u03c4\\u03b7 \\u03b4\\u03b7\\u03bc\\u03b9\\u03bf\\u03c5\\u03c1\\u03b3\\u03af\\u03b1 \\u03c4\\u03b7\\u03c2 \\u03b4\\u03b9\\u03ba\\u03ae\\u03c2 \\u03c4\\u03bf\\u03c5 \\u00ab\\u03c0\\u03c1\\u03bf\\u03bf\\u03b4\\u03b5\\u03c5\\u03c4\\u03b9\\u03ba\\u03ae\\u03c2 \\u03c0\\u03b1\\u03c1\\u03ac\\u03c4\\u03b1\\u03be\\u03b7\\u03c2\\u00bb. \\u03a4\\u03b9 \\u03b1\\u03bd\\u03b1\\u03c4\\u03b1\\u03c1\\u03ac\\u03be\\u03b5\\u03b9\\u03c2 \\u03b8\\u03b1 \\u03c0\\u03c1\\u03bf\\u03ba\\u03b1\\u03bb\\u03ad\\u03c3\\u03b5\\u03b9 \\u03ba\\u03b1\\u03b9 \\u03c4\\u03b9 \\u03b1\\u03bd\\u03c4\\u03b9\\u03b4\\u03c1\\u03ac\\u03c3\\u03b5\\u03b9\\u03c2 \\u03b8\\u03b1 \\u03c3\\u03c5\\u03bd\\u03b1\\u03bd\\u03c4\\u03ae\\u03c3\\u03b5\\u03b9. \\u03a3\\u03b5 \\u03ba\\u03ac\\u03b8\\u03b5 \\u03c0\\u03b5\\u03c1\\u03af\\u03c0\\u03c4\\u03c9\\u03c3\\u03b7 \\u03bf \\u03a3\\u03a5\\u03a1\\u0399\\u0396\\u0391 \\u03b5\\u03b9\\u03c3\\u03ad\\u03c1\\u03c7\\u03b5\\u03c4\\u03b1\\u03b9 \\u03c3\\u03b5 \\u03ad\\u03bd\\u03b1 \\u03bd\\u03ad\\u03bf \\u03ba\\u03b5\\u03c6\\u03ac\\u03bb\\u03b1\\u03b9\\u03bf \\u03c4\\u03b7\\u03c2 \\u03b9\\u03c3\\u03c4\\u03bf\\u03c1\\u03af\\u03b1\\u03c2 \\u03c4\\u03bf\\u03c5.\\n\\u03a4\\u03bf\\n\\u03a0\\u03b1\\u03a3\\u03bf\\u039a\\n\\u03b4\\u03b5\\u03af\\u03c7\\u03bd\\u03b5\\u03b9 \\u03bd\\u03b1 \\u03ba\\u03b9\\u03bd\\u03b5\\u03af\\u03c4\\u03b1\\u03b9 \\u03ba\\u03bf\\u03bd\\u03c4\\u03ac \\u03c3\\u03c4\\u03b7\\u03bd \\u03b5\\u03c0\\u03af\\u03b4\\u03bf\\u03c3\\u03b7 \\u03c0\\u03bf\\u03c5 \\u03b5\\u03af\\u03c7\\u03b5 \\u03c3\\u03c4\\u03b9\\u03c2 \\u03b5\\u03b8\\u03bd\\u03b9\\u03ba\\u03ad\\u03c2 \\u03b5\\u03ba\\u03bb\\u03bf\\u03b3\\u03ad\\u03c2. \\u0394\\u03b5\\u03bd \\u03ba\\u03b1\\u03c4\\u03ac\\u03c6\\u03b5\\u03c1\\u03b5, \\u03cc\\u03bc\\u03c9\\u03c2 \\u03bd\\u03b1 \\u03b1\\u03bd\\u03b1\\u03c4\\u03c1\\u03ad\\u03c8\\u03b5\\u03b9 \\u03c4\\u03bf\\u03c5\\u03c2 \\u03c3\\u03c5\\u03c3\\u03c7\\u03b5\\u03c4\\u03b9\\u03c3\\u03bc\\u03bf\\u03cd\\u03c2 \\u03c3\\u03c4\\u03bf\\u03bd \\u03ba\\u03b5\\u03bd\\u03c4\\u03c1\\u03bf\\u03b1\\u03c1\\u03b9\\u03c3\\u03c4\\u03b5\\u03c1\\u03cc \\u03c7\\u03ce\\u03c1\\u03bf, \\u03bd\\u03b1 \\u03c0\\u03ac\\u03c1\\u03b5\\u03b9 \\u03c4\\u03b7 \\u03b4\\u03b5\\u03cd\\u03c4\\u03b5\\u03c1\\u03b7 \\u03b8\\u03ad\\u03c3\\u03b7. \\u039f\\u03b9 \\u03ba\\u03ac\\u03bb\\u03c0\\u03b5\\u03c2 \\u03b4\\u03b5\\u03bd \\u03bc\\u03b5\\u03c4\\u03ad\\u03b4\\u03c9\\u03c3\\u03b1\\u03bd, \\u03cc\\u03c0\\u03c9\\u03c2 \\u03b8\\u03b1 \\u03ae\\u03b8\\u03b5\\u03bb\\u03b5 \\u03b7 \\u03b7\\u03b3\\u03b5\\u03c3\\u03af\\u03b1 \\u03ba\\u03b1\\u03b9 \\u03b7 \\u03b2\\u03ac\\u03c3\\u03b7 \\u03c4\\u03bf\\u03c5, \\u03c4\\u03bf \\u03bc\\u03ae\\u03bd\\u03c5\\u03bc\\u03b1 \\u03b5\\u03bd\\u03cc\\u03c2 \\u03ba\\u03cc\\u03bc\\u03bc\\u03b1\\u03c4\\u03bf\\u03c2 \\u03c0\\u03bf\\u03c5 \\u03b2\\u03c1\\u03af\\u03c3\\u03ba\\u03b5\\u03c4\\u03b1\\u03b9 \\u03c3\\u03b5 \\u03ac\\u03bd\\u03bf\\u03b4\\u03bf \\u03b1\\u03bb\\u03bb\\u03ac \\u03b5\\u03bd\\u03cc\\u03c2 \\u03ba\\u03cc\\u03bc\\u03bc\\u03b1\\u03c4\\u03bf\\u03c2 \\u03c0\\u03bf\\u03c5 \\u03b8\\u03b1 \\u03bc\\u03c0\\u03b5\\u03b9 \\u03c3\\u03b5 \\u03c3\\u03c5\\u03b6\\u03b7\\u03c4\\u03ae\\u03c3\\u03b5\\u03b9\\u03c2 \\u03b3\\u03b9\\u03b1 \\u03c4\\u03bf \\u03bc\\u03ad\\u03bb\\u03bb\\u03bf\\u03bd \\u03c4\\u03bf\\u03c5. \\u038a\\u03c3\\u03c9\\u03c2 \\u03ba\\u03b1\\u03b9 \\u03c3\\u03b5 \\u03ad\\u03bd\\u03b1 \\u03ba\\u03cd\\u03ba\\u03bb\\u03bf \\u03b5\\u03c3\\u03c9\\u03c3\\u03c4\\u03c1\\u03ad\\u03c6\\u03b5\\u03b9\\u03b1\\u03c2. \\u03a3\\u03b5 \\u03ba\\u03ac\\u03b8\\u03b5 \\u03c0\\u03b5\\u03c1\\u03af\\u03c0\\u03c4\\u03c9\\u03c3\\u03b7, \\u03c4\\u03bf \\u03c0\\u03b5\\u03c1\\u03b9\\u03b8\\u03ce\\u03c1\\u03b9\\u03bf \\u03c0\\u03bf\\u03c5 \\u03ad\\u03c7\\u03b5\\u03b9 \\u03bf \\u039d\\u03af\\u03ba\\u03bf\\u03c2 \\u0391\\u03bd\\u03b4\\u03c1\\u03bf\\u03c5\\u03bb\\u03ac\\u03ba\\u03b7\\u03c2 \\u03b3\\u03b9\\u03b1 \\u03c4\\u03b7\\u03bd \\u03b1\\u03bd\\u03ac\\u03bb\\u03b7\\u03c8\\u03b7 \\u03c0\\u03c1\\u03c9\\u03c4\\u03bf\\u03b2\\u03bf\\u03c5\\u03bb\\u03b9\\u03ce\\u03bd \\u03b3\\u03b9\\u03b1 \\u03c0\\u03c1\\u03c9\\u03c4\\u03bf\\u03b2\\u03bf\\u03c5\\u03bb\\u03b9\\u03ce\\u03bd \\u03c3\\u03c4\\u03bf\\u03bd \\u03ba\\u03b5\\u03bd\\u03c4\\u03c1\\u03bf\\u03b1\\u03c1\\u03b9\\u03c3\\u03c4\\u03b5\\u03c1\\u03cc \\u03c7\\u03ce\\u03c1\\u03bf \\u03ad\\u03c7\\u03b5\\u03b9 \\u03c0\\u03b5\\u03c1\\u03b9\\u03bf\\u03c1\\u03b9\\u03c3\\u03c4\\u03b5\\u03af.\\n\\u03a3\\u03c4\\u03b9\\u03c2 \\u03b5\\u03be\\u03b5\\u03bb\\u03af\\u03be\\u03b5\\u03b9\\u03c2 \\u03c3\\u03c4\\u03b7\\u03bd \\u03ba\\u03b5\\u03bd\\u03c4\\u03c1\\u03bf\\u03b1\\u03c1\\u03b9\\u03c3\\u03c4\\u03b5\\u03c1\\u03ac \\u03b8\\u03b1 \\u03c0\\u03c1\\u03ad\\u03c0\\u03b5\\u03b9 \\u03bd\\u03b1 \\u03c3\\u03c5\\u03bd\\u03c5\\u03c0\\u03bf\\u03bb\\u03bf\\u03b3\\u03b9\\u03c3\\u03c4\\u03b5\\u03af \\u03b7 \\u03b1\\u03c0\\u03bf\\u03c4\\u03c5\\u03c7\\u03af\\u03b1 \\u03c4\\u03b7\\u03c2 \\u039d\\u03ad\\u03b1\\u03c2 \\u0391\\u03c1\\u03b9\\u03c3\\u03c4\\u03b5\\u03c1\\u03ac\\u03c2 \\u03bd\\u03b1 \\u03b5\\u03ba\\u03bb\\u03ad\\u03be\\u03b5\\u03b9 \\u03b5\\u03c5\\u03c1\\u03c9\\u03b2\\u03bf\\u03c5\\u03bb\\u03b5\\u03c5\\u03c4\\u03ae. \\u0397 \\u03c0\\u03c1\\u03ce\\u03c4\\u03b7 \\u03c4\\u03b7\\u03c2 \\u03b5\\u03ba\\u03bb\\u03bf\\u03b3\\u03b9\\u03ba\\u03ae \\u03c4\\u03b7\\u03c2 \\u03c0\\u03c1\\u03bf\\u03c3\\u03c0\\u03ac\\u03b8\\u03b5\\u03b9\\u03b1, \\u03cc\\u03c0\\u03c9\\u03c2 \\u03ba\\u03b1\\u03b9 \\u03b1\\u03c5\\u03c4\\u03ae \\u03c4\\u03c9\\u03bd \\u00ab\\u0394\\u03b7\\u03bc\\u03bf\\u03ba\\u03c1\\u03b1\\u03c4\\u03ce\\u03bd\\u00bb \\u03c4\\u03bf\\u03c5 \\u0391\\u03bd\\u03b4\\u03c1\\u03ad\\u03b1 \\u039b\\u03bf\\u03b2\\u03ad\\u03b4\\u03c1\\u03bf\\u03c5 \\u03b4\\u03b5\\u03bd \\u03c3\\u03c4\\u03ad\\u03c6\\u03b8\\u03b7\\u03ba\\u03b5 \\u03bc\\u03b5 \\u03b5\\u03c0\\u03b9\\u03c4\\u03c5\\u03c7\\u03af\\u03b1. \\u0398\\u03b1 \\u03ad\\u03c7\\u03b5\\u03b9 \\u03b5\\u03bd\\u03b4\\u03b9\\u03b1\\u03c6\\u03ad\\u03c1\\u03bf\\u03bd \\u03b7 \\u03c4\\u03b5\\u03bb\\u03b9\\u03ba\\u03ae \\u03ad\\u03ba\\u03b2\\u03b1\\u03c3\\u03b7 \\u03c4\\u03b7\\u03c2 \\u03bc\\u03ac\\u03c7\\u03b7\\u03c2 \\u03c4\\u03bf\\u03c5\\n\\u039a\\u039a\\u0395\\n\\u03bc\\u03b5 \\u03c4\\u03b7\\u03bd \\u00ab\\u0395\\u03bb\\u03bb\\u03b7\\u03bd\\u03b9\\u03ba\\u03ae \\u039b\\u03cd\\u03c3\\u03b7\\u00bb \\u03b3\\u03b9\\u03b1 \\u03c4\\u03b7\\u03bd \\u03c4\\u03ad\\u03c4\\u03b1\\u03c1\\u03c4\\u03b7 \\u03b8\\u03ad\\u03c3\\u03b7. \\u0388\\u03c7\\u03b5\\u03b9 \\u03c4\\u03b7 \\u03c3\\u03b7\\u03bc\\u03b1\\u03c3\\u03af\\u03b1 \\u03c4\\u03bf\\u03c5 \\u03ba\\u03b1\\u03b9 \\u03c4\\u03bf \\u03cc\\u03c4\\u03b9 \\u03ba\\u03b1\\u03bd\\u03ad\\u03bd\\u03b1 \\u03b1\\u03c0\\u03cc \\u03c4\\u03b1 \\u03ba\\u03cc\\u03bc\\u03bc\\u03b1\\u03c4\\u03b1 \\u03c0\\u03bf\\u03c5 \\u03b5\\u03af\\u03bd\\u03b1\\u03b9 \\u03b5\\u03ba\\u03c4\\u03cc\\u03c2 \\u0392\\u03bf\\u03c5\\u03bb\\u03ae\\u03c2 \\u03b4\\u03b5\\u03bd \\u03c6\\u03b1\\u03af\\u03bd\\u03b5\\u03c4\\u03b1\\u03b9 \\u03bd\\u03b1 \\u03ba\\u03b1\\u03c4\\u03b1\\u03c6\\u03ad\\u03c1\\u03bd\\u03b5\\u03b9 \\u03bd\\u03b1 \\u03b5\\u03ba\\u03bb\\u03ad\\u03be\\u03b5\\u03b9 \\u03b5\\u03c5\\u03c1\\u03c9\\u03b2\\u03bf\\u03c5\\u03bb\\u03b5\\u03c5\\u03c4\\u03ae, \\u03b1\\u03bb\\u03bb\\u03ac \\u03ba\\u03b1\\u03b9 \\u03c4\\u03bf \\u03c0\\u03bf\\u03c3\\u03bf\\u03c3\\u03c4\\u03cc \\u03b3\\u03cd\\u03c1\\u03c9 \\u03c3\\u03c4\\u03bf 17% \\u03c0\\u03bf\\u03c5 \\u03b1\\u03bd\\u03b1\\u03bc\\u03ad\\u03bd\\u03b5\\u03c4\\u03b1\\u03b9 \\u03bd\\u03b1 \\u03c3\\u03c5\\u03b3\\u03ba\\u03b5\\u03bd\\u03c4\\u03c1\\u03ce\\u03c3\\u03bf\\u03c5\\u03bd \\u03c4\\u03b1 \\u03ba\\u03cc\\u03bc\\u03bc\\u03b1\\u03c4\\u03b1 \\u03b4\\u03b5\\u03be\\u03b9\\u03ac \\u03c4\\u03b7\\u03c2 \\u039d\\u0394\\n\\u03b5\\u03c5\\u03c1\\u03c9\\u03b5\\u03ba\\u03bb\\u03bf\\u03b3\\u03ad\\u03c2\\n\\u0395\\u03c5\\u03c1\\u03c9\\u03b5\\u03ba\\u03bb\\u03bf\\u03b3\\u03ad\\u03c2 2024\\n\\u039a\\u03c5\\u03c1\\u03b9\\u03ac\\u03ba\\u03bf\\u03c2 \\u039c\\u03b7\\u03c4\\u03c3\\u03bf\\u03c4\\u03ac\\u03ba\\u03b7\\u03c2\\n\\u03a3\\u03c4\\u03ad\\u03c6\\u03b1\\u03bd\\u03bf\\u03c2 \\u039a\\u03b1\\u03c3\\u03c3\\u03b5\\u03bb\\u03ac\\u03ba\\u03b7\\u03c2\\n\\u039a\\u039a\\u0395\\n\\u03a0\\u0391\\u03a3\\u039f\\u039a\\n\\u03b1\\u03c0\\u03bf\\u03c7\\u03ae\\n\\u0391\\u03ba\\u03bf\\u03bb\\u03bf\\u03cd\\u03b8\\u03b7\\u03c3\\u03b5 \\u03c4\\u03bf \\u0392\\u03ae\\u03bc\\u03b1 \\u03c3\\u03c4\\u03bf\\nGoogle news\\n\\u03ba\\u03b1\\u03b9 \\u03bc\\u03ac\\u03b8\\u03b5 \\u03cc\\u03bb\\u03b5\\u03c2 \\u03c4\\u03b9\\u03c2\\n\\u03c4\\u03b5\\u03bb\\u03b5\\u03c5\\u03c4\\u03b1\\u03af\\u03b5\\u03c2 \\u03b5\\u03b9\\u03b4\\u03ae\\u03c3\\u03b5\\u03b9\\u03c2\\n.\\n\\u03a3\\u03c7\\u03b5\\u03c4\\u03b9\\u03ba\\u03ac \\u03ac\\u03c1\\u03b8\\u03c1\\u03b1\\nExit Poll: \\u03a0\\u03c1\\u03ce\\u03c4\\u03b7 \\u03b7 \\u039d\\u0394 (28% \\u2013 32%), \\u03ba\\u03b1\\u03b8\\u03b1\\u03c1\\u03ac \\u03b4\\u03b5\\u03cd\\u03c4\\u03b5\\u03c1\\u03bf\\u03c2 \\u03bf \\u03a3\\u03a5\\u03a1\\u0399\\u0396\\u0391 (15,2% \\u2013 18,2%) \\u2013 \\u039c\\u03ac\\u03c7\\u03b7 \\u03b3\\u03b9\\u03b1 \\u039d\\u0399\\u039a\\u0397, \\u03a0\\u03bb\\u03b5\\u03cd\\u03c3\\u03b7 \\u0395\\u03bb\\u03b5\\u03c5\\u03b8\\u03b5\\u03c1\\u03af\\u03b1\\u03c2\\n09.06.2024, 19:01\\nExit poll: \\u039f\\u03b9 \\u03ad\\u03b4\\u03c1\\u03b5\\u03c2 \\u03c0\\u03bf\\u03c5 \\u03b2\\u03b3\\u03ac\\u03b6\\u03bf\\u03c5\\u03bd \\u03c4\\u03b1 \\u03ba\\u03cc\\u03bc\\u03bc\\u03b1\\u03c4\\u03b1\\n09.06.2024, 18:59\\n\\u0394\\u03b7\\u03bc\\u03ae\\u03c4\\u03c1\\u03b7\\u03c2 \\u03a7\\u03cc\\u03bd\\u03b4\\u03c1\\u03bf\\u03c2\",\n          \"\\u0395\\u03c5\\u03c1\\u03c9\\u03b5\\u03ba\\u03bb\\u03bf\\u03b3\\u03ad\\u03c2: \\u03a3\\u03c4\\u03b9\\u03c2 20:20 \\u03c4\\u03b1 \\u03c0\\u03c1\\u03ce\\u03c4\\u03b1 \\u03b1\\u03c3\\u03c6\\u03b1\\u03bb\\u03ae \\u03b1\\u03c0\\u03bf\\u03c4\\u03b5\\u03bb\\u03ad\\u03c3\\u03bc\\u03b1\\u03c4\\u03b1 \\u03a3\\u03cd\\u03bc\\u03c6\\u03c9\\u03bd\\u03b1 \\u03bc\\u03b5 \\u03c3\\u03c4\\u03b5\\u03bb\\u03ad\\u03c7\\u03b7 \\u03c4\\u03b7\\u03c2 Singular Logic, \\u03bb\\u03cc\\u03b3\\u03c9 \\u03c4\\u03b7\\u03c2 \\u03bc\\u03b5\\u03b3\\u03ac\\u03bb\\u03b7\\u03c2 \\u03b1\\u03c0\\u03bf\\u03c7\\u03ae\\u03c2, \\u03b1\\u03bd\\u03c4\\u03af \\u03b3\\u03b9\\u03b1 \\u03c4\\u03b9\\u03c2 21:00, \\u03b7 \\u03b5\\u03ba\\u03c4\\u03af\\u03bc\\u03b7\\u03c3\\u03b7 \\u03b3\\u03b9\\u03b1 \\u03c4\\u03bf \\u03c4\\u03b5\\u03bb\\u03b9\\u03ba\\u03cc \\u03b1\\u03c0\\u03bf\\u03c4\\u03ad\\u03bb\\u03b5\\u03c3\\u03bc\\u03b1 \\u03b1\\u03bd\\u03b1\\u03bc\\u03ad\\u03bd\\u03b5\\u03c4\\u03b1\\u03b9 \\u03c3\\u03c4\\u03b9\\u03c2 20:20 \\u03ae \\u03ba\\u03b1\\u03b9 \\u03bd\\u03c9\\u03c1\\u03af\\u03c4\\u03b5\\u03c1\\u03b1\\nNewsroom\\n\\u03a3\\u03b1\\u03c1\\u03ac\\u03bd\\u03c4\\u03b1 \\u03bb\\u03b5\\u03c0\\u03c4\\u03ac \\u03bd\\u03c9\\u03c1\\u03af\\u03c4\\u03b5\\u03c1\\u03b1, \\u03c3\\u03b5 \\u03c3\\u03c7\\u03ad\\u03c3\\u03b7 \\u03bc\\u03b5 \\u03c4\\u03b9\\u03c2 \\u03c0\\u03c1\\u03bf\\u03b7\\u03b3\\u03bf\\u03cd\\u03bc\\u03b5\\u03bd\\u03b5\\u03c2 \\u03b5\\u03ba\\u03c4\\u03b9\\u03bc\\u03ae\\u03c3\\u03b5\\u03b9\\u03c2, \\u03b1\\u03bd\\u03b1\\u03bc\\u03ad\\u03bd\\u03b5\\u03c4\\u03b1\\u03b9 \\u03bd\\u03b1 \\u03b1\\u03bd\\u03b1\\u03ba\\u03bf\\u03b9\\u03bd\\u03c9\\u03b8\\u03b5\\u03af \\u03c4\\u03bf \\u03c0\\u03c1\\u03ce\\u03c4\\u03bf \\u03b1\\u03c3\\u03c6\\u03b1\\u03bb\\u03ad\\u03c2 \\u03b1\\u03c0\\u03bf\\u03c4\\u03ad\\u03bb\\u03b5\\u03c3\\u03bc\\u03b1 \\u03c4\\u03c9\\u03bd\\n\\u03b5\\u03c5\\u03c1\\u03c9\\u03b5\\u03ba\\u03bb\\u03bf\\u03b3\\u03ce\\u03bd\\n.\\n\\u03a3\\u03cd\\u03bc\\u03c6\\u03c9\\u03bd\\u03b1 \\u03bc\\u03b5 \\u03c3\\u03c4\\u03b5\\u03bb\\u03ad\\u03c7\\u03b7 \\u03c4\\u03b7\\u03c2 Singular Logic \\u03c0\\u03bf\\u03c5 \\u03b5\\u03c0\\u03b9\\u03ba\\u03b1\\u03bb\\u03b5\\u03af\\u03c4\\u03b1\\u03b9 \\u03c4\\u03bf \\u0391\\u03b8\\u03b7\\u03bd\\u03b1\\u03ca\\u03ba\\u03cc \\u03a0\\u03c1\\u03b1\\u03ba\\u03c4\\u03bf\\u03c1\\u03b5\\u03af\\u03bf \\u0395\\u03b9\\u03b4\\u03ae\\u03c3\\u03b5\\u03c9\\u03bd, \\u03bb\\u03cc\\u03b3\\u03c9 \\u03c4\\u03b7\\u03c2 \\u03bc\\u03b5\\u03b3\\u03ac\\u03bb\\u03b7\\u03c2 \\u03b1\\u03c0\\u03bf\\u03c7\\u03ae\\u03c2, \\u03b1\\u03bd\\u03c4\\u03af \\u03b3\\u03b9\\u03b1 \\u03c4\\u03b9\\u03c2 21:00, \\u03b7 \\u03b5\\u03ba\\u03c4\\u03af\\u03bc\\u03b7\\u03c3\\u03b7 \\u03b3\\u03b9\\u03b1 \\u03c4\\u03bf \\u03c4\\u03b5\\u03bb\\u03b9\\u03ba\\u03cc \\u03b1\\u03c0\\u03bf\\u03c4\\u03ad\\u03bb\\u03b5\\u03c3\\u03bc\\u03b1 \\u03b1\\u03bd\\u03b1\\u03bc\\u03ad\\u03bd\\u03b5\\u03c4\\u03b1\\u03b9 \\u03c3\\u03c4\\u03b9\\u03c2 20:20 \\u03ae \\u03ba\\u03b1\\u03b9 \\u03bd\\u03c9\\u03c1\\u03af\\u03c4\\u03b5\\u03c1\\u03b1.\\n\\u03a4\\u03b9\\u03c2 \\u03c3\\u03c7\\u03b5\\u03c4\\u03b9\\u03ba\\u03ad\\u03c2 \\u03b1\\u03bd\\u03b1\\u03ba\\u03bf\\u03b9\\u03bd\\u03ce\\u03c3\\u03b5\\u03b9\\u03c2 \\u03b8\\u03b1 \\u03ba\\u03ac\\u03bd\\u03b5\\u03b9 \\u03b1\\u03c0\\u03cc \\u03c4\\u03bf \\u03c5\\u03c0\\u03bf\\u03c5\\u03c1\\u03b3\\u03b5\\u03af\\u03bf \\u0395\\u03c3\\u03c9\\u03c4\\u03b5\\u03c1\\u03b9\\u03ba\\u03ce\\u03bd \\u03bf \\u03b3\\u03b5\\u03bd\\u03b9\\u03ba\\u03cc\\u03c2 \\u03b4\\u03b9\\u03b5\\u03c5\\u03b8\\u03c5\\u03bd\\u03c4\\u03ae\\u03c2 \\u03c4\\u03b7\\u03c2 \\u03b5\\u03c4\\u03b1\\u03b9\\u03c1\\u03b5\\u03af\\u03b1\\u03c2, \\u0394\\u03b7\\u03bc\\u03ae\\u03c4\\u03c1\\u03b7\\u03c2 \\u039c\\u03c0\\u03b1\\u03ba\\u03ac\\u03ba\\u03bf\\u03c2.\"\n        ],\n        \"semantic_type\": \"\",\n        \"description\": \"\"\n      }\n    }\n  ]\n}"
            }
          },
          "metadata": {},
          "execution_count": 12
        }
      ]
    },
    {
      "cell_type": "code",
      "source": [
        "len(selected_cols_df)"
      ],
      "metadata": {
        "colab": {
          "base_uri": "https://localhost:8080/"
        },
        "id": "Zm54BeveZ3l1",
        "outputId": "09516a90-f9c2-4d76-df4c-a22295e148cc"
      },
      "execution_count": null,
      "outputs": [
        {
          "output_type": "execute_result",
          "data": {
            "text/plain": [
              "1315"
            ]
          },
          "metadata": {},
          "execution_count": 13
        }
      ]
    },
    {
      "cell_type": "code",
      "source": [
        "short_df = selected_cols_df[['datetime' ,'full_text']]\n",
        "short_df.head(1)"
      ],
      "metadata": {
        "colab": {
          "base_uri": "https://localhost:8080/",
          "height": 80
        },
        "id": "oR_s_ZrsZzgO",
        "outputId": "6b9bbebd-9e57-4429-8cc0-e7366ed1e695"
      },
      "execution_count": null,
      "outputs": [
        {
          "output_type": "execute_result",
          "data": {
            "text/plain": [
              "              datetime                                          full_text\n",
              "0  2024-06-09 23:59:17  Ευρωεκλογές 2024: Παραμένουν στην τρίτη θέση π..."
            ],
            "text/html": [
              "\n",
              "  <div id=\"df-c03e2307-5028-4f77-aeef-44d15e773fd6\" class=\"colab-df-container\">\n",
              "    <div>\n",
              "<style scoped>\n",
              "    .dataframe tbody tr th:only-of-type {\n",
              "        vertical-align: middle;\n",
              "    }\n",
              "\n",
              "    .dataframe tbody tr th {\n",
              "        vertical-align: top;\n",
              "    }\n",
              "\n",
              "    .dataframe thead th {\n",
              "        text-align: right;\n",
              "    }\n",
              "</style>\n",
              "<table border=\"1\" class=\"dataframe\">\n",
              "  <thead>\n",
              "    <tr style=\"text-align: right;\">\n",
              "      <th></th>\n",
              "      <th>datetime</th>\n",
              "      <th>full_text</th>\n",
              "    </tr>\n",
              "  </thead>\n",
              "  <tbody>\n",
              "    <tr>\n",
              "      <th>0</th>\n",
              "      <td>2024-06-09 23:59:17</td>\n",
              "      <td>Ευρωεκλογές 2024: Παραμένουν στην τρίτη θέση π...</td>\n",
              "    </tr>\n",
              "  </tbody>\n",
              "</table>\n",
              "</div>\n",
              "    <div class=\"colab-df-buttons\">\n",
              "\n",
              "  <div class=\"colab-df-container\">\n",
              "    <button class=\"colab-df-convert\" onclick=\"convertToInteractive('df-c03e2307-5028-4f77-aeef-44d15e773fd6')\"\n",
              "            title=\"Convert this dataframe to an interactive table.\"\n",
              "            style=\"display:none;\">\n",
              "\n",
              "  <svg xmlns=\"http://www.w3.org/2000/svg\" height=\"24px\" viewBox=\"0 -960 960 960\">\n",
              "    <path d=\"M120-120v-720h720v720H120Zm60-500h600v-160H180v160Zm220 220h160v-160H400v160Zm0 220h160v-160H400v160ZM180-400h160v-160H180v160Zm440 0h160v-160H620v160ZM180-180h160v-160H180v160Zm440 0h160v-160H620v160Z\"/>\n",
              "  </svg>\n",
              "    </button>\n",
              "\n",
              "  <style>\n",
              "    .colab-df-container {\n",
              "      display:flex;\n",
              "      gap: 12px;\n",
              "    }\n",
              "\n",
              "    .colab-df-convert {\n",
              "      background-color: #E8F0FE;\n",
              "      border: none;\n",
              "      border-radius: 50%;\n",
              "      cursor: pointer;\n",
              "      display: none;\n",
              "      fill: #1967D2;\n",
              "      height: 32px;\n",
              "      padding: 0 0 0 0;\n",
              "      width: 32px;\n",
              "    }\n",
              "\n",
              "    .colab-df-convert:hover {\n",
              "      background-color: #E2EBFA;\n",
              "      box-shadow: 0px 1px 2px rgba(60, 64, 67, 0.3), 0px 1px 3px 1px rgba(60, 64, 67, 0.15);\n",
              "      fill: #174EA6;\n",
              "    }\n",
              "\n",
              "    .colab-df-buttons div {\n",
              "      margin-bottom: 4px;\n",
              "    }\n",
              "\n",
              "    [theme=dark] .colab-df-convert {\n",
              "      background-color: #3B4455;\n",
              "      fill: #D2E3FC;\n",
              "    }\n",
              "\n",
              "    [theme=dark] .colab-df-convert:hover {\n",
              "      background-color: #434B5C;\n",
              "      box-shadow: 0px 1px 3px 1px rgba(0, 0, 0, 0.15);\n",
              "      filter: drop-shadow(0px 1px 2px rgba(0, 0, 0, 0.3));\n",
              "      fill: #FFFFFF;\n",
              "    }\n",
              "  </style>\n",
              "\n",
              "    <script>\n",
              "      const buttonEl =\n",
              "        document.querySelector('#df-c03e2307-5028-4f77-aeef-44d15e773fd6 button.colab-df-convert');\n",
              "      buttonEl.style.display =\n",
              "        google.colab.kernel.accessAllowed ? 'block' : 'none';\n",
              "\n",
              "      async function convertToInteractive(key) {\n",
              "        const element = document.querySelector('#df-c03e2307-5028-4f77-aeef-44d15e773fd6');\n",
              "        const dataTable =\n",
              "          await google.colab.kernel.invokeFunction('convertToInteractive',\n",
              "                                                    [key], {});\n",
              "        if (!dataTable) return;\n",
              "\n",
              "        const docLinkHtml = 'Like what you see? Visit the ' +\n",
              "          '<a target=\"_blank\" href=https://colab.research.google.com/notebooks/data_table.ipynb>data table notebook</a>'\n",
              "          + ' to learn more about interactive tables.';\n",
              "        element.innerHTML = '';\n",
              "        dataTable['output_type'] = 'display_data';\n",
              "        await google.colab.output.renderOutput(dataTable, element);\n",
              "        const docLink = document.createElement('div');\n",
              "        docLink.innerHTML = docLinkHtml;\n",
              "        element.appendChild(docLink);\n",
              "      }\n",
              "    </script>\n",
              "  </div>\n",
              "\n",
              "\n",
              "    </div>\n",
              "  </div>\n"
            ],
            "application/vnd.google.colaboratory.intrinsic+json": {
              "type": "dataframe",
              "variable_name": "short_df",
              "summary": "{\n  \"name\": \"short_df\",\n  \"rows\": 1315,\n  \"fields\": [\n    {\n      \"column\": \"datetime\",\n      \"properties\": {\n        \"dtype\": \"object\",\n        \"num_unique_values\": 1197,\n        \"samples\": [\n          \"2024-06-09 19:54:21\",\n          \"2024-06-09 22:20:49\",\n          \"2024-06-09 23:26:43\"\n        ],\n        \"semantic_type\": \"\",\n        \"description\": \"\"\n      }\n    },\n    {\n      \"column\": \"full_text\",\n      \"properties\": {\n        \"dtype\": \"string\",\n        \"num_unique_values\": 1315,\n        \"samples\": [\n          \"\\u0395\\u03c5\\u03c1\\u03c9\\u03b5\\u03ba\\u03bb\\u03bf\\u03b3\\u03ad\\u03c2 2024 \\u03b1\\u03c0\\u03bf\\u03c4\\u03b5\\u03bb\\u03ad\\u03c3\\u03bc\\u03b1\\u03c4\\u03b1: \\u03a0\\u03c1\\u03ce\\u03c4\\u03b7 \\u03b7 \\u039d\\u0394 \\u03ba\\u03b1\\u03b9 \\u03c3\\u03c4\\u03bf\\u03c5\\u03c2 \\u03c4\\u03c1\\u03b5\\u03b9\\u03c2 \\u03c4\\u03bf\\u03bc\\u03b5\\u03af\\u03c2 \\u03c4\\u03b7\\u03c2 \\u0392' \\u0391\\u03b8\\u03b7\\u03bd\\u03ce\\u03bd \\u03a4\\u03b9 \\u03b4\\u03b5\\u03af\\u03c7\\u03bd\\u03bf\\u03c5\\u03bd \\u03c4\\u03b1 \\u03b1\\u03c0\\u03bf\\u03c4\\u03b5\\u03bb\\u03ad\\u03c3\\u03bc\\u03b1\\u03c4\\u03b1\\n\\u03a3\\u03c4\\u03b7 \\u03b4\\u03b5\\u03cd\\u03c4\\u03b5\\u03c1\\u03b7 \\u03b8\\u03ad\\u03c3\\u03b7 \\u03bf \\u03a3\\u03a5\\u03a1\\u0399\\u0396\\u0391 \\u03ba\\u03b1\\u03b9 \\u03c3\\u03c4\\u03b7\\u03bd \\u03c4\\u03c1\\u03af\\u03c4\\u03b7 \\u03c4\\u03bf \\u039a\\u039a\\u0395\\n\\u03a0\\u03c1\\u03ce\\u03c4\\u03b7 \\u03ba\\u03b1\\u03b9 \\u03c3\\u03c4\\u03bf\\u03c5\\u03c2 \\u03c4\\u03c1\\u03b5\\u03b9\\u03c2 \\u03c4\\u03bf\\u03bc\\u03b5\\u03af\\u03c2 \\u03c4\\u03b7\\u03c2 \\u0392' \\u0391\\u03b8\\u03b7\\u03bd\\u03ce\\u03bd \\u03b2\\u03c1\\u03af\\u03c3\\u03ba\\u03b5\\u03c4\\u03b1\\u03b9 \\u03b7 \\u039d\\u03ad\\u03b1 \\u0394\\u03b7\\u03bc\\u03bf\\u03ba\\u03c1\\u03b1\\u03c4\\u03af\\u03b1 \\u03bc\\u03b5 \\u03c4\\u03bf\\u03bd \\u03a3\\u03a5\\u03a1\\u0399\\u0396\\u0391 \\u03bd\\u03b1 \\u03b1\\u03ba\\u03bf\\u03bb\\u03bf\\u03c5\\u03b8\\u03b5\\u03af \\u03ba\\u03b1\\u03b9 \\u03c4\\u03bf \\u039a\\u039a\\u0395 \\u03bd\\u03b1 \\u03b5\\u03af\\u03bd\\u03b1\\u03b9 \\u03c4\\u03c1\\u03af\\u03c4\\u03bf. \\u03a3\\u03cd\\u03bc\\u03c6\\u03c9\\u03bd\\u03b1 \\u03bc\\u03b5 \\u03c4\\u03b1 \\u03c0\\u03c1\\u03ce\\u03c4\\u03b1 \\u03b1\\u03c0\\u03bf\\u03c4\\u03b5\\u03bb\\u03ad\\u03c3\\u03bc\\u03b1\\u03c4\\u03b1, \\u03c4\\u03c9\\u03bd\\n\\u03b5\\u03c5\\u03c1\\u03c9\\u03b5\\u03ba\\u03bb\\u03bf\\u03b3\\u03ce\\u03bd\\n\\u03c3\\u03c4\\u03bf\\u03bd \\u03b2\\u03cc\\u03c1\\u03b5\\u03b9\\u03bf \\u03c4\\u03bf\\u03bc\\u03ad\\u03b1 \\u03b7 \\u039d\\u0394 \\u03c3\\u03c5\\u03b3\\u03ba\\u03b5\\u03bd\\u03c4\\u03c1\\u03ce\\u03bd\\u03b5\\u03b9 33,92%, \\u03c3\\u03c4\\u03bf\\u03bd \\u03b4\\u03c5\\u03c4\\u03b9\\u03ba\\u03cc \\u03c4\\u03bf\\u03bc\\u03ad\\u03b1 22,50% \\u03ba\\u03b1\\u03b9 \\u03c3\\u03c4\\u03bf\\u03bd \\u03bd\\u03cc\\u03c4\\u03b9\\u03bf \\u03c4\\u03bf\\u03bc\\u03ad\\u03b1 29,49%.\\n\\u03a4\\u03b1 \\u03b1\\u03bd\\u03c4\\u03af\\u03c3\\u03c4\\u03bf\\u03b9\\u03c7\\u03b1 \\u03c0\\u03bf\\u03c3\\u03bf\\u03c3\\u03c4\\u03ac \\u03c4\\u03bf\\u03c5 \\u03a3\\u03a5\\u03a1\\u0399\\u0396\\u0391 \\u03b5\\u03af\\u03bd\\u03b1\\u03b9 15,07%, 18,89% \\u03ba\\u03b1\\u03b9 17,02%. \\u03a4\\u03b7\\u03bd \\u03af\\u03b4\\u03b9\\u03b1 \\u03ce\\u03c1\\u03b1 \\u03c4\\u03b1 \\u03c0\\u03bf\\u03c3\\u03bf\\u03c3\\u03c4\\u03ac \\u03c4\\u03bf\\u03c5 \\u039a\\u039a\\u0395 \\u03b5\\u03af\\u03bd\\u03b1\\u03b9 9,98%, 14,64% \\u03ba\\u03b1\\u03b9 11,47%.\",\n          \"\\u00ab\\u038c\\u03bb\\u03b1 \\u03b1\\u03c1\\u03c7\\u03af\\u03b6\\u03bf\\u03c5\\u03bd \\u03b1\\u03bb\\u03bb\\u03b9\\u03ce\\u03c2\\u00bb \\u2013 T\\u03bf \\u03c3\\u03ba\\u03b7\\u03bd\\u03b9\\u03ba\\u03cc \\u03bc\\u03b5\\u03c4\\u03ac \\u03c4\\u03b1 exit polls \\u0394\\u03b7\\u03bc\\u03ae\\u03c4\\u03c1\\u03b7\\u03c2 \\u03a7\\u03cc\\u03bd\\u03b4\\u03c1\\u03bf\\u03c2\\n\\u0394\\u03b7\\u03bc\\u03ae\\u03c4\\u03c1\\u03b7\\u03c2 \\u03a7\\u03cc\\u03bd\\u03b4\\u03c1\\u03bf\\u03c2\\n09.06.2024\\n19:14\\n\\u0393\\u03bd\\u03ce\\u03bc\\u03b5\\u03c2\\n\\u0394\\u03b7\\u03bc\\u03ae\\u03c4\\u03c1\\u03b7\\u03c2 \\u03a7\\u03cc\\u03bd\\u03b4\\u03c1\\u03bf\\u03c2\\n\\u0391\\u03c0\\u03cc \\u03c4\\u03b9\\u03c2 \\u03ba\\u03ac\\u03bb\\u03c0\\u03b5\\u03c2 \\u03c6\\u03b1\\u03af\\u03bd\\u03b5\\u03c4\\u03b1\\u03b9 \\u03bd\\u03b1 \\u03be\\u03b5\\u03c0\\u03c1\\u03bf\\u03b2\\u03ac\\u03bb\\u03bb\\u03b5\\u03b9 \\u03ad\\u03bd\\u03b1 \\u03bd\\u03ad\\u03bf \\u03c0\\u03bf\\u03bb\\u03b9\\u03c4\\u03b9\\u03ba\\u03cc \\u03c3\\u03ba\\u03b7\\u03bd\\u03b9\\u03ba\\u03cc - \\u0391\\u03c0\\u03cc \\u03c4\\u03b7 \\u0394\\u03b5\\u03c5\\u03c4\\u03ad\\u03c1\\u03b1 \\u00ab\\u03cc\\u03bb\\u03b1 \\u03b1\\u03c1\\u03c7\\u03af\\u03b6\\u03bf\\u03c5\\u03bd \\u03b1\\u03bb\\u03bb\\u03b9\\u03ce\\u03c2\\u00bb.\\n\\u039a\\u03ac\\u03b8\\u03b5 \\u03c0\\u03c1\\u03bf\\u03c3\\u03c0\\u03ac\\u03b8\\u03b5\\u03b9\\u03b1 \\u03b1\\u03c0\\u03bf\\u03c4\\u03cd\\u03c0\\u03c9\\u03c3\\u03b7\\u03c2 \\u03c4\\u03bf\\u03c5 \\u03bc\\u03b5\\u03c4\\u03b5\\u03ba\\u03bb\\u03bf\\u03b3\\u03b9\\u03ba\\u03bf\\u03cd \\u03c4\\u03bf\\u03c0\\u03af\\u03bf\\u03c5 \\u03bc\\u03b5 \\u03b2\\u03ac\\u03c3\\u03b7 \\u03c4\\u03b1\\nexit polls\\n\\u03c4\\u03b5\\u03bb\\u03b5\\u03af \\u03c5\\u03c0\\u03cc \\u03c4\\u03b7\\u03bd \\u03b1\\u03af\\u03c1\\u03b5\\u03c3\\u03b7 \\u03c4\\u03bf\\u03c5 \\u03b5\\u03ba\\u03bb\\u03bf\\u03b3\\u03b9\\u03ba\\u03bf\\u03cd \\u03b1\\u03c0\\u03bf\\u03c4\\u03b5\\u03bb\\u03ad\\u03c3\\u03bc\\u03b1\\u03c4\\u03bf\\u03c2. \\u0397 \\u03bc\\u03b5\\u03b3\\u03ac\\u03bb\\u03b7 \\u03b5\\u03b9\\u03ba\\u03cc\\u03bd\\u03b1, \\u03c3\\u03b5 \\u03c3\\u03c7\\u03ad\\u03c3\\u03b7 \\u03bc\\u03b5 \\u03c4\\u03b9\\u03c2 \\u03b5\\u03b8\\u03bd\\u03b9\\u03ba\\u03ad\\u03c2 \\u03b5\\u03ba\\u03bb\\u03bf\\u03b3\\u03ad\\u03c2, \\u03b4\\u03b5\\u03bd \\u03b1\\u03bb\\u03bb\\u03ac\\u03b6\\u03b5\\u03b9 \\u03b4\\u03c1\\u03b1\\u03bc\\u03b1\\u03c4\\u03b9\\u03ba\\u03ac. \\u03a9\\u03c3\\u03c4\\u03cc\\u03c3\\u03bf, \\u03b1\\u03c0\\u03cc \\u03c4\\u03b9\\u03c2 \\u03ba\\u03ac\\u03bb\\u03c0\\u03b5\\u03c2 \\u03c6\\u03b1\\u03af\\u03bd\\u03b5\\u03c4\\u03b1\\u03b9 \\u03bd\\u03b1 \\u03be\\u03b5\\u03c0\\u03c1\\u03bf\\u03b2\\u03ac\\u03bb\\u03bb\\u03b5\\u03b9 \\u03ad\\u03bd\\u03b1 \\u03bd\\u03ad\\u03bf \\u03c0\\u03bf\\u03bb\\u03b9\\u03c4\\u03b9\\u03ba\\u03cc \\u03c3\\u03ba\\u03b7\\u03bd\\u03b9\\u03ba\\u03cc. \\u03a7\\u03c9\\u03c1\\u03af\\u03c2 \\u03b1\\u03c0\\u03cc\\u03bb\\u03c5\\u03c4\\u03b5\\u03c2 \\u03c0\\u03bf\\u03bb\\u03b9\\u03c4\\u03b9\\u03ba\\u03ad\\u03c2 \\u03ba\\u03c5\\u03c1\\u03b9\\u03b1\\u03c1\\u03c7\\u03af\\u03b5\\u03c2. \\u039c\\u03b5 \\u03bd\\u03ad\\u03b1 \\u03b4\\u03b5\\u03b4\\u03bf\\u03bc\\u03ad\\u03bd\\u03b1 \\u03c3\\u03c4\\u03bf \\u03c7\\u03ce\\u03c1\\u03bf \\u03c4\\u03b7\\u03c2 \\u03ba\\u03b5\\u03bd\\u03c4\\u03c1\\u03bf\\u03b1\\u03c1\\u03b9\\u03c3\\u03c4\\u03b5\\u03c1\\u03ac\\u03c2. \\u039f\\u03b9 \\u03c0\\u03bf\\u03bb\\u03af\\u03c4\\u03b5\\u03c2 \\u03b5\\u03c0\\u03ad\\u03bb\\u03b5\\u03be\\u03b1\\u03bd \\u03bd\\u03b1 \\u03c3\\u03c4\\u03b5\\u03af\\u03bb\\u03bf\\u03c5\\u03bd \\u03ad\\u03bd\\u03b1 \\u03b4\\u03b9\\u03c0\\u03bb\\u03cc \\u03bc\\u03ae\\u03bd\\u03c5\\u03bc\\u03b1. \\u03a3\\u03b5 \\u03cc\\u03bb\\u03bf \\u03c4\\u03bf \\u03c0\\u03bf\\u03bb\\u03b9\\u03c4\\u03b9\\u03ba\\u03cc \\u03c3\\u03ba\\u03b7\\u03bd\\u03b9\\u03ba\\u03cc \\u03bc\\u03b5 \\u03c4\\u03b7\\u03bd\\n\\u03b1\\u03c0\\u03bf\\u03c7\\u03ae\\n\\u03c4\\u03bf\\u03c5\\u03c2. \\u039a\\u03b1\\u03b9 \\u03c3\\u03c4\\u03bf \\u03ba\\u03ac\\u03b8\\u03b5 \\u03ba\\u03cc\\u03bc\\u03bc\\u03b1 \\u03be\\u03b5\\u03c7\\u03c9\\u03c1\\u03b9\\u03c3\\u03c4\\u03ac \\u03bc\\u03b5 \\u03c4\\u03b7\\u03bd \\u03b5\\u03c0\\u03b9\\u03bb\\u03bf\\u03b3\\u03ae \\u03c4\\u03bf\\u03c5\\u03c2 \\u03c3\\u03c4\\u03b7\\u03bd \\u03ba\\u03ac\\u03bb\\u03c0\\u03b7. \\u0391\\u03c0\\u03cc \\u03c4\\u03b7 \\u0394\\u03b5\\u03c5\\u03c4\\u03ad\\u03c1\\u03b1 \\u00ab\\u03cc\\u03bb\\u03b1 \\u03b1\\u03c1\\u03c7\\u03af\\u03b6\\u03bf\\u03c5\\u03bd \\u03b1\\u03bb\\u03bb\\u03b9\\u03ce\\u03c2\\u00bb.\\n\\u039f\\n\\u039a\\u03c5\\u03c1\\u03b9\\u03ac\\u03ba\\u03bf\\u03c2 \\u039c\\u03b7\\u03c4\\u03c3\\u03bf\\u03c4\\u03ac\\u03ba\\u03b7\\u03c2\\n\\u03b5\\u03c0\\u03b9\\u03b2\\u03b5\\u03b2\\u03b1\\u03af\\u03c9\\u03c3\\u03b5 \\u03c4\\u03b7\\u03bd \\u03c0\\u03bf\\u03bb\\u03b9\\u03c4\\u03b9\\u03ba\\u03ae \\u03c5\\u03c0\\u03b5\\u03c1\\u03bf\\u03c7\\u03ae \\u03c4\\u03bf\\u03c5 \\u03ad\\u03bd\\u03b1\\u03bd\\u03c4\\u03b9 \\u03c4\\u03c9\\u03bd \\u03b1\\u03bd\\u03c4\\u03b9\\u03c0\\u03ac\\u03bb\\u03c9\\u03bd \\u03c4\\u03bf\\u03c5 \\u03b1\\u03bb\\u03bb\\u03ac \\u03ba\\u03b1\\u03b9 \\u03c4\\u03b1 \\u03b1\\u03bd\\u03bf\\u03b9\\u03c7\\u03c4\\u03ac \\u03c4\\u03bf\\u03c5 \\u03bc\\u03ad\\u03c4\\u03c9\\u03c0\\u03b1 \\u03bc\\u03b5 \\u03c4\\u03b7\\u03bd \\u03ba\\u03bf\\u03b9\\u03bd\\u03c9\\u03bd\\u03af\\u03b1. \\u0397 \\u039d\\u0394 \\u03b4\\u03b5\\u03bd \\u03c6\\u03b1\\u03af\\u03bd\\u03b5\\u03c4\\u03b1\\u03b9 \\u03bd\\u03b1 \\u03be\\u03b5\\u03c0\\u03b5\\u03c1\\u03bd\\u03ac \\u03c4\\u03bf\\u03bd \\u03c0\\u03ae\\u03c7\\u03b7 \\u03c4\\u03c9\\u03bd \\u03c0\\u03c1\\u03bf\\u03b7\\u03b3\\u03bf\\u03cd\\u03bc\\u03b5\\u03bd\\u03c9\\u03bd \\u03b5\\u03ba\\u03bb\\u03bf\\u03b3\\u03ce\\u03bd \\u03b8\\u03b1 \\u03ba\\u03b9\\u03bd\\u03b7\\u03b8\\u03b5\\u03af \\u03ba\\u03bf\\u03bd\\u03c4\\u03ac \\u03c3\\u03c4\\u03bf 30%. \\u0391\\u03c5\\u03c4\\u03cc \\u03c3\\u03c5\\u03bd\\u03b9\\u03c3\\u03c4\\u03ac \\u03ad\\u03bd\\u03b1 \\u03bc\\u03ae\\u03bd\\u03c5\\u03bc\\u03b1 \\u03b4\\u03c5\\u03c3\\u03b1\\u03c1\\u03ad\\u03c3\\u03ba\\u03b5\\u03b9\\u03b1\\u03c2 \\u03c0\\u03bf\\u03c5 \\u03b4\\u03b5\\u03bd \\u03bc\\u03c0\\u03bf\\u03c1\\u03b5\\u03af \\u03bd\\u03b1 \\u03c0\\u03b5\\u03c1\\u03ac\\u03c3\\u03b5\\u03b9 \\u03b1\\u03c0\\u03b1\\u03c1\\u03b1\\u03c4\\u03ae\\u03c1\\u03b7\\u03c4\\u03bf. \\u0397 \\u03c6\\u03b8\\u03bf\\u03c1\\u03ac \\u03ba\\u03b1\\u03c4\\u03ac\\u03c6\\u03b5\\u03c1\\u03b5 \\u03bd\\u03b1 \\u03c0\\u03b5\\u03c1\\u03ac\\u03c3\\u03b5\\u03b9 \\u03c4\\u03b7\\u03bd \\u03ba\\u03c5\\u03b2\\u03b5\\u03c1\\u03bd\\u03b7\\u03c4\\u03b9\\u03ba\\u03ae \\u03c0\\u03b1\\u03bd\\u03bf\\u03c0\\u03bb\\u03af\\u03b1 \\u03ba\\u03b1\\u03b9 \\u03b1\\u03c5\\u03c4\\u03cc \\u03b5\\u03af\\u03bd\\u03b1\\u03b9 \\u03ad\\u03bd\\u03b1 \\u03b1\\u03bd\\u03b7\\u03c3\\u03c5\\u03c7\\u03b7\\u03c4\\u03b9\\u03ba\\u03cc \\u03bc\\u03ae\\u03bd\\u03c5\\u03bc\\u03b1 \\u03b3\\u03b9\\u03b1 \\u03c4\\u03bf \\u039c\\u03ad\\u03b3\\u03b1\\u03c1\\u03bf \\u039c\\u03b1\\u03be\\u03af\\u03bc\\u03bf\\u03c5. \\u039f \\u03b4\\u03c1\\u03cc\\u03bc\\u03bf\\u03c2 \\u03c0\\u03c1\\u03bf\\u03c2 \\u03c4\\u03b9\\u03c2 \\u03b5\\u03c0\\u03cc\\u03bc\\u03b5\\u03bd\\u03b5\\u03c2 \\u03b5\\u03b8\\u03bd\\u03b9\\u03ba\\u03ad\\u03c2 \\u03b5\\u03ba\\u03bb\\u03bf\\u03b3\\u03ad\\u03c2 \\u03b1\\u03c0\\u03ad\\u03ba\\u03c4\\u03b7\\u03c3\\u03b5 \\u03ad\\u03bd\\u03b1 \\u03bc\\u03b5\\u03b3\\u03b1\\u03bb\\u03cd\\u03c4\\u03b5\\u03c1\\u03bf \\u03b2\\u03b1\\u03b8\\u03bc\\u03cc \\u03b4\\u03c5\\u03c3\\u03ba\\u03bf\\u03bb\\u03af\\u03b1\\u03c2 \\u03b3\\u03b9\\u03b1 \\u03c4\\u03bf\\u03bd \\u039a\\u03c5\\u03c1\\u03b9\\u03ac\\u03ba\\u03bf \\u039c\\u03b7\\u03c4\\u03c3\\u03bf\\u03c4\\u03ac\\u03ba\\u03b7. \\u0394\\u03b5\\u03bd \\u03b5\\u03af\\u03bd\\u03b1\\u03b9 \\u03bc\\u03b9\\u03ba\\u03c1\\u03cc \\u03c0\\u03c1\\u03ac\\u03b3\\u03bc\\u03b1 \\u03b7 \\u03b1\\u03c0\\u03ce\\u03bb\\u03b5\\u03b9\\u03b1 10 \\u03bc\\u03bf\\u03bd\\u03ac\\u03b4\\u03c9\\u03bd \\u03bc\\u03ad\\u03c3\\u03b1 \\u03c3\\u03b5 \\u03ad\\u03bd\\u03b1 \\u03c7\\u03c1\\u03cc\\u03bd\\u03bf.\\n\\u03a4\\u03b1 \\u03b2\\u03bb\\u03ad\\u03bc\\u03bc\\u03b1\\u03c4\\u03b1, \\u03c3\\u03c4\\u03c1\\u03ad\\u03c6\\u03bf\\u03bd\\u03c4\\u03b1\\u03b9 \\u03c3\\u03c4\\u03bf\\u03bd\\n\\u03a3\\u03c4\\u03ad\\u03c6\\u03b1\\u03bd\\u03bf \\u039a\\u03b1\\u03c3\\u03c3\\u03b5\\u03bb\\u03ac\\u03ba\\u03b7\\n. \\u0394\\u03b5\\u03bd \\u03c6\\u03b1\\u03af\\u03bd\\u03b5\\u03c4\\u03b1\\u03b9 \\u03bd\\u03b1 \\u03c0\\u03b1\\u03af\\u03c1\\u03bd\\u03b5\\u03b9 \\u03c0\\u03bf\\u03c3\\u03bf\\u03c3\\u03c4\\u03cc \\u03c0\\u03ac\\u03bd\\u03c9 \\u03b1\\u03c0\\u03cc 20%, \\u03cc\\u03c0\\u03c9\\u03c2 \\u03b8\\u03b1 \\u03ae\\u03b8\\u03b5\\u03bb\\u03b5, \\u03ba\\u03b9\\u03bd\\u03b5\\u03af\\u03c4\\u03b1\\u03b9 \\u03ba\\u03ac\\u03c4\\u03c9 \\u03b1\\u03c0\\u03cc \\u03c4\\u03b9\\u03c2 \\u03b5\\u03c0\\u03b9\\u03b4\\u03cc\\u03c3\\u03b5\\u03b9\\u03c2 \\u03c4\\u03bf\\u03c5 \\u03a3\\u03a5\\u03a1\\u0399\\u0396\\u0391 \\u03c3\\u03c4\\u03b9\\u03c2 \\u03b5\\u03b8\\u03bd\\u03b9\\u03ba\\u03ad\\u03c2 \\u03b5\\u03ba\\u03bb\\u03bf\\u03b3\\u03ad\\u03c2 \\u03b1\\u03bb\\u03bb\\u03ac \\u03ad\\u03c7\\u03b5\\u03b9 \\u03c4\\u03b7 \\u03bc\\u03c0\\u03ac\\u03bb\\u03b1 \\u03c3\\u03c4\\u03b1 \\u03c0\\u03cc\\u03b4\\u03b9\\u03b1 \\u03c4\\u03bf\\u03c5. \\u039a\\u03b1\\u03c4\\u03ac\\u03c6\\u03b5\\u03c1\\u03b5 \\u03bd\\u03b1 \\u03b5\\u03af\\u03bd\\u03b1\\u03b9 \\u03c3\\u03c4\\u03b7 \\u03b4\\u03b5\\u03cd\\u03c4\\u03b5\\u03c1\\u03b7 \\u03b8\\u03ad\\u03c3\\u03b7 \\u03b1\\u03c6\\u03ae\\u03bd\\u03bf\\u03bd\\u03c4\\u03b1\\u03c2 \\u03c4\\u03c1\\u03af\\u03c4\\u03bf, \\u03bc\\u03b5 \\u03b4\\u03b9\\u03b1\\u03c6\\u03bf\\u03c1\\u03ac, \\u03c4\\u03bf \\u03a0\\u03b1\\u03a3\\u03bf\\u039a. \\u039f \\u03ba. \\u039a\\u03b1\\u03c3\\u03c3\\u03b5\\u03bb\\u03ac\\u03ba\\u03b7\\u03c2 \\u03bc\\u03b5 \\u03c4\\u03b7\\u03bd \\u03b5\\u03ba\\u03bb\\u03bf\\u03b3\\u03b9\\u03ba\\u03ae \\u03c4\\u03bf\\u03c5 \\u03b5\\u03c0\\u03af\\u03b4\\u03bf\\u03c3\\u03b7, \\u03c0\\u03bf\\u03c5 \\u03c3\\u03b5 \\u03bc\\u03b5\\u03b3\\u03ac\\u03bb\\u03bf \\u03b2\\u03b1\\u03b8\\u03bc\\u03cc \\u03b5\\u03af\\u03bd\\u03b1\\u03b9 \\u03c0\\u03c1\\u03bf\\u03c3\\u03c9\\u03c0\\u03b9\\u03ba\\u03ae, \\u03bc\\u03c0\\u03ae\\u03ba\\u03b5 \\u03c3\\u03c4\\u03b7 \\u03b8\\u03ad\\u03c3\\u03b7 \\u03c4\\u03bf\\u03c5 \\u03bf\\u03b4\\u03b7\\u03b3\\u03bf\\u03cd \\u03c4\\u03c9\\u03bd \\u03b5\\u03be\\u03b5\\u03bb\\u03af\\u03be\\u03b5\\u03c9\\u03bd \\u03c3\\u03c4\\u03b7\\u03bd \\u03ba\\u03b5\\u03bd\\u03c4\\u03c1\\u03bf\\u03b1\\u03c1\\u03b9\\u03c3\\u03c4\\u03b5\\u03c1\\u03ac. \\u03a4\\u03bf \\u03b5\\u03c1\\u03ce\\u03c4\\u03b7\\u03bc\\u03b1 \\u03b5\\u03af\\u03bd\\u03b1\\u03b9 \\u03c0\\u03bf\\u03b9\\u03b5\\u03c2 \\u03b8\\u03b1 \\u03b5\\u03af\\u03bd\\u03b1\\u03b9 \\u03bf\\u03b9 \\u03b5\\u03c0\\u03cc\\u03bc\\u03b5\\u03bd\\u03b5\\u03c2 \\u03ba\\u03b9\\u03bd\\u03ae\\u03c3\\u03b5\\u03b9\\u03c2 \\u03c4\\u03bf\\u03c5. \\u039c\\u03b5 \\u03c0\\u03bf\\u03b9\\u03b1 \\u03c4\\u03b1\\u03c7\\u03cd\\u03c4\\u03b7\\u03c4\\u03b1 \\u03b8\\u03b1 \\u03c0\\u03c1\\u03bf\\u03c7\\u03c9\\u03c1\\u03ae\\u03c3\\u03b5\\u03b9 \\u03c3\\u03c4\\u03b7 \\u03b4\\u03b7\\u03bc\\u03b9\\u03bf\\u03c5\\u03c1\\u03b3\\u03af\\u03b1 \\u03c4\\u03b7\\u03c2 \\u03b4\\u03b9\\u03ba\\u03ae\\u03c2 \\u03c4\\u03bf\\u03c5 \\u00ab\\u03c0\\u03c1\\u03bf\\u03bf\\u03b4\\u03b5\\u03c5\\u03c4\\u03b9\\u03ba\\u03ae\\u03c2 \\u03c0\\u03b1\\u03c1\\u03ac\\u03c4\\u03b1\\u03be\\u03b7\\u03c2\\u00bb. \\u03a4\\u03b9 \\u03b1\\u03bd\\u03b1\\u03c4\\u03b1\\u03c1\\u03ac\\u03be\\u03b5\\u03b9\\u03c2 \\u03b8\\u03b1 \\u03c0\\u03c1\\u03bf\\u03ba\\u03b1\\u03bb\\u03ad\\u03c3\\u03b5\\u03b9 \\u03ba\\u03b1\\u03b9 \\u03c4\\u03b9 \\u03b1\\u03bd\\u03c4\\u03b9\\u03b4\\u03c1\\u03ac\\u03c3\\u03b5\\u03b9\\u03c2 \\u03b8\\u03b1 \\u03c3\\u03c5\\u03bd\\u03b1\\u03bd\\u03c4\\u03ae\\u03c3\\u03b5\\u03b9. \\u03a3\\u03b5 \\u03ba\\u03ac\\u03b8\\u03b5 \\u03c0\\u03b5\\u03c1\\u03af\\u03c0\\u03c4\\u03c9\\u03c3\\u03b7 \\u03bf \\u03a3\\u03a5\\u03a1\\u0399\\u0396\\u0391 \\u03b5\\u03b9\\u03c3\\u03ad\\u03c1\\u03c7\\u03b5\\u03c4\\u03b1\\u03b9 \\u03c3\\u03b5 \\u03ad\\u03bd\\u03b1 \\u03bd\\u03ad\\u03bf \\u03ba\\u03b5\\u03c6\\u03ac\\u03bb\\u03b1\\u03b9\\u03bf \\u03c4\\u03b7\\u03c2 \\u03b9\\u03c3\\u03c4\\u03bf\\u03c1\\u03af\\u03b1\\u03c2 \\u03c4\\u03bf\\u03c5.\\n\\u03a4\\u03bf\\n\\u03a0\\u03b1\\u03a3\\u03bf\\u039a\\n\\u03b4\\u03b5\\u03af\\u03c7\\u03bd\\u03b5\\u03b9 \\u03bd\\u03b1 \\u03ba\\u03b9\\u03bd\\u03b5\\u03af\\u03c4\\u03b1\\u03b9 \\u03ba\\u03bf\\u03bd\\u03c4\\u03ac \\u03c3\\u03c4\\u03b7\\u03bd \\u03b5\\u03c0\\u03af\\u03b4\\u03bf\\u03c3\\u03b7 \\u03c0\\u03bf\\u03c5 \\u03b5\\u03af\\u03c7\\u03b5 \\u03c3\\u03c4\\u03b9\\u03c2 \\u03b5\\u03b8\\u03bd\\u03b9\\u03ba\\u03ad\\u03c2 \\u03b5\\u03ba\\u03bb\\u03bf\\u03b3\\u03ad\\u03c2. \\u0394\\u03b5\\u03bd \\u03ba\\u03b1\\u03c4\\u03ac\\u03c6\\u03b5\\u03c1\\u03b5, \\u03cc\\u03bc\\u03c9\\u03c2 \\u03bd\\u03b1 \\u03b1\\u03bd\\u03b1\\u03c4\\u03c1\\u03ad\\u03c8\\u03b5\\u03b9 \\u03c4\\u03bf\\u03c5\\u03c2 \\u03c3\\u03c5\\u03c3\\u03c7\\u03b5\\u03c4\\u03b9\\u03c3\\u03bc\\u03bf\\u03cd\\u03c2 \\u03c3\\u03c4\\u03bf\\u03bd \\u03ba\\u03b5\\u03bd\\u03c4\\u03c1\\u03bf\\u03b1\\u03c1\\u03b9\\u03c3\\u03c4\\u03b5\\u03c1\\u03cc \\u03c7\\u03ce\\u03c1\\u03bf, \\u03bd\\u03b1 \\u03c0\\u03ac\\u03c1\\u03b5\\u03b9 \\u03c4\\u03b7 \\u03b4\\u03b5\\u03cd\\u03c4\\u03b5\\u03c1\\u03b7 \\u03b8\\u03ad\\u03c3\\u03b7. \\u039f\\u03b9 \\u03ba\\u03ac\\u03bb\\u03c0\\u03b5\\u03c2 \\u03b4\\u03b5\\u03bd \\u03bc\\u03b5\\u03c4\\u03ad\\u03b4\\u03c9\\u03c3\\u03b1\\u03bd, \\u03cc\\u03c0\\u03c9\\u03c2 \\u03b8\\u03b1 \\u03ae\\u03b8\\u03b5\\u03bb\\u03b5 \\u03b7 \\u03b7\\u03b3\\u03b5\\u03c3\\u03af\\u03b1 \\u03ba\\u03b1\\u03b9 \\u03b7 \\u03b2\\u03ac\\u03c3\\u03b7 \\u03c4\\u03bf\\u03c5, \\u03c4\\u03bf \\u03bc\\u03ae\\u03bd\\u03c5\\u03bc\\u03b1 \\u03b5\\u03bd\\u03cc\\u03c2 \\u03ba\\u03cc\\u03bc\\u03bc\\u03b1\\u03c4\\u03bf\\u03c2 \\u03c0\\u03bf\\u03c5 \\u03b2\\u03c1\\u03af\\u03c3\\u03ba\\u03b5\\u03c4\\u03b1\\u03b9 \\u03c3\\u03b5 \\u03ac\\u03bd\\u03bf\\u03b4\\u03bf \\u03b1\\u03bb\\u03bb\\u03ac \\u03b5\\u03bd\\u03cc\\u03c2 \\u03ba\\u03cc\\u03bc\\u03bc\\u03b1\\u03c4\\u03bf\\u03c2 \\u03c0\\u03bf\\u03c5 \\u03b8\\u03b1 \\u03bc\\u03c0\\u03b5\\u03b9 \\u03c3\\u03b5 \\u03c3\\u03c5\\u03b6\\u03b7\\u03c4\\u03ae\\u03c3\\u03b5\\u03b9\\u03c2 \\u03b3\\u03b9\\u03b1 \\u03c4\\u03bf \\u03bc\\u03ad\\u03bb\\u03bb\\u03bf\\u03bd \\u03c4\\u03bf\\u03c5. \\u038a\\u03c3\\u03c9\\u03c2 \\u03ba\\u03b1\\u03b9 \\u03c3\\u03b5 \\u03ad\\u03bd\\u03b1 \\u03ba\\u03cd\\u03ba\\u03bb\\u03bf \\u03b5\\u03c3\\u03c9\\u03c3\\u03c4\\u03c1\\u03ad\\u03c6\\u03b5\\u03b9\\u03b1\\u03c2. \\u03a3\\u03b5 \\u03ba\\u03ac\\u03b8\\u03b5 \\u03c0\\u03b5\\u03c1\\u03af\\u03c0\\u03c4\\u03c9\\u03c3\\u03b7, \\u03c4\\u03bf \\u03c0\\u03b5\\u03c1\\u03b9\\u03b8\\u03ce\\u03c1\\u03b9\\u03bf \\u03c0\\u03bf\\u03c5 \\u03ad\\u03c7\\u03b5\\u03b9 \\u03bf \\u039d\\u03af\\u03ba\\u03bf\\u03c2 \\u0391\\u03bd\\u03b4\\u03c1\\u03bf\\u03c5\\u03bb\\u03ac\\u03ba\\u03b7\\u03c2 \\u03b3\\u03b9\\u03b1 \\u03c4\\u03b7\\u03bd \\u03b1\\u03bd\\u03ac\\u03bb\\u03b7\\u03c8\\u03b7 \\u03c0\\u03c1\\u03c9\\u03c4\\u03bf\\u03b2\\u03bf\\u03c5\\u03bb\\u03b9\\u03ce\\u03bd \\u03b3\\u03b9\\u03b1 \\u03c0\\u03c1\\u03c9\\u03c4\\u03bf\\u03b2\\u03bf\\u03c5\\u03bb\\u03b9\\u03ce\\u03bd \\u03c3\\u03c4\\u03bf\\u03bd \\u03ba\\u03b5\\u03bd\\u03c4\\u03c1\\u03bf\\u03b1\\u03c1\\u03b9\\u03c3\\u03c4\\u03b5\\u03c1\\u03cc \\u03c7\\u03ce\\u03c1\\u03bf \\u03ad\\u03c7\\u03b5\\u03b9 \\u03c0\\u03b5\\u03c1\\u03b9\\u03bf\\u03c1\\u03b9\\u03c3\\u03c4\\u03b5\\u03af.\\n\\u03a3\\u03c4\\u03b9\\u03c2 \\u03b5\\u03be\\u03b5\\u03bb\\u03af\\u03be\\u03b5\\u03b9\\u03c2 \\u03c3\\u03c4\\u03b7\\u03bd \\u03ba\\u03b5\\u03bd\\u03c4\\u03c1\\u03bf\\u03b1\\u03c1\\u03b9\\u03c3\\u03c4\\u03b5\\u03c1\\u03ac \\u03b8\\u03b1 \\u03c0\\u03c1\\u03ad\\u03c0\\u03b5\\u03b9 \\u03bd\\u03b1 \\u03c3\\u03c5\\u03bd\\u03c5\\u03c0\\u03bf\\u03bb\\u03bf\\u03b3\\u03b9\\u03c3\\u03c4\\u03b5\\u03af \\u03b7 \\u03b1\\u03c0\\u03bf\\u03c4\\u03c5\\u03c7\\u03af\\u03b1 \\u03c4\\u03b7\\u03c2 \\u039d\\u03ad\\u03b1\\u03c2 \\u0391\\u03c1\\u03b9\\u03c3\\u03c4\\u03b5\\u03c1\\u03ac\\u03c2 \\u03bd\\u03b1 \\u03b5\\u03ba\\u03bb\\u03ad\\u03be\\u03b5\\u03b9 \\u03b5\\u03c5\\u03c1\\u03c9\\u03b2\\u03bf\\u03c5\\u03bb\\u03b5\\u03c5\\u03c4\\u03ae. \\u0397 \\u03c0\\u03c1\\u03ce\\u03c4\\u03b7 \\u03c4\\u03b7\\u03c2 \\u03b5\\u03ba\\u03bb\\u03bf\\u03b3\\u03b9\\u03ba\\u03ae \\u03c4\\u03b7\\u03c2 \\u03c0\\u03c1\\u03bf\\u03c3\\u03c0\\u03ac\\u03b8\\u03b5\\u03b9\\u03b1, \\u03cc\\u03c0\\u03c9\\u03c2 \\u03ba\\u03b1\\u03b9 \\u03b1\\u03c5\\u03c4\\u03ae \\u03c4\\u03c9\\u03bd \\u00ab\\u0394\\u03b7\\u03bc\\u03bf\\u03ba\\u03c1\\u03b1\\u03c4\\u03ce\\u03bd\\u00bb \\u03c4\\u03bf\\u03c5 \\u0391\\u03bd\\u03b4\\u03c1\\u03ad\\u03b1 \\u039b\\u03bf\\u03b2\\u03ad\\u03b4\\u03c1\\u03bf\\u03c5 \\u03b4\\u03b5\\u03bd \\u03c3\\u03c4\\u03ad\\u03c6\\u03b8\\u03b7\\u03ba\\u03b5 \\u03bc\\u03b5 \\u03b5\\u03c0\\u03b9\\u03c4\\u03c5\\u03c7\\u03af\\u03b1. \\u0398\\u03b1 \\u03ad\\u03c7\\u03b5\\u03b9 \\u03b5\\u03bd\\u03b4\\u03b9\\u03b1\\u03c6\\u03ad\\u03c1\\u03bf\\u03bd \\u03b7 \\u03c4\\u03b5\\u03bb\\u03b9\\u03ba\\u03ae \\u03ad\\u03ba\\u03b2\\u03b1\\u03c3\\u03b7 \\u03c4\\u03b7\\u03c2 \\u03bc\\u03ac\\u03c7\\u03b7\\u03c2 \\u03c4\\u03bf\\u03c5\\n\\u039a\\u039a\\u0395\\n\\u03bc\\u03b5 \\u03c4\\u03b7\\u03bd \\u00ab\\u0395\\u03bb\\u03bb\\u03b7\\u03bd\\u03b9\\u03ba\\u03ae \\u039b\\u03cd\\u03c3\\u03b7\\u00bb \\u03b3\\u03b9\\u03b1 \\u03c4\\u03b7\\u03bd \\u03c4\\u03ad\\u03c4\\u03b1\\u03c1\\u03c4\\u03b7 \\u03b8\\u03ad\\u03c3\\u03b7. \\u0388\\u03c7\\u03b5\\u03b9 \\u03c4\\u03b7 \\u03c3\\u03b7\\u03bc\\u03b1\\u03c3\\u03af\\u03b1 \\u03c4\\u03bf\\u03c5 \\u03ba\\u03b1\\u03b9 \\u03c4\\u03bf \\u03cc\\u03c4\\u03b9 \\u03ba\\u03b1\\u03bd\\u03ad\\u03bd\\u03b1 \\u03b1\\u03c0\\u03cc \\u03c4\\u03b1 \\u03ba\\u03cc\\u03bc\\u03bc\\u03b1\\u03c4\\u03b1 \\u03c0\\u03bf\\u03c5 \\u03b5\\u03af\\u03bd\\u03b1\\u03b9 \\u03b5\\u03ba\\u03c4\\u03cc\\u03c2 \\u0392\\u03bf\\u03c5\\u03bb\\u03ae\\u03c2 \\u03b4\\u03b5\\u03bd \\u03c6\\u03b1\\u03af\\u03bd\\u03b5\\u03c4\\u03b1\\u03b9 \\u03bd\\u03b1 \\u03ba\\u03b1\\u03c4\\u03b1\\u03c6\\u03ad\\u03c1\\u03bd\\u03b5\\u03b9 \\u03bd\\u03b1 \\u03b5\\u03ba\\u03bb\\u03ad\\u03be\\u03b5\\u03b9 \\u03b5\\u03c5\\u03c1\\u03c9\\u03b2\\u03bf\\u03c5\\u03bb\\u03b5\\u03c5\\u03c4\\u03ae, \\u03b1\\u03bb\\u03bb\\u03ac \\u03ba\\u03b1\\u03b9 \\u03c4\\u03bf \\u03c0\\u03bf\\u03c3\\u03bf\\u03c3\\u03c4\\u03cc \\u03b3\\u03cd\\u03c1\\u03c9 \\u03c3\\u03c4\\u03bf 17% \\u03c0\\u03bf\\u03c5 \\u03b1\\u03bd\\u03b1\\u03bc\\u03ad\\u03bd\\u03b5\\u03c4\\u03b1\\u03b9 \\u03bd\\u03b1 \\u03c3\\u03c5\\u03b3\\u03ba\\u03b5\\u03bd\\u03c4\\u03c1\\u03ce\\u03c3\\u03bf\\u03c5\\u03bd \\u03c4\\u03b1 \\u03ba\\u03cc\\u03bc\\u03bc\\u03b1\\u03c4\\u03b1 \\u03b4\\u03b5\\u03be\\u03b9\\u03ac \\u03c4\\u03b7\\u03c2 \\u039d\\u0394\\n\\u03b5\\u03c5\\u03c1\\u03c9\\u03b5\\u03ba\\u03bb\\u03bf\\u03b3\\u03ad\\u03c2\\n\\u0395\\u03c5\\u03c1\\u03c9\\u03b5\\u03ba\\u03bb\\u03bf\\u03b3\\u03ad\\u03c2 2024\\n\\u039a\\u03c5\\u03c1\\u03b9\\u03ac\\u03ba\\u03bf\\u03c2 \\u039c\\u03b7\\u03c4\\u03c3\\u03bf\\u03c4\\u03ac\\u03ba\\u03b7\\u03c2\\n\\u03a3\\u03c4\\u03ad\\u03c6\\u03b1\\u03bd\\u03bf\\u03c2 \\u039a\\u03b1\\u03c3\\u03c3\\u03b5\\u03bb\\u03ac\\u03ba\\u03b7\\u03c2\\n\\u039a\\u039a\\u0395\\n\\u03a0\\u0391\\u03a3\\u039f\\u039a\\n\\u03b1\\u03c0\\u03bf\\u03c7\\u03ae\\n\\u0391\\u03ba\\u03bf\\u03bb\\u03bf\\u03cd\\u03b8\\u03b7\\u03c3\\u03b5 \\u03c4\\u03bf \\u0392\\u03ae\\u03bc\\u03b1 \\u03c3\\u03c4\\u03bf\\nGoogle news\\n\\u03ba\\u03b1\\u03b9 \\u03bc\\u03ac\\u03b8\\u03b5 \\u03cc\\u03bb\\u03b5\\u03c2 \\u03c4\\u03b9\\u03c2\\n\\u03c4\\u03b5\\u03bb\\u03b5\\u03c5\\u03c4\\u03b1\\u03af\\u03b5\\u03c2 \\u03b5\\u03b9\\u03b4\\u03ae\\u03c3\\u03b5\\u03b9\\u03c2\\n.\\n\\u03a3\\u03c7\\u03b5\\u03c4\\u03b9\\u03ba\\u03ac \\u03ac\\u03c1\\u03b8\\u03c1\\u03b1\\nExit Poll: \\u03a0\\u03c1\\u03ce\\u03c4\\u03b7 \\u03b7 \\u039d\\u0394 (28% \\u2013 32%), \\u03ba\\u03b1\\u03b8\\u03b1\\u03c1\\u03ac \\u03b4\\u03b5\\u03cd\\u03c4\\u03b5\\u03c1\\u03bf\\u03c2 \\u03bf \\u03a3\\u03a5\\u03a1\\u0399\\u0396\\u0391 (15,2% \\u2013 18,2%) \\u2013 \\u039c\\u03ac\\u03c7\\u03b7 \\u03b3\\u03b9\\u03b1 \\u039d\\u0399\\u039a\\u0397, \\u03a0\\u03bb\\u03b5\\u03cd\\u03c3\\u03b7 \\u0395\\u03bb\\u03b5\\u03c5\\u03b8\\u03b5\\u03c1\\u03af\\u03b1\\u03c2\\n09.06.2024, 19:01\\nExit poll: \\u039f\\u03b9 \\u03ad\\u03b4\\u03c1\\u03b5\\u03c2 \\u03c0\\u03bf\\u03c5 \\u03b2\\u03b3\\u03ac\\u03b6\\u03bf\\u03c5\\u03bd \\u03c4\\u03b1 \\u03ba\\u03cc\\u03bc\\u03bc\\u03b1\\u03c4\\u03b1\\n09.06.2024, 18:59\\n\\u0394\\u03b7\\u03bc\\u03ae\\u03c4\\u03c1\\u03b7\\u03c2 \\u03a7\\u03cc\\u03bd\\u03b4\\u03c1\\u03bf\\u03c2\",\n          \"\\u0395\\u03c5\\u03c1\\u03c9\\u03b5\\u03ba\\u03bb\\u03bf\\u03b3\\u03ad\\u03c2: \\u03a3\\u03c4\\u03b9\\u03c2 20:20 \\u03c4\\u03b1 \\u03c0\\u03c1\\u03ce\\u03c4\\u03b1 \\u03b1\\u03c3\\u03c6\\u03b1\\u03bb\\u03ae \\u03b1\\u03c0\\u03bf\\u03c4\\u03b5\\u03bb\\u03ad\\u03c3\\u03bc\\u03b1\\u03c4\\u03b1 \\u03a3\\u03cd\\u03bc\\u03c6\\u03c9\\u03bd\\u03b1 \\u03bc\\u03b5 \\u03c3\\u03c4\\u03b5\\u03bb\\u03ad\\u03c7\\u03b7 \\u03c4\\u03b7\\u03c2 Singular Logic, \\u03bb\\u03cc\\u03b3\\u03c9 \\u03c4\\u03b7\\u03c2 \\u03bc\\u03b5\\u03b3\\u03ac\\u03bb\\u03b7\\u03c2 \\u03b1\\u03c0\\u03bf\\u03c7\\u03ae\\u03c2, \\u03b1\\u03bd\\u03c4\\u03af \\u03b3\\u03b9\\u03b1 \\u03c4\\u03b9\\u03c2 21:00, \\u03b7 \\u03b5\\u03ba\\u03c4\\u03af\\u03bc\\u03b7\\u03c3\\u03b7 \\u03b3\\u03b9\\u03b1 \\u03c4\\u03bf \\u03c4\\u03b5\\u03bb\\u03b9\\u03ba\\u03cc \\u03b1\\u03c0\\u03bf\\u03c4\\u03ad\\u03bb\\u03b5\\u03c3\\u03bc\\u03b1 \\u03b1\\u03bd\\u03b1\\u03bc\\u03ad\\u03bd\\u03b5\\u03c4\\u03b1\\u03b9 \\u03c3\\u03c4\\u03b9\\u03c2 20:20 \\u03ae \\u03ba\\u03b1\\u03b9 \\u03bd\\u03c9\\u03c1\\u03af\\u03c4\\u03b5\\u03c1\\u03b1\\nNewsroom\\n\\u03a3\\u03b1\\u03c1\\u03ac\\u03bd\\u03c4\\u03b1 \\u03bb\\u03b5\\u03c0\\u03c4\\u03ac \\u03bd\\u03c9\\u03c1\\u03af\\u03c4\\u03b5\\u03c1\\u03b1, \\u03c3\\u03b5 \\u03c3\\u03c7\\u03ad\\u03c3\\u03b7 \\u03bc\\u03b5 \\u03c4\\u03b9\\u03c2 \\u03c0\\u03c1\\u03bf\\u03b7\\u03b3\\u03bf\\u03cd\\u03bc\\u03b5\\u03bd\\u03b5\\u03c2 \\u03b5\\u03ba\\u03c4\\u03b9\\u03bc\\u03ae\\u03c3\\u03b5\\u03b9\\u03c2, \\u03b1\\u03bd\\u03b1\\u03bc\\u03ad\\u03bd\\u03b5\\u03c4\\u03b1\\u03b9 \\u03bd\\u03b1 \\u03b1\\u03bd\\u03b1\\u03ba\\u03bf\\u03b9\\u03bd\\u03c9\\u03b8\\u03b5\\u03af \\u03c4\\u03bf \\u03c0\\u03c1\\u03ce\\u03c4\\u03bf \\u03b1\\u03c3\\u03c6\\u03b1\\u03bb\\u03ad\\u03c2 \\u03b1\\u03c0\\u03bf\\u03c4\\u03ad\\u03bb\\u03b5\\u03c3\\u03bc\\u03b1 \\u03c4\\u03c9\\u03bd\\n\\u03b5\\u03c5\\u03c1\\u03c9\\u03b5\\u03ba\\u03bb\\u03bf\\u03b3\\u03ce\\u03bd\\n.\\n\\u03a3\\u03cd\\u03bc\\u03c6\\u03c9\\u03bd\\u03b1 \\u03bc\\u03b5 \\u03c3\\u03c4\\u03b5\\u03bb\\u03ad\\u03c7\\u03b7 \\u03c4\\u03b7\\u03c2 Singular Logic \\u03c0\\u03bf\\u03c5 \\u03b5\\u03c0\\u03b9\\u03ba\\u03b1\\u03bb\\u03b5\\u03af\\u03c4\\u03b1\\u03b9 \\u03c4\\u03bf \\u0391\\u03b8\\u03b7\\u03bd\\u03b1\\u03ca\\u03ba\\u03cc \\u03a0\\u03c1\\u03b1\\u03ba\\u03c4\\u03bf\\u03c1\\u03b5\\u03af\\u03bf \\u0395\\u03b9\\u03b4\\u03ae\\u03c3\\u03b5\\u03c9\\u03bd, \\u03bb\\u03cc\\u03b3\\u03c9 \\u03c4\\u03b7\\u03c2 \\u03bc\\u03b5\\u03b3\\u03ac\\u03bb\\u03b7\\u03c2 \\u03b1\\u03c0\\u03bf\\u03c7\\u03ae\\u03c2, \\u03b1\\u03bd\\u03c4\\u03af \\u03b3\\u03b9\\u03b1 \\u03c4\\u03b9\\u03c2 21:00, \\u03b7 \\u03b5\\u03ba\\u03c4\\u03af\\u03bc\\u03b7\\u03c3\\u03b7 \\u03b3\\u03b9\\u03b1 \\u03c4\\u03bf \\u03c4\\u03b5\\u03bb\\u03b9\\u03ba\\u03cc \\u03b1\\u03c0\\u03bf\\u03c4\\u03ad\\u03bb\\u03b5\\u03c3\\u03bc\\u03b1 \\u03b1\\u03bd\\u03b1\\u03bc\\u03ad\\u03bd\\u03b5\\u03c4\\u03b1\\u03b9 \\u03c3\\u03c4\\u03b9\\u03c2 20:20 \\u03ae \\u03ba\\u03b1\\u03b9 \\u03bd\\u03c9\\u03c1\\u03af\\u03c4\\u03b5\\u03c1\\u03b1.\\n\\u03a4\\u03b9\\u03c2 \\u03c3\\u03c7\\u03b5\\u03c4\\u03b9\\u03ba\\u03ad\\u03c2 \\u03b1\\u03bd\\u03b1\\u03ba\\u03bf\\u03b9\\u03bd\\u03ce\\u03c3\\u03b5\\u03b9\\u03c2 \\u03b8\\u03b1 \\u03ba\\u03ac\\u03bd\\u03b5\\u03b9 \\u03b1\\u03c0\\u03cc \\u03c4\\u03bf \\u03c5\\u03c0\\u03bf\\u03c5\\u03c1\\u03b3\\u03b5\\u03af\\u03bf \\u0395\\u03c3\\u03c9\\u03c4\\u03b5\\u03c1\\u03b9\\u03ba\\u03ce\\u03bd \\u03bf \\u03b3\\u03b5\\u03bd\\u03b9\\u03ba\\u03cc\\u03c2 \\u03b4\\u03b9\\u03b5\\u03c5\\u03b8\\u03c5\\u03bd\\u03c4\\u03ae\\u03c2 \\u03c4\\u03b7\\u03c2 \\u03b5\\u03c4\\u03b1\\u03b9\\u03c1\\u03b5\\u03af\\u03b1\\u03c2, \\u0394\\u03b7\\u03bc\\u03ae\\u03c4\\u03c1\\u03b7\\u03c2 \\u039c\\u03c0\\u03b1\\u03ba\\u03ac\\u03ba\\u03bf\\u03c2.\"\n        ],\n        \"semantic_type\": \"\",\n        \"description\": \"\"\n      }\n    }\n  ]\n}"
            }
          },
          "metadata": {},
          "execution_count": 14
        }
      ]
    },
    {
      "cell_type": "code",
      "source": [
        "short_df['year'] = pd.DatetimeIndex(short_df['datetime']).year\n",
        "short_df['month'] = pd.DatetimeIndex(short_df['datetime']).month\n",
        "short_df['day'] = pd.DatetimeIndex(short_df['datetime']).day\n",
        "short_df['hour'] = pd.DatetimeIndex(short_df['datetime']).hour"
      ],
      "metadata": {
        "colab": {
          "base_uri": "https://localhost:8080/"
        },
        "id": "L7UoTT7FZ577",
        "outputId": "ab59121d-e58b-486b-dec6-ff80cfe281e2"
      },
      "execution_count": null,
      "outputs": [
        {
          "output_type": "stream",
          "name": "stderr",
          "text": [
            "<ipython-input-15-d89a16ac556a>:1: SettingWithCopyWarning: \n",
            "A value is trying to be set on a copy of a slice from a DataFrame.\n",
            "Try using .loc[row_indexer,col_indexer] = value instead\n",
            "\n",
            "See the caveats in the documentation: https://pandas.pydata.org/pandas-docs/stable/user_guide/indexing.html#returning-a-view-versus-a-copy\n",
            "  short_df['year'] = pd.DatetimeIndex(short_df['datetime']).year\n"
          ]
        }
      ]
    },
    {
      "cell_type": "code",
      "source": [
        "short_df.head(1)"
      ],
      "metadata": {
        "colab": {
          "base_uri": "https://localhost:8080/",
          "height": 80
        },
        "id": "WfdpIVyzZ9-_",
        "outputId": "d260243c-5706-4ce2-eb08-dea1716bf4e8"
      },
      "execution_count": null,
      "outputs": [
        {
          "output_type": "execute_result",
          "data": {
            "text/plain": [
              "              datetime                                          full_text  \\\n",
              "0  2024-06-09 23:59:17  Ευρωεκλογές 2024: Παραμένουν στην τρίτη θέση π...   \n",
              "\n",
              "   year  month  day  hour  \n",
              "0  2024      6    9    23  "
            ],
            "text/html": [
              "\n",
              "  <div id=\"df-af35321d-a63d-4cb3-b11f-eff138e7afc0\" class=\"colab-df-container\">\n",
              "    <div>\n",
              "<style scoped>\n",
              "    .dataframe tbody tr th:only-of-type {\n",
              "        vertical-align: middle;\n",
              "    }\n",
              "\n",
              "    .dataframe tbody tr th {\n",
              "        vertical-align: top;\n",
              "    }\n",
              "\n",
              "    .dataframe thead th {\n",
              "        text-align: right;\n",
              "    }\n",
              "</style>\n",
              "<table border=\"1\" class=\"dataframe\">\n",
              "  <thead>\n",
              "    <tr style=\"text-align: right;\">\n",
              "      <th></th>\n",
              "      <th>datetime</th>\n",
              "      <th>full_text</th>\n",
              "      <th>year</th>\n",
              "      <th>month</th>\n",
              "      <th>day</th>\n",
              "      <th>hour</th>\n",
              "    </tr>\n",
              "  </thead>\n",
              "  <tbody>\n",
              "    <tr>\n",
              "      <th>0</th>\n",
              "      <td>2024-06-09 23:59:17</td>\n",
              "      <td>Ευρωεκλογές 2024: Παραμένουν στην τρίτη θέση π...</td>\n",
              "      <td>2024</td>\n",
              "      <td>6</td>\n",
              "      <td>9</td>\n",
              "      <td>23</td>\n",
              "    </tr>\n",
              "  </tbody>\n",
              "</table>\n",
              "</div>\n",
              "    <div class=\"colab-df-buttons\">\n",
              "\n",
              "  <div class=\"colab-df-container\">\n",
              "    <button class=\"colab-df-convert\" onclick=\"convertToInteractive('df-af35321d-a63d-4cb3-b11f-eff138e7afc0')\"\n",
              "            title=\"Convert this dataframe to an interactive table.\"\n",
              "            style=\"display:none;\">\n",
              "\n",
              "  <svg xmlns=\"http://www.w3.org/2000/svg\" height=\"24px\" viewBox=\"0 -960 960 960\">\n",
              "    <path d=\"M120-120v-720h720v720H120Zm60-500h600v-160H180v160Zm220 220h160v-160H400v160Zm0 220h160v-160H400v160ZM180-400h160v-160H180v160Zm440 0h160v-160H620v160ZM180-180h160v-160H180v160Zm440 0h160v-160H620v160Z\"/>\n",
              "  </svg>\n",
              "    </button>\n",
              "\n",
              "  <style>\n",
              "    .colab-df-container {\n",
              "      display:flex;\n",
              "      gap: 12px;\n",
              "    }\n",
              "\n",
              "    .colab-df-convert {\n",
              "      background-color: #E8F0FE;\n",
              "      border: none;\n",
              "      border-radius: 50%;\n",
              "      cursor: pointer;\n",
              "      display: none;\n",
              "      fill: #1967D2;\n",
              "      height: 32px;\n",
              "      padding: 0 0 0 0;\n",
              "      width: 32px;\n",
              "    }\n",
              "\n",
              "    .colab-df-convert:hover {\n",
              "      background-color: #E2EBFA;\n",
              "      box-shadow: 0px 1px 2px rgba(60, 64, 67, 0.3), 0px 1px 3px 1px rgba(60, 64, 67, 0.15);\n",
              "      fill: #174EA6;\n",
              "    }\n",
              "\n",
              "    .colab-df-buttons div {\n",
              "      margin-bottom: 4px;\n",
              "    }\n",
              "\n",
              "    [theme=dark] .colab-df-convert {\n",
              "      background-color: #3B4455;\n",
              "      fill: #D2E3FC;\n",
              "    }\n",
              "\n",
              "    [theme=dark] .colab-df-convert:hover {\n",
              "      background-color: #434B5C;\n",
              "      box-shadow: 0px 1px 3px 1px rgba(0, 0, 0, 0.15);\n",
              "      filter: drop-shadow(0px 1px 2px rgba(0, 0, 0, 0.3));\n",
              "      fill: #FFFFFF;\n",
              "    }\n",
              "  </style>\n",
              "\n",
              "    <script>\n",
              "      const buttonEl =\n",
              "        document.querySelector('#df-af35321d-a63d-4cb3-b11f-eff138e7afc0 button.colab-df-convert');\n",
              "      buttonEl.style.display =\n",
              "        google.colab.kernel.accessAllowed ? 'block' : 'none';\n",
              "\n",
              "      async function convertToInteractive(key) {\n",
              "        const element = document.querySelector('#df-af35321d-a63d-4cb3-b11f-eff138e7afc0');\n",
              "        const dataTable =\n",
              "          await google.colab.kernel.invokeFunction('convertToInteractive',\n",
              "                                                    [key], {});\n",
              "        if (!dataTable) return;\n",
              "\n",
              "        const docLinkHtml = 'Like what you see? Visit the ' +\n",
              "          '<a target=\"_blank\" href=https://colab.research.google.com/notebooks/data_table.ipynb>data table notebook</a>'\n",
              "          + ' to learn more about interactive tables.';\n",
              "        element.innerHTML = '';\n",
              "        dataTable['output_type'] = 'display_data';\n",
              "        await google.colab.output.renderOutput(dataTable, element);\n",
              "        const docLink = document.createElement('div');\n",
              "        docLink.innerHTML = docLinkHtml;\n",
              "        element.appendChild(docLink);\n",
              "      }\n",
              "    </script>\n",
              "  </div>\n",
              "\n",
              "\n",
              "    </div>\n",
              "  </div>\n"
            ],
            "application/vnd.google.colaboratory.intrinsic+json": {
              "type": "dataframe",
              "variable_name": "short_df",
              "summary": "{\n  \"name\": \"short_df\",\n  \"rows\": 1315,\n  \"fields\": [\n    {\n      \"column\": \"datetime\",\n      \"properties\": {\n        \"dtype\": \"object\",\n        \"num_unique_values\": 1197,\n        \"samples\": [\n          \"2024-06-09 19:54:21\",\n          \"2024-06-09 22:20:49\",\n          \"2024-06-09 23:26:43\"\n        ],\n        \"semantic_type\": \"\",\n        \"description\": \"\"\n      }\n    },\n    {\n      \"column\": \"full_text\",\n      \"properties\": {\n        \"dtype\": \"string\",\n        \"num_unique_values\": 1315,\n        \"samples\": [\n          \"\\u0395\\u03c5\\u03c1\\u03c9\\u03b5\\u03ba\\u03bb\\u03bf\\u03b3\\u03ad\\u03c2 2024 \\u03b1\\u03c0\\u03bf\\u03c4\\u03b5\\u03bb\\u03ad\\u03c3\\u03bc\\u03b1\\u03c4\\u03b1: \\u03a0\\u03c1\\u03ce\\u03c4\\u03b7 \\u03b7 \\u039d\\u0394 \\u03ba\\u03b1\\u03b9 \\u03c3\\u03c4\\u03bf\\u03c5\\u03c2 \\u03c4\\u03c1\\u03b5\\u03b9\\u03c2 \\u03c4\\u03bf\\u03bc\\u03b5\\u03af\\u03c2 \\u03c4\\u03b7\\u03c2 \\u0392' \\u0391\\u03b8\\u03b7\\u03bd\\u03ce\\u03bd \\u03a4\\u03b9 \\u03b4\\u03b5\\u03af\\u03c7\\u03bd\\u03bf\\u03c5\\u03bd \\u03c4\\u03b1 \\u03b1\\u03c0\\u03bf\\u03c4\\u03b5\\u03bb\\u03ad\\u03c3\\u03bc\\u03b1\\u03c4\\u03b1\\n\\u03a3\\u03c4\\u03b7 \\u03b4\\u03b5\\u03cd\\u03c4\\u03b5\\u03c1\\u03b7 \\u03b8\\u03ad\\u03c3\\u03b7 \\u03bf \\u03a3\\u03a5\\u03a1\\u0399\\u0396\\u0391 \\u03ba\\u03b1\\u03b9 \\u03c3\\u03c4\\u03b7\\u03bd \\u03c4\\u03c1\\u03af\\u03c4\\u03b7 \\u03c4\\u03bf \\u039a\\u039a\\u0395\\n\\u03a0\\u03c1\\u03ce\\u03c4\\u03b7 \\u03ba\\u03b1\\u03b9 \\u03c3\\u03c4\\u03bf\\u03c5\\u03c2 \\u03c4\\u03c1\\u03b5\\u03b9\\u03c2 \\u03c4\\u03bf\\u03bc\\u03b5\\u03af\\u03c2 \\u03c4\\u03b7\\u03c2 \\u0392' \\u0391\\u03b8\\u03b7\\u03bd\\u03ce\\u03bd \\u03b2\\u03c1\\u03af\\u03c3\\u03ba\\u03b5\\u03c4\\u03b1\\u03b9 \\u03b7 \\u039d\\u03ad\\u03b1 \\u0394\\u03b7\\u03bc\\u03bf\\u03ba\\u03c1\\u03b1\\u03c4\\u03af\\u03b1 \\u03bc\\u03b5 \\u03c4\\u03bf\\u03bd \\u03a3\\u03a5\\u03a1\\u0399\\u0396\\u0391 \\u03bd\\u03b1 \\u03b1\\u03ba\\u03bf\\u03bb\\u03bf\\u03c5\\u03b8\\u03b5\\u03af \\u03ba\\u03b1\\u03b9 \\u03c4\\u03bf \\u039a\\u039a\\u0395 \\u03bd\\u03b1 \\u03b5\\u03af\\u03bd\\u03b1\\u03b9 \\u03c4\\u03c1\\u03af\\u03c4\\u03bf. \\u03a3\\u03cd\\u03bc\\u03c6\\u03c9\\u03bd\\u03b1 \\u03bc\\u03b5 \\u03c4\\u03b1 \\u03c0\\u03c1\\u03ce\\u03c4\\u03b1 \\u03b1\\u03c0\\u03bf\\u03c4\\u03b5\\u03bb\\u03ad\\u03c3\\u03bc\\u03b1\\u03c4\\u03b1, \\u03c4\\u03c9\\u03bd\\n\\u03b5\\u03c5\\u03c1\\u03c9\\u03b5\\u03ba\\u03bb\\u03bf\\u03b3\\u03ce\\u03bd\\n\\u03c3\\u03c4\\u03bf\\u03bd \\u03b2\\u03cc\\u03c1\\u03b5\\u03b9\\u03bf \\u03c4\\u03bf\\u03bc\\u03ad\\u03b1 \\u03b7 \\u039d\\u0394 \\u03c3\\u03c5\\u03b3\\u03ba\\u03b5\\u03bd\\u03c4\\u03c1\\u03ce\\u03bd\\u03b5\\u03b9 33,92%, \\u03c3\\u03c4\\u03bf\\u03bd \\u03b4\\u03c5\\u03c4\\u03b9\\u03ba\\u03cc \\u03c4\\u03bf\\u03bc\\u03ad\\u03b1 22,50% \\u03ba\\u03b1\\u03b9 \\u03c3\\u03c4\\u03bf\\u03bd \\u03bd\\u03cc\\u03c4\\u03b9\\u03bf \\u03c4\\u03bf\\u03bc\\u03ad\\u03b1 29,49%.\\n\\u03a4\\u03b1 \\u03b1\\u03bd\\u03c4\\u03af\\u03c3\\u03c4\\u03bf\\u03b9\\u03c7\\u03b1 \\u03c0\\u03bf\\u03c3\\u03bf\\u03c3\\u03c4\\u03ac \\u03c4\\u03bf\\u03c5 \\u03a3\\u03a5\\u03a1\\u0399\\u0396\\u0391 \\u03b5\\u03af\\u03bd\\u03b1\\u03b9 15,07%, 18,89% \\u03ba\\u03b1\\u03b9 17,02%. \\u03a4\\u03b7\\u03bd \\u03af\\u03b4\\u03b9\\u03b1 \\u03ce\\u03c1\\u03b1 \\u03c4\\u03b1 \\u03c0\\u03bf\\u03c3\\u03bf\\u03c3\\u03c4\\u03ac \\u03c4\\u03bf\\u03c5 \\u039a\\u039a\\u0395 \\u03b5\\u03af\\u03bd\\u03b1\\u03b9 9,98%, 14,64% \\u03ba\\u03b1\\u03b9 11,47%.\",\n          \"\\u00ab\\u038c\\u03bb\\u03b1 \\u03b1\\u03c1\\u03c7\\u03af\\u03b6\\u03bf\\u03c5\\u03bd \\u03b1\\u03bb\\u03bb\\u03b9\\u03ce\\u03c2\\u00bb \\u2013 T\\u03bf \\u03c3\\u03ba\\u03b7\\u03bd\\u03b9\\u03ba\\u03cc \\u03bc\\u03b5\\u03c4\\u03ac \\u03c4\\u03b1 exit polls \\u0394\\u03b7\\u03bc\\u03ae\\u03c4\\u03c1\\u03b7\\u03c2 \\u03a7\\u03cc\\u03bd\\u03b4\\u03c1\\u03bf\\u03c2\\n\\u0394\\u03b7\\u03bc\\u03ae\\u03c4\\u03c1\\u03b7\\u03c2 \\u03a7\\u03cc\\u03bd\\u03b4\\u03c1\\u03bf\\u03c2\\n09.06.2024\\n19:14\\n\\u0393\\u03bd\\u03ce\\u03bc\\u03b5\\u03c2\\n\\u0394\\u03b7\\u03bc\\u03ae\\u03c4\\u03c1\\u03b7\\u03c2 \\u03a7\\u03cc\\u03bd\\u03b4\\u03c1\\u03bf\\u03c2\\n\\u0391\\u03c0\\u03cc \\u03c4\\u03b9\\u03c2 \\u03ba\\u03ac\\u03bb\\u03c0\\u03b5\\u03c2 \\u03c6\\u03b1\\u03af\\u03bd\\u03b5\\u03c4\\u03b1\\u03b9 \\u03bd\\u03b1 \\u03be\\u03b5\\u03c0\\u03c1\\u03bf\\u03b2\\u03ac\\u03bb\\u03bb\\u03b5\\u03b9 \\u03ad\\u03bd\\u03b1 \\u03bd\\u03ad\\u03bf \\u03c0\\u03bf\\u03bb\\u03b9\\u03c4\\u03b9\\u03ba\\u03cc \\u03c3\\u03ba\\u03b7\\u03bd\\u03b9\\u03ba\\u03cc - \\u0391\\u03c0\\u03cc \\u03c4\\u03b7 \\u0394\\u03b5\\u03c5\\u03c4\\u03ad\\u03c1\\u03b1 \\u00ab\\u03cc\\u03bb\\u03b1 \\u03b1\\u03c1\\u03c7\\u03af\\u03b6\\u03bf\\u03c5\\u03bd \\u03b1\\u03bb\\u03bb\\u03b9\\u03ce\\u03c2\\u00bb.\\n\\u039a\\u03ac\\u03b8\\u03b5 \\u03c0\\u03c1\\u03bf\\u03c3\\u03c0\\u03ac\\u03b8\\u03b5\\u03b9\\u03b1 \\u03b1\\u03c0\\u03bf\\u03c4\\u03cd\\u03c0\\u03c9\\u03c3\\u03b7\\u03c2 \\u03c4\\u03bf\\u03c5 \\u03bc\\u03b5\\u03c4\\u03b5\\u03ba\\u03bb\\u03bf\\u03b3\\u03b9\\u03ba\\u03bf\\u03cd \\u03c4\\u03bf\\u03c0\\u03af\\u03bf\\u03c5 \\u03bc\\u03b5 \\u03b2\\u03ac\\u03c3\\u03b7 \\u03c4\\u03b1\\nexit polls\\n\\u03c4\\u03b5\\u03bb\\u03b5\\u03af \\u03c5\\u03c0\\u03cc \\u03c4\\u03b7\\u03bd \\u03b1\\u03af\\u03c1\\u03b5\\u03c3\\u03b7 \\u03c4\\u03bf\\u03c5 \\u03b5\\u03ba\\u03bb\\u03bf\\u03b3\\u03b9\\u03ba\\u03bf\\u03cd \\u03b1\\u03c0\\u03bf\\u03c4\\u03b5\\u03bb\\u03ad\\u03c3\\u03bc\\u03b1\\u03c4\\u03bf\\u03c2. \\u0397 \\u03bc\\u03b5\\u03b3\\u03ac\\u03bb\\u03b7 \\u03b5\\u03b9\\u03ba\\u03cc\\u03bd\\u03b1, \\u03c3\\u03b5 \\u03c3\\u03c7\\u03ad\\u03c3\\u03b7 \\u03bc\\u03b5 \\u03c4\\u03b9\\u03c2 \\u03b5\\u03b8\\u03bd\\u03b9\\u03ba\\u03ad\\u03c2 \\u03b5\\u03ba\\u03bb\\u03bf\\u03b3\\u03ad\\u03c2, \\u03b4\\u03b5\\u03bd \\u03b1\\u03bb\\u03bb\\u03ac\\u03b6\\u03b5\\u03b9 \\u03b4\\u03c1\\u03b1\\u03bc\\u03b1\\u03c4\\u03b9\\u03ba\\u03ac. \\u03a9\\u03c3\\u03c4\\u03cc\\u03c3\\u03bf, \\u03b1\\u03c0\\u03cc \\u03c4\\u03b9\\u03c2 \\u03ba\\u03ac\\u03bb\\u03c0\\u03b5\\u03c2 \\u03c6\\u03b1\\u03af\\u03bd\\u03b5\\u03c4\\u03b1\\u03b9 \\u03bd\\u03b1 \\u03be\\u03b5\\u03c0\\u03c1\\u03bf\\u03b2\\u03ac\\u03bb\\u03bb\\u03b5\\u03b9 \\u03ad\\u03bd\\u03b1 \\u03bd\\u03ad\\u03bf \\u03c0\\u03bf\\u03bb\\u03b9\\u03c4\\u03b9\\u03ba\\u03cc \\u03c3\\u03ba\\u03b7\\u03bd\\u03b9\\u03ba\\u03cc. \\u03a7\\u03c9\\u03c1\\u03af\\u03c2 \\u03b1\\u03c0\\u03cc\\u03bb\\u03c5\\u03c4\\u03b5\\u03c2 \\u03c0\\u03bf\\u03bb\\u03b9\\u03c4\\u03b9\\u03ba\\u03ad\\u03c2 \\u03ba\\u03c5\\u03c1\\u03b9\\u03b1\\u03c1\\u03c7\\u03af\\u03b5\\u03c2. \\u039c\\u03b5 \\u03bd\\u03ad\\u03b1 \\u03b4\\u03b5\\u03b4\\u03bf\\u03bc\\u03ad\\u03bd\\u03b1 \\u03c3\\u03c4\\u03bf \\u03c7\\u03ce\\u03c1\\u03bf \\u03c4\\u03b7\\u03c2 \\u03ba\\u03b5\\u03bd\\u03c4\\u03c1\\u03bf\\u03b1\\u03c1\\u03b9\\u03c3\\u03c4\\u03b5\\u03c1\\u03ac\\u03c2. \\u039f\\u03b9 \\u03c0\\u03bf\\u03bb\\u03af\\u03c4\\u03b5\\u03c2 \\u03b5\\u03c0\\u03ad\\u03bb\\u03b5\\u03be\\u03b1\\u03bd \\u03bd\\u03b1 \\u03c3\\u03c4\\u03b5\\u03af\\u03bb\\u03bf\\u03c5\\u03bd \\u03ad\\u03bd\\u03b1 \\u03b4\\u03b9\\u03c0\\u03bb\\u03cc \\u03bc\\u03ae\\u03bd\\u03c5\\u03bc\\u03b1. \\u03a3\\u03b5 \\u03cc\\u03bb\\u03bf \\u03c4\\u03bf \\u03c0\\u03bf\\u03bb\\u03b9\\u03c4\\u03b9\\u03ba\\u03cc \\u03c3\\u03ba\\u03b7\\u03bd\\u03b9\\u03ba\\u03cc \\u03bc\\u03b5 \\u03c4\\u03b7\\u03bd\\n\\u03b1\\u03c0\\u03bf\\u03c7\\u03ae\\n\\u03c4\\u03bf\\u03c5\\u03c2. \\u039a\\u03b1\\u03b9 \\u03c3\\u03c4\\u03bf \\u03ba\\u03ac\\u03b8\\u03b5 \\u03ba\\u03cc\\u03bc\\u03bc\\u03b1 \\u03be\\u03b5\\u03c7\\u03c9\\u03c1\\u03b9\\u03c3\\u03c4\\u03ac \\u03bc\\u03b5 \\u03c4\\u03b7\\u03bd \\u03b5\\u03c0\\u03b9\\u03bb\\u03bf\\u03b3\\u03ae \\u03c4\\u03bf\\u03c5\\u03c2 \\u03c3\\u03c4\\u03b7\\u03bd \\u03ba\\u03ac\\u03bb\\u03c0\\u03b7. \\u0391\\u03c0\\u03cc \\u03c4\\u03b7 \\u0394\\u03b5\\u03c5\\u03c4\\u03ad\\u03c1\\u03b1 \\u00ab\\u03cc\\u03bb\\u03b1 \\u03b1\\u03c1\\u03c7\\u03af\\u03b6\\u03bf\\u03c5\\u03bd \\u03b1\\u03bb\\u03bb\\u03b9\\u03ce\\u03c2\\u00bb.\\n\\u039f\\n\\u039a\\u03c5\\u03c1\\u03b9\\u03ac\\u03ba\\u03bf\\u03c2 \\u039c\\u03b7\\u03c4\\u03c3\\u03bf\\u03c4\\u03ac\\u03ba\\u03b7\\u03c2\\n\\u03b5\\u03c0\\u03b9\\u03b2\\u03b5\\u03b2\\u03b1\\u03af\\u03c9\\u03c3\\u03b5 \\u03c4\\u03b7\\u03bd \\u03c0\\u03bf\\u03bb\\u03b9\\u03c4\\u03b9\\u03ba\\u03ae \\u03c5\\u03c0\\u03b5\\u03c1\\u03bf\\u03c7\\u03ae \\u03c4\\u03bf\\u03c5 \\u03ad\\u03bd\\u03b1\\u03bd\\u03c4\\u03b9 \\u03c4\\u03c9\\u03bd \\u03b1\\u03bd\\u03c4\\u03b9\\u03c0\\u03ac\\u03bb\\u03c9\\u03bd \\u03c4\\u03bf\\u03c5 \\u03b1\\u03bb\\u03bb\\u03ac \\u03ba\\u03b1\\u03b9 \\u03c4\\u03b1 \\u03b1\\u03bd\\u03bf\\u03b9\\u03c7\\u03c4\\u03ac \\u03c4\\u03bf\\u03c5 \\u03bc\\u03ad\\u03c4\\u03c9\\u03c0\\u03b1 \\u03bc\\u03b5 \\u03c4\\u03b7\\u03bd \\u03ba\\u03bf\\u03b9\\u03bd\\u03c9\\u03bd\\u03af\\u03b1. \\u0397 \\u039d\\u0394 \\u03b4\\u03b5\\u03bd \\u03c6\\u03b1\\u03af\\u03bd\\u03b5\\u03c4\\u03b1\\u03b9 \\u03bd\\u03b1 \\u03be\\u03b5\\u03c0\\u03b5\\u03c1\\u03bd\\u03ac \\u03c4\\u03bf\\u03bd \\u03c0\\u03ae\\u03c7\\u03b7 \\u03c4\\u03c9\\u03bd \\u03c0\\u03c1\\u03bf\\u03b7\\u03b3\\u03bf\\u03cd\\u03bc\\u03b5\\u03bd\\u03c9\\u03bd \\u03b5\\u03ba\\u03bb\\u03bf\\u03b3\\u03ce\\u03bd \\u03b8\\u03b1 \\u03ba\\u03b9\\u03bd\\u03b7\\u03b8\\u03b5\\u03af \\u03ba\\u03bf\\u03bd\\u03c4\\u03ac \\u03c3\\u03c4\\u03bf 30%. \\u0391\\u03c5\\u03c4\\u03cc \\u03c3\\u03c5\\u03bd\\u03b9\\u03c3\\u03c4\\u03ac \\u03ad\\u03bd\\u03b1 \\u03bc\\u03ae\\u03bd\\u03c5\\u03bc\\u03b1 \\u03b4\\u03c5\\u03c3\\u03b1\\u03c1\\u03ad\\u03c3\\u03ba\\u03b5\\u03b9\\u03b1\\u03c2 \\u03c0\\u03bf\\u03c5 \\u03b4\\u03b5\\u03bd \\u03bc\\u03c0\\u03bf\\u03c1\\u03b5\\u03af \\u03bd\\u03b1 \\u03c0\\u03b5\\u03c1\\u03ac\\u03c3\\u03b5\\u03b9 \\u03b1\\u03c0\\u03b1\\u03c1\\u03b1\\u03c4\\u03ae\\u03c1\\u03b7\\u03c4\\u03bf. \\u0397 \\u03c6\\u03b8\\u03bf\\u03c1\\u03ac \\u03ba\\u03b1\\u03c4\\u03ac\\u03c6\\u03b5\\u03c1\\u03b5 \\u03bd\\u03b1 \\u03c0\\u03b5\\u03c1\\u03ac\\u03c3\\u03b5\\u03b9 \\u03c4\\u03b7\\u03bd \\u03ba\\u03c5\\u03b2\\u03b5\\u03c1\\u03bd\\u03b7\\u03c4\\u03b9\\u03ba\\u03ae \\u03c0\\u03b1\\u03bd\\u03bf\\u03c0\\u03bb\\u03af\\u03b1 \\u03ba\\u03b1\\u03b9 \\u03b1\\u03c5\\u03c4\\u03cc \\u03b5\\u03af\\u03bd\\u03b1\\u03b9 \\u03ad\\u03bd\\u03b1 \\u03b1\\u03bd\\u03b7\\u03c3\\u03c5\\u03c7\\u03b7\\u03c4\\u03b9\\u03ba\\u03cc \\u03bc\\u03ae\\u03bd\\u03c5\\u03bc\\u03b1 \\u03b3\\u03b9\\u03b1 \\u03c4\\u03bf \\u039c\\u03ad\\u03b3\\u03b1\\u03c1\\u03bf \\u039c\\u03b1\\u03be\\u03af\\u03bc\\u03bf\\u03c5. \\u039f \\u03b4\\u03c1\\u03cc\\u03bc\\u03bf\\u03c2 \\u03c0\\u03c1\\u03bf\\u03c2 \\u03c4\\u03b9\\u03c2 \\u03b5\\u03c0\\u03cc\\u03bc\\u03b5\\u03bd\\u03b5\\u03c2 \\u03b5\\u03b8\\u03bd\\u03b9\\u03ba\\u03ad\\u03c2 \\u03b5\\u03ba\\u03bb\\u03bf\\u03b3\\u03ad\\u03c2 \\u03b1\\u03c0\\u03ad\\u03ba\\u03c4\\u03b7\\u03c3\\u03b5 \\u03ad\\u03bd\\u03b1 \\u03bc\\u03b5\\u03b3\\u03b1\\u03bb\\u03cd\\u03c4\\u03b5\\u03c1\\u03bf \\u03b2\\u03b1\\u03b8\\u03bc\\u03cc \\u03b4\\u03c5\\u03c3\\u03ba\\u03bf\\u03bb\\u03af\\u03b1\\u03c2 \\u03b3\\u03b9\\u03b1 \\u03c4\\u03bf\\u03bd \\u039a\\u03c5\\u03c1\\u03b9\\u03ac\\u03ba\\u03bf \\u039c\\u03b7\\u03c4\\u03c3\\u03bf\\u03c4\\u03ac\\u03ba\\u03b7. \\u0394\\u03b5\\u03bd \\u03b5\\u03af\\u03bd\\u03b1\\u03b9 \\u03bc\\u03b9\\u03ba\\u03c1\\u03cc \\u03c0\\u03c1\\u03ac\\u03b3\\u03bc\\u03b1 \\u03b7 \\u03b1\\u03c0\\u03ce\\u03bb\\u03b5\\u03b9\\u03b1 10 \\u03bc\\u03bf\\u03bd\\u03ac\\u03b4\\u03c9\\u03bd \\u03bc\\u03ad\\u03c3\\u03b1 \\u03c3\\u03b5 \\u03ad\\u03bd\\u03b1 \\u03c7\\u03c1\\u03cc\\u03bd\\u03bf.\\n\\u03a4\\u03b1 \\u03b2\\u03bb\\u03ad\\u03bc\\u03bc\\u03b1\\u03c4\\u03b1, \\u03c3\\u03c4\\u03c1\\u03ad\\u03c6\\u03bf\\u03bd\\u03c4\\u03b1\\u03b9 \\u03c3\\u03c4\\u03bf\\u03bd\\n\\u03a3\\u03c4\\u03ad\\u03c6\\u03b1\\u03bd\\u03bf \\u039a\\u03b1\\u03c3\\u03c3\\u03b5\\u03bb\\u03ac\\u03ba\\u03b7\\n. \\u0394\\u03b5\\u03bd \\u03c6\\u03b1\\u03af\\u03bd\\u03b5\\u03c4\\u03b1\\u03b9 \\u03bd\\u03b1 \\u03c0\\u03b1\\u03af\\u03c1\\u03bd\\u03b5\\u03b9 \\u03c0\\u03bf\\u03c3\\u03bf\\u03c3\\u03c4\\u03cc \\u03c0\\u03ac\\u03bd\\u03c9 \\u03b1\\u03c0\\u03cc 20%, \\u03cc\\u03c0\\u03c9\\u03c2 \\u03b8\\u03b1 \\u03ae\\u03b8\\u03b5\\u03bb\\u03b5, \\u03ba\\u03b9\\u03bd\\u03b5\\u03af\\u03c4\\u03b1\\u03b9 \\u03ba\\u03ac\\u03c4\\u03c9 \\u03b1\\u03c0\\u03cc \\u03c4\\u03b9\\u03c2 \\u03b5\\u03c0\\u03b9\\u03b4\\u03cc\\u03c3\\u03b5\\u03b9\\u03c2 \\u03c4\\u03bf\\u03c5 \\u03a3\\u03a5\\u03a1\\u0399\\u0396\\u0391 \\u03c3\\u03c4\\u03b9\\u03c2 \\u03b5\\u03b8\\u03bd\\u03b9\\u03ba\\u03ad\\u03c2 \\u03b5\\u03ba\\u03bb\\u03bf\\u03b3\\u03ad\\u03c2 \\u03b1\\u03bb\\u03bb\\u03ac \\u03ad\\u03c7\\u03b5\\u03b9 \\u03c4\\u03b7 \\u03bc\\u03c0\\u03ac\\u03bb\\u03b1 \\u03c3\\u03c4\\u03b1 \\u03c0\\u03cc\\u03b4\\u03b9\\u03b1 \\u03c4\\u03bf\\u03c5. \\u039a\\u03b1\\u03c4\\u03ac\\u03c6\\u03b5\\u03c1\\u03b5 \\u03bd\\u03b1 \\u03b5\\u03af\\u03bd\\u03b1\\u03b9 \\u03c3\\u03c4\\u03b7 \\u03b4\\u03b5\\u03cd\\u03c4\\u03b5\\u03c1\\u03b7 \\u03b8\\u03ad\\u03c3\\u03b7 \\u03b1\\u03c6\\u03ae\\u03bd\\u03bf\\u03bd\\u03c4\\u03b1\\u03c2 \\u03c4\\u03c1\\u03af\\u03c4\\u03bf, \\u03bc\\u03b5 \\u03b4\\u03b9\\u03b1\\u03c6\\u03bf\\u03c1\\u03ac, \\u03c4\\u03bf \\u03a0\\u03b1\\u03a3\\u03bf\\u039a. \\u039f \\u03ba. \\u039a\\u03b1\\u03c3\\u03c3\\u03b5\\u03bb\\u03ac\\u03ba\\u03b7\\u03c2 \\u03bc\\u03b5 \\u03c4\\u03b7\\u03bd \\u03b5\\u03ba\\u03bb\\u03bf\\u03b3\\u03b9\\u03ba\\u03ae \\u03c4\\u03bf\\u03c5 \\u03b5\\u03c0\\u03af\\u03b4\\u03bf\\u03c3\\u03b7, \\u03c0\\u03bf\\u03c5 \\u03c3\\u03b5 \\u03bc\\u03b5\\u03b3\\u03ac\\u03bb\\u03bf \\u03b2\\u03b1\\u03b8\\u03bc\\u03cc \\u03b5\\u03af\\u03bd\\u03b1\\u03b9 \\u03c0\\u03c1\\u03bf\\u03c3\\u03c9\\u03c0\\u03b9\\u03ba\\u03ae, \\u03bc\\u03c0\\u03ae\\u03ba\\u03b5 \\u03c3\\u03c4\\u03b7 \\u03b8\\u03ad\\u03c3\\u03b7 \\u03c4\\u03bf\\u03c5 \\u03bf\\u03b4\\u03b7\\u03b3\\u03bf\\u03cd \\u03c4\\u03c9\\u03bd \\u03b5\\u03be\\u03b5\\u03bb\\u03af\\u03be\\u03b5\\u03c9\\u03bd \\u03c3\\u03c4\\u03b7\\u03bd \\u03ba\\u03b5\\u03bd\\u03c4\\u03c1\\u03bf\\u03b1\\u03c1\\u03b9\\u03c3\\u03c4\\u03b5\\u03c1\\u03ac. \\u03a4\\u03bf \\u03b5\\u03c1\\u03ce\\u03c4\\u03b7\\u03bc\\u03b1 \\u03b5\\u03af\\u03bd\\u03b1\\u03b9 \\u03c0\\u03bf\\u03b9\\u03b5\\u03c2 \\u03b8\\u03b1 \\u03b5\\u03af\\u03bd\\u03b1\\u03b9 \\u03bf\\u03b9 \\u03b5\\u03c0\\u03cc\\u03bc\\u03b5\\u03bd\\u03b5\\u03c2 \\u03ba\\u03b9\\u03bd\\u03ae\\u03c3\\u03b5\\u03b9\\u03c2 \\u03c4\\u03bf\\u03c5. \\u039c\\u03b5 \\u03c0\\u03bf\\u03b9\\u03b1 \\u03c4\\u03b1\\u03c7\\u03cd\\u03c4\\u03b7\\u03c4\\u03b1 \\u03b8\\u03b1 \\u03c0\\u03c1\\u03bf\\u03c7\\u03c9\\u03c1\\u03ae\\u03c3\\u03b5\\u03b9 \\u03c3\\u03c4\\u03b7 \\u03b4\\u03b7\\u03bc\\u03b9\\u03bf\\u03c5\\u03c1\\u03b3\\u03af\\u03b1 \\u03c4\\u03b7\\u03c2 \\u03b4\\u03b9\\u03ba\\u03ae\\u03c2 \\u03c4\\u03bf\\u03c5 \\u00ab\\u03c0\\u03c1\\u03bf\\u03bf\\u03b4\\u03b5\\u03c5\\u03c4\\u03b9\\u03ba\\u03ae\\u03c2 \\u03c0\\u03b1\\u03c1\\u03ac\\u03c4\\u03b1\\u03be\\u03b7\\u03c2\\u00bb. \\u03a4\\u03b9 \\u03b1\\u03bd\\u03b1\\u03c4\\u03b1\\u03c1\\u03ac\\u03be\\u03b5\\u03b9\\u03c2 \\u03b8\\u03b1 \\u03c0\\u03c1\\u03bf\\u03ba\\u03b1\\u03bb\\u03ad\\u03c3\\u03b5\\u03b9 \\u03ba\\u03b1\\u03b9 \\u03c4\\u03b9 \\u03b1\\u03bd\\u03c4\\u03b9\\u03b4\\u03c1\\u03ac\\u03c3\\u03b5\\u03b9\\u03c2 \\u03b8\\u03b1 \\u03c3\\u03c5\\u03bd\\u03b1\\u03bd\\u03c4\\u03ae\\u03c3\\u03b5\\u03b9. \\u03a3\\u03b5 \\u03ba\\u03ac\\u03b8\\u03b5 \\u03c0\\u03b5\\u03c1\\u03af\\u03c0\\u03c4\\u03c9\\u03c3\\u03b7 \\u03bf \\u03a3\\u03a5\\u03a1\\u0399\\u0396\\u0391 \\u03b5\\u03b9\\u03c3\\u03ad\\u03c1\\u03c7\\u03b5\\u03c4\\u03b1\\u03b9 \\u03c3\\u03b5 \\u03ad\\u03bd\\u03b1 \\u03bd\\u03ad\\u03bf \\u03ba\\u03b5\\u03c6\\u03ac\\u03bb\\u03b1\\u03b9\\u03bf \\u03c4\\u03b7\\u03c2 \\u03b9\\u03c3\\u03c4\\u03bf\\u03c1\\u03af\\u03b1\\u03c2 \\u03c4\\u03bf\\u03c5.\\n\\u03a4\\u03bf\\n\\u03a0\\u03b1\\u03a3\\u03bf\\u039a\\n\\u03b4\\u03b5\\u03af\\u03c7\\u03bd\\u03b5\\u03b9 \\u03bd\\u03b1 \\u03ba\\u03b9\\u03bd\\u03b5\\u03af\\u03c4\\u03b1\\u03b9 \\u03ba\\u03bf\\u03bd\\u03c4\\u03ac \\u03c3\\u03c4\\u03b7\\u03bd \\u03b5\\u03c0\\u03af\\u03b4\\u03bf\\u03c3\\u03b7 \\u03c0\\u03bf\\u03c5 \\u03b5\\u03af\\u03c7\\u03b5 \\u03c3\\u03c4\\u03b9\\u03c2 \\u03b5\\u03b8\\u03bd\\u03b9\\u03ba\\u03ad\\u03c2 \\u03b5\\u03ba\\u03bb\\u03bf\\u03b3\\u03ad\\u03c2. \\u0394\\u03b5\\u03bd \\u03ba\\u03b1\\u03c4\\u03ac\\u03c6\\u03b5\\u03c1\\u03b5, \\u03cc\\u03bc\\u03c9\\u03c2 \\u03bd\\u03b1 \\u03b1\\u03bd\\u03b1\\u03c4\\u03c1\\u03ad\\u03c8\\u03b5\\u03b9 \\u03c4\\u03bf\\u03c5\\u03c2 \\u03c3\\u03c5\\u03c3\\u03c7\\u03b5\\u03c4\\u03b9\\u03c3\\u03bc\\u03bf\\u03cd\\u03c2 \\u03c3\\u03c4\\u03bf\\u03bd \\u03ba\\u03b5\\u03bd\\u03c4\\u03c1\\u03bf\\u03b1\\u03c1\\u03b9\\u03c3\\u03c4\\u03b5\\u03c1\\u03cc \\u03c7\\u03ce\\u03c1\\u03bf, \\u03bd\\u03b1 \\u03c0\\u03ac\\u03c1\\u03b5\\u03b9 \\u03c4\\u03b7 \\u03b4\\u03b5\\u03cd\\u03c4\\u03b5\\u03c1\\u03b7 \\u03b8\\u03ad\\u03c3\\u03b7. \\u039f\\u03b9 \\u03ba\\u03ac\\u03bb\\u03c0\\u03b5\\u03c2 \\u03b4\\u03b5\\u03bd \\u03bc\\u03b5\\u03c4\\u03ad\\u03b4\\u03c9\\u03c3\\u03b1\\u03bd, \\u03cc\\u03c0\\u03c9\\u03c2 \\u03b8\\u03b1 \\u03ae\\u03b8\\u03b5\\u03bb\\u03b5 \\u03b7 \\u03b7\\u03b3\\u03b5\\u03c3\\u03af\\u03b1 \\u03ba\\u03b1\\u03b9 \\u03b7 \\u03b2\\u03ac\\u03c3\\u03b7 \\u03c4\\u03bf\\u03c5, \\u03c4\\u03bf \\u03bc\\u03ae\\u03bd\\u03c5\\u03bc\\u03b1 \\u03b5\\u03bd\\u03cc\\u03c2 \\u03ba\\u03cc\\u03bc\\u03bc\\u03b1\\u03c4\\u03bf\\u03c2 \\u03c0\\u03bf\\u03c5 \\u03b2\\u03c1\\u03af\\u03c3\\u03ba\\u03b5\\u03c4\\u03b1\\u03b9 \\u03c3\\u03b5 \\u03ac\\u03bd\\u03bf\\u03b4\\u03bf \\u03b1\\u03bb\\u03bb\\u03ac \\u03b5\\u03bd\\u03cc\\u03c2 \\u03ba\\u03cc\\u03bc\\u03bc\\u03b1\\u03c4\\u03bf\\u03c2 \\u03c0\\u03bf\\u03c5 \\u03b8\\u03b1 \\u03bc\\u03c0\\u03b5\\u03b9 \\u03c3\\u03b5 \\u03c3\\u03c5\\u03b6\\u03b7\\u03c4\\u03ae\\u03c3\\u03b5\\u03b9\\u03c2 \\u03b3\\u03b9\\u03b1 \\u03c4\\u03bf \\u03bc\\u03ad\\u03bb\\u03bb\\u03bf\\u03bd \\u03c4\\u03bf\\u03c5. \\u038a\\u03c3\\u03c9\\u03c2 \\u03ba\\u03b1\\u03b9 \\u03c3\\u03b5 \\u03ad\\u03bd\\u03b1 \\u03ba\\u03cd\\u03ba\\u03bb\\u03bf \\u03b5\\u03c3\\u03c9\\u03c3\\u03c4\\u03c1\\u03ad\\u03c6\\u03b5\\u03b9\\u03b1\\u03c2. \\u03a3\\u03b5 \\u03ba\\u03ac\\u03b8\\u03b5 \\u03c0\\u03b5\\u03c1\\u03af\\u03c0\\u03c4\\u03c9\\u03c3\\u03b7, \\u03c4\\u03bf \\u03c0\\u03b5\\u03c1\\u03b9\\u03b8\\u03ce\\u03c1\\u03b9\\u03bf \\u03c0\\u03bf\\u03c5 \\u03ad\\u03c7\\u03b5\\u03b9 \\u03bf \\u039d\\u03af\\u03ba\\u03bf\\u03c2 \\u0391\\u03bd\\u03b4\\u03c1\\u03bf\\u03c5\\u03bb\\u03ac\\u03ba\\u03b7\\u03c2 \\u03b3\\u03b9\\u03b1 \\u03c4\\u03b7\\u03bd \\u03b1\\u03bd\\u03ac\\u03bb\\u03b7\\u03c8\\u03b7 \\u03c0\\u03c1\\u03c9\\u03c4\\u03bf\\u03b2\\u03bf\\u03c5\\u03bb\\u03b9\\u03ce\\u03bd \\u03b3\\u03b9\\u03b1 \\u03c0\\u03c1\\u03c9\\u03c4\\u03bf\\u03b2\\u03bf\\u03c5\\u03bb\\u03b9\\u03ce\\u03bd \\u03c3\\u03c4\\u03bf\\u03bd \\u03ba\\u03b5\\u03bd\\u03c4\\u03c1\\u03bf\\u03b1\\u03c1\\u03b9\\u03c3\\u03c4\\u03b5\\u03c1\\u03cc \\u03c7\\u03ce\\u03c1\\u03bf \\u03ad\\u03c7\\u03b5\\u03b9 \\u03c0\\u03b5\\u03c1\\u03b9\\u03bf\\u03c1\\u03b9\\u03c3\\u03c4\\u03b5\\u03af.\\n\\u03a3\\u03c4\\u03b9\\u03c2 \\u03b5\\u03be\\u03b5\\u03bb\\u03af\\u03be\\u03b5\\u03b9\\u03c2 \\u03c3\\u03c4\\u03b7\\u03bd \\u03ba\\u03b5\\u03bd\\u03c4\\u03c1\\u03bf\\u03b1\\u03c1\\u03b9\\u03c3\\u03c4\\u03b5\\u03c1\\u03ac \\u03b8\\u03b1 \\u03c0\\u03c1\\u03ad\\u03c0\\u03b5\\u03b9 \\u03bd\\u03b1 \\u03c3\\u03c5\\u03bd\\u03c5\\u03c0\\u03bf\\u03bb\\u03bf\\u03b3\\u03b9\\u03c3\\u03c4\\u03b5\\u03af \\u03b7 \\u03b1\\u03c0\\u03bf\\u03c4\\u03c5\\u03c7\\u03af\\u03b1 \\u03c4\\u03b7\\u03c2 \\u039d\\u03ad\\u03b1\\u03c2 \\u0391\\u03c1\\u03b9\\u03c3\\u03c4\\u03b5\\u03c1\\u03ac\\u03c2 \\u03bd\\u03b1 \\u03b5\\u03ba\\u03bb\\u03ad\\u03be\\u03b5\\u03b9 \\u03b5\\u03c5\\u03c1\\u03c9\\u03b2\\u03bf\\u03c5\\u03bb\\u03b5\\u03c5\\u03c4\\u03ae. \\u0397 \\u03c0\\u03c1\\u03ce\\u03c4\\u03b7 \\u03c4\\u03b7\\u03c2 \\u03b5\\u03ba\\u03bb\\u03bf\\u03b3\\u03b9\\u03ba\\u03ae \\u03c4\\u03b7\\u03c2 \\u03c0\\u03c1\\u03bf\\u03c3\\u03c0\\u03ac\\u03b8\\u03b5\\u03b9\\u03b1, \\u03cc\\u03c0\\u03c9\\u03c2 \\u03ba\\u03b1\\u03b9 \\u03b1\\u03c5\\u03c4\\u03ae \\u03c4\\u03c9\\u03bd \\u00ab\\u0394\\u03b7\\u03bc\\u03bf\\u03ba\\u03c1\\u03b1\\u03c4\\u03ce\\u03bd\\u00bb \\u03c4\\u03bf\\u03c5 \\u0391\\u03bd\\u03b4\\u03c1\\u03ad\\u03b1 \\u039b\\u03bf\\u03b2\\u03ad\\u03b4\\u03c1\\u03bf\\u03c5 \\u03b4\\u03b5\\u03bd \\u03c3\\u03c4\\u03ad\\u03c6\\u03b8\\u03b7\\u03ba\\u03b5 \\u03bc\\u03b5 \\u03b5\\u03c0\\u03b9\\u03c4\\u03c5\\u03c7\\u03af\\u03b1. \\u0398\\u03b1 \\u03ad\\u03c7\\u03b5\\u03b9 \\u03b5\\u03bd\\u03b4\\u03b9\\u03b1\\u03c6\\u03ad\\u03c1\\u03bf\\u03bd \\u03b7 \\u03c4\\u03b5\\u03bb\\u03b9\\u03ba\\u03ae \\u03ad\\u03ba\\u03b2\\u03b1\\u03c3\\u03b7 \\u03c4\\u03b7\\u03c2 \\u03bc\\u03ac\\u03c7\\u03b7\\u03c2 \\u03c4\\u03bf\\u03c5\\n\\u039a\\u039a\\u0395\\n\\u03bc\\u03b5 \\u03c4\\u03b7\\u03bd \\u00ab\\u0395\\u03bb\\u03bb\\u03b7\\u03bd\\u03b9\\u03ba\\u03ae \\u039b\\u03cd\\u03c3\\u03b7\\u00bb \\u03b3\\u03b9\\u03b1 \\u03c4\\u03b7\\u03bd \\u03c4\\u03ad\\u03c4\\u03b1\\u03c1\\u03c4\\u03b7 \\u03b8\\u03ad\\u03c3\\u03b7. \\u0388\\u03c7\\u03b5\\u03b9 \\u03c4\\u03b7 \\u03c3\\u03b7\\u03bc\\u03b1\\u03c3\\u03af\\u03b1 \\u03c4\\u03bf\\u03c5 \\u03ba\\u03b1\\u03b9 \\u03c4\\u03bf \\u03cc\\u03c4\\u03b9 \\u03ba\\u03b1\\u03bd\\u03ad\\u03bd\\u03b1 \\u03b1\\u03c0\\u03cc \\u03c4\\u03b1 \\u03ba\\u03cc\\u03bc\\u03bc\\u03b1\\u03c4\\u03b1 \\u03c0\\u03bf\\u03c5 \\u03b5\\u03af\\u03bd\\u03b1\\u03b9 \\u03b5\\u03ba\\u03c4\\u03cc\\u03c2 \\u0392\\u03bf\\u03c5\\u03bb\\u03ae\\u03c2 \\u03b4\\u03b5\\u03bd \\u03c6\\u03b1\\u03af\\u03bd\\u03b5\\u03c4\\u03b1\\u03b9 \\u03bd\\u03b1 \\u03ba\\u03b1\\u03c4\\u03b1\\u03c6\\u03ad\\u03c1\\u03bd\\u03b5\\u03b9 \\u03bd\\u03b1 \\u03b5\\u03ba\\u03bb\\u03ad\\u03be\\u03b5\\u03b9 \\u03b5\\u03c5\\u03c1\\u03c9\\u03b2\\u03bf\\u03c5\\u03bb\\u03b5\\u03c5\\u03c4\\u03ae, \\u03b1\\u03bb\\u03bb\\u03ac \\u03ba\\u03b1\\u03b9 \\u03c4\\u03bf \\u03c0\\u03bf\\u03c3\\u03bf\\u03c3\\u03c4\\u03cc \\u03b3\\u03cd\\u03c1\\u03c9 \\u03c3\\u03c4\\u03bf 17% \\u03c0\\u03bf\\u03c5 \\u03b1\\u03bd\\u03b1\\u03bc\\u03ad\\u03bd\\u03b5\\u03c4\\u03b1\\u03b9 \\u03bd\\u03b1 \\u03c3\\u03c5\\u03b3\\u03ba\\u03b5\\u03bd\\u03c4\\u03c1\\u03ce\\u03c3\\u03bf\\u03c5\\u03bd \\u03c4\\u03b1 \\u03ba\\u03cc\\u03bc\\u03bc\\u03b1\\u03c4\\u03b1 \\u03b4\\u03b5\\u03be\\u03b9\\u03ac \\u03c4\\u03b7\\u03c2 \\u039d\\u0394\\n\\u03b5\\u03c5\\u03c1\\u03c9\\u03b5\\u03ba\\u03bb\\u03bf\\u03b3\\u03ad\\u03c2\\n\\u0395\\u03c5\\u03c1\\u03c9\\u03b5\\u03ba\\u03bb\\u03bf\\u03b3\\u03ad\\u03c2 2024\\n\\u039a\\u03c5\\u03c1\\u03b9\\u03ac\\u03ba\\u03bf\\u03c2 \\u039c\\u03b7\\u03c4\\u03c3\\u03bf\\u03c4\\u03ac\\u03ba\\u03b7\\u03c2\\n\\u03a3\\u03c4\\u03ad\\u03c6\\u03b1\\u03bd\\u03bf\\u03c2 \\u039a\\u03b1\\u03c3\\u03c3\\u03b5\\u03bb\\u03ac\\u03ba\\u03b7\\u03c2\\n\\u039a\\u039a\\u0395\\n\\u03a0\\u0391\\u03a3\\u039f\\u039a\\n\\u03b1\\u03c0\\u03bf\\u03c7\\u03ae\\n\\u0391\\u03ba\\u03bf\\u03bb\\u03bf\\u03cd\\u03b8\\u03b7\\u03c3\\u03b5 \\u03c4\\u03bf \\u0392\\u03ae\\u03bc\\u03b1 \\u03c3\\u03c4\\u03bf\\nGoogle news\\n\\u03ba\\u03b1\\u03b9 \\u03bc\\u03ac\\u03b8\\u03b5 \\u03cc\\u03bb\\u03b5\\u03c2 \\u03c4\\u03b9\\u03c2\\n\\u03c4\\u03b5\\u03bb\\u03b5\\u03c5\\u03c4\\u03b1\\u03af\\u03b5\\u03c2 \\u03b5\\u03b9\\u03b4\\u03ae\\u03c3\\u03b5\\u03b9\\u03c2\\n.\\n\\u03a3\\u03c7\\u03b5\\u03c4\\u03b9\\u03ba\\u03ac \\u03ac\\u03c1\\u03b8\\u03c1\\u03b1\\nExit Poll: \\u03a0\\u03c1\\u03ce\\u03c4\\u03b7 \\u03b7 \\u039d\\u0394 (28% \\u2013 32%), \\u03ba\\u03b1\\u03b8\\u03b1\\u03c1\\u03ac \\u03b4\\u03b5\\u03cd\\u03c4\\u03b5\\u03c1\\u03bf\\u03c2 \\u03bf \\u03a3\\u03a5\\u03a1\\u0399\\u0396\\u0391 (15,2% \\u2013 18,2%) \\u2013 \\u039c\\u03ac\\u03c7\\u03b7 \\u03b3\\u03b9\\u03b1 \\u039d\\u0399\\u039a\\u0397, \\u03a0\\u03bb\\u03b5\\u03cd\\u03c3\\u03b7 \\u0395\\u03bb\\u03b5\\u03c5\\u03b8\\u03b5\\u03c1\\u03af\\u03b1\\u03c2\\n09.06.2024, 19:01\\nExit poll: \\u039f\\u03b9 \\u03ad\\u03b4\\u03c1\\u03b5\\u03c2 \\u03c0\\u03bf\\u03c5 \\u03b2\\u03b3\\u03ac\\u03b6\\u03bf\\u03c5\\u03bd \\u03c4\\u03b1 \\u03ba\\u03cc\\u03bc\\u03bc\\u03b1\\u03c4\\u03b1\\n09.06.2024, 18:59\\n\\u0394\\u03b7\\u03bc\\u03ae\\u03c4\\u03c1\\u03b7\\u03c2 \\u03a7\\u03cc\\u03bd\\u03b4\\u03c1\\u03bf\\u03c2\",\n          \"\\u0395\\u03c5\\u03c1\\u03c9\\u03b5\\u03ba\\u03bb\\u03bf\\u03b3\\u03ad\\u03c2: \\u03a3\\u03c4\\u03b9\\u03c2 20:20 \\u03c4\\u03b1 \\u03c0\\u03c1\\u03ce\\u03c4\\u03b1 \\u03b1\\u03c3\\u03c6\\u03b1\\u03bb\\u03ae \\u03b1\\u03c0\\u03bf\\u03c4\\u03b5\\u03bb\\u03ad\\u03c3\\u03bc\\u03b1\\u03c4\\u03b1 \\u03a3\\u03cd\\u03bc\\u03c6\\u03c9\\u03bd\\u03b1 \\u03bc\\u03b5 \\u03c3\\u03c4\\u03b5\\u03bb\\u03ad\\u03c7\\u03b7 \\u03c4\\u03b7\\u03c2 Singular Logic, \\u03bb\\u03cc\\u03b3\\u03c9 \\u03c4\\u03b7\\u03c2 \\u03bc\\u03b5\\u03b3\\u03ac\\u03bb\\u03b7\\u03c2 \\u03b1\\u03c0\\u03bf\\u03c7\\u03ae\\u03c2, \\u03b1\\u03bd\\u03c4\\u03af \\u03b3\\u03b9\\u03b1 \\u03c4\\u03b9\\u03c2 21:00, \\u03b7 \\u03b5\\u03ba\\u03c4\\u03af\\u03bc\\u03b7\\u03c3\\u03b7 \\u03b3\\u03b9\\u03b1 \\u03c4\\u03bf \\u03c4\\u03b5\\u03bb\\u03b9\\u03ba\\u03cc \\u03b1\\u03c0\\u03bf\\u03c4\\u03ad\\u03bb\\u03b5\\u03c3\\u03bc\\u03b1 \\u03b1\\u03bd\\u03b1\\u03bc\\u03ad\\u03bd\\u03b5\\u03c4\\u03b1\\u03b9 \\u03c3\\u03c4\\u03b9\\u03c2 20:20 \\u03ae \\u03ba\\u03b1\\u03b9 \\u03bd\\u03c9\\u03c1\\u03af\\u03c4\\u03b5\\u03c1\\u03b1\\nNewsroom\\n\\u03a3\\u03b1\\u03c1\\u03ac\\u03bd\\u03c4\\u03b1 \\u03bb\\u03b5\\u03c0\\u03c4\\u03ac \\u03bd\\u03c9\\u03c1\\u03af\\u03c4\\u03b5\\u03c1\\u03b1, \\u03c3\\u03b5 \\u03c3\\u03c7\\u03ad\\u03c3\\u03b7 \\u03bc\\u03b5 \\u03c4\\u03b9\\u03c2 \\u03c0\\u03c1\\u03bf\\u03b7\\u03b3\\u03bf\\u03cd\\u03bc\\u03b5\\u03bd\\u03b5\\u03c2 \\u03b5\\u03ba\\u03c4\\u03b9\\u03bc\\u03ae\\u03c3\\u03b5\\u03b9\\u03c2, \\u03b1\\u03bd\\u03b1\\u03bc\\u03ad\\u03bd\\u03b5\\u03c4\\u03b1\\u03b9 \\u03bd\\u03b1 \\u03b1\\u03bd\\u03b1\\u03ba\\u03bf\\u03b9\\u03bd\\u03c9\\u03b8\\u03b5\\u03af \\u03c4\\u03bf \\u03c0\\u03c1\\u03ce\\u03c4\\u03bf \\u03b1\\u03c3\\u03c6\\u03b1\\u03bb\\u03ad\\u03c2 \\u03b1\\u03c0\\u03bf\\u03c4\\u03ad\\u03bb\\u03b5\\u03c3\\u03bc\\u03b1 \\u03c4\\u03c9\\u03bd\\n\\u03b5\\u03c5\\u03c1\\u03c9\\u03b5\\u03ba\\u03bb\\u03bf\\u03b3\\u03ce\\u03bd\\n.\\n\\u03a3\\u03cd\\u03bc\\u03c6\\u03c9\\u03bd\\u03b1 \\u03bc\\u03b5 \\u03c3\\u03c4\\u03b5\\u03bb\\u03ad\\u03c7\\u03b7 \\u03c4\\u03b7\\u03c2 Singular Logic \\u03c0\\u03bf\\u03c5 \\u03b5\\u03c0\\u03b9\\u03ba\\u03b1\\u03bb\\u03b5\\u03af\\u03c4\\u03b1\\u03b9 \\u03c4\\u03bf \\u0391\\u03b8\\u03b7\\u03bd\\u03b1\\u03ca\\u03ba\\u03cc \\u03a0\\u03c1\\u03b1\\u03ba\\u03c4\\u03bf\\u03c1\\u03b5\\u03af\\u03bf \\u0395\\u03b9\\u03b4\\u03ae\\u03c3\\u03b5\\u03c9\\u03bd, \\u03bb\\u03cc\\u03b3\\u03c9 \\u03c4\\u03b7\\u03c2 \\u03bc\\u03b5\\u03b3\\u03ac\\u03bb\\u03b7\\u03c2 \\u03b1\\u03c0\\u03bf\\u03c7\\u03ae\\u03c2, \\u03b1\\u03bd\\u03c4\\u03af \\u03b3\\u03b9\\u03b1 \\u03c4\\u03b9\\u03c2 21:00, \\u03b7 \\u03b5\\u03ba\\u03c4\\u03af\\u03bc\\u03b7\\u03c3\\u03b7 \\u03b3\\u03b9\\u03b1 \\u03c4\\u03bf \\u03c4\\u03b5\\u03bb\\u03b9\\u03ba\\u03cc \\u03b1\\u03c0\\u03bf\\u03c4\\u03ad\\u03bb\\u03b5\\u03c3\\u03bc\\u03b1 \\u03b1\\u03bd\\u03b1\\u03bc\\u03ad\\u03bd\\u03b5\\u03c4\\u03b1\\u03b9 \\u03c3\\u03c4\\u03b9\\u03c2 20:20 \\u03ae \\u03ba\\u03b1\\u03b9 \\u03bd\\u03c9\\u03c1\\u03af\\u03c4\\u03b5\\u03c1\\u03b1.\\n\\u03a4\\u03b9\\u03c2 \\u03c3\\u03c7\\u03b5\\u03c4\\u03b9\\u03ba\\u03ad\\u03c2 \\u03b1\\u03bd\\u03b1\\u03ba\\u03bf\\u03b9\\u03bd\\u03ce\\u03c3\\u03b5\\u03b9\\u03c2 \\u03b8\\u03b1 \\u03ba\\u03ac\\u03bd\\u03b5\\u03b9 \\u03b1\\u03c0\\u03cc \\u03c4\\u03bf \\u03c5\\u03c0\\u03bf\\u03c5\\u03c1\\u03b3\\u03b5\\u03af\\u03bf \\u0395\\u03c3\\u03c9\\u03c4\\u03b5\\u03c1\\u03b9\\u03ba\\u03ce\\u03bd \\u03bf \\u03b3\\u03b5\\u03bd\\u03b9\\u03ba\\u03cc\\u03c2 \\u03b4\\u03b9\\u03b5\\u03c5\\u03b8\\u03c5\\u03bd\\u03c4\\u03ae\\u03c2 \\u03c4\\u03b7\\u03c2 \\u03b5\\u03c4\\u03b1\\u03b9\\u03c1\\u03b5\\u03af\\u03b1\\u03c2, \\u0394\\u03b7\\u03bc\\u03ae\\u03c4\\u03c1\\u03b7\\u03c2 \\u039c\\u03c0\\u03b1\\u03ba\\u03ac\\u03ba\\u03bf\\u03c2.\"\n        ],\n        \"semantic_type\": \"\",\n        \"description\": \"\"\n      }\n    },\n    {\n      \"column\": \"year\",\n      \"properties\": {\n        \"dtype\": \"int32\",\n        \"num_unique_values\": 1,\n        \"samples\": [\n          2024\n        ],\n        \"semantic_type\": \"\",\n        \"description\": \"\"\n      }\n    },\n    {\n      \"column\": \"month\",\n      \"properties\": {\n        \"dtype\": \"int32\",\n        \"num_unique_values\": 1,\n        \"samples\": [\n          6\n        ],\n        \"semantic_type\": \"\",\n        \"description\": \"\"\n      }\n    },\n    {\n      \"column\": \"day\",\n      \"properties\": {\n        \"dtype\": \"int32\",\n        \"num_unique_values\": 1,\n        \"samples\": [\n          9\n        ],\n        \"semantic_type\": \"\",\n        \"description\": \"\"\n      }\n    },\n    {\n      \"column\": \"hour\",\n      \"properties\": {\n        \"dtype\": \"int32\",\n        \"num_unique_values\": 7,\n        \"samples\": [\n          23\n        ],\n        \"semantic_type\": \"\",\n        \"description\": \"\"\n      }\n    }\n  ]\n}"
            }
          },
          "metadata": {},
          "execution_count": 16
        }
      ]
    },
    {
      "cell_type": "code",
      "source": [
        "short_df['hour'].value_counts().plot(kind='bar')"
      ],
      "metadata": {
        "colab": {
          "base_uri": "https://localhost:8080/",
          "height": 470
        },
        "id": "EuyG6R8AaGDT",
        "outputId": "67faa1d5-18e5-40c4-8e57-8d8729e14269"
      },
      "execution_count": null,
      "outputs": [
        {
          "output_type": "execute_result",
          "data": {
            "text/plain": [
              "<Axes: xlabel='hour'>"
            ]
          },
          "metadata": {},
          "execution_count": 17
        },
        {
          "output_type": "display_data",
          "data": {
            "text/plain": [
              "<Figure size 640x480 with 1 Axes>"
            ],
            "image/png": "[encoded data removed]"
          },
          "metadata": {}
        }
      ]
    },
    {
      "cell_type": "code",
      "source": [
        "df['date'] = df[['date', 'time']].agg(' '.join, axis=1)"
      ],
      "metadata": {
        "id": "DY1TxC9hbHlg"
      },
      "execution_count": null,
      "outputs": []
    },
    {
      "cell_type": "code",
      "source": [
        "selected_cols_df = df[[\"source\", \"title\", \"date\",  \"full_text\"]]\n",
        "selected_cols_df.head(1)"
      ],
      "metadata": {
        "colab": {
          "base_uri": "https://localhost:8080/",
          "height": 80
        },
        "id": "QcaajL3uaz3W",
        "outputId": "9c422720-792b-4a44-f21c-33819d4f9135"
      },
      "execution_count": null,
      "outputs": [
        {
          "output_type": "execute_result",
          "data": {
            "text/plain": [
              "      source                                              title  \\\n",
              "0  tovima.gr  Ευρωεκλογές 2024: Παραμένουν στην τρίτη θέση π...   \n",
              "\n",
              "                  date                                          full_text  \n",
              "0  2024-06-09 23:59:17  Ευρωεκλογές 2024: Παραμένουν στην τρίτη θέση π...  "
            ],
            "text/html": [
              "\n",
              "  <div id=\"df-05f17d38-4206-41c7-b3ee-0db3f24fd745\" class=\"colab-df-container\">\n",
              "    <div>\n",
              "<style scoped>\n",
              "    .dataframe tbody tr th:only-of-type {\n",
              "        vertical-align: middle;\n",
              "    }\n",
              "\n",
              "    .dataframe tbody tr th {\n",
              "        vertical-align: top;\n",
              "    }\n",
              "\n",
              "    .dataframe thead th {\n",
              "        text-align: right;\n",
              "    }\n",
              "</style>\n",
              "<table border=\"1\" class=\"dataframe\">\n",
              "  <thead>\n",
              "    <tr style=\"text-align: right;\">\n",
              "      <th></th>\n",
              "      <th>source</th>\n",
              "      <th>title</th>\n",
              "      <th>date</th>\n",
              "      <th>full_text</th>\n",
              "    </tr>\n",
              "  </thead>\n",
              "  <tbody>\n",
              "    <tr>\n",
              "      <th>0</th>\n",
              "      <td>tovima.gr</td>\n",
              "      <td>Ευρωεκλογές 2024: Παραμένουν στην τρίτη θέση π...</td>\n",
              "      <td>2024-06-09 23:59:17</td>\n",
              "      <td>Ευρωεκλογές 2024: Παραμένουν στην τρίτη θέση π...</td>\n",
              "    </tr>\n",
              "  </tbody>\n",
              "</table>\n",
              "</div>\n",
              "    <div class=\"colab-df-buttons\">\n",
              "\n",
              "  <div class=\"colab-df-container\">\n",
              "    <button class=\"colab-df-convert\" onclick=\"convertToInteractive('df-05f17d38-4206-41c7-b3ee-0db3f24fd745')\"\n",
              "            title=\"Convert this dataframe to an interactive table.\"\n",
              "            style=\"display:none;\">\n",
              "\n",
              "  <svg xmlns=\"http://www.w3.org/2000/svg\" height=\"24px\" viewBox=\"0 -960 960 960\">\n",
              "    <path d=\"M120-120v-720h720v720H120Zm60-500h600v-160H180v160Zm220 220h160v-160H400v160Zm0 220h160v-160H400v160ZM180-400h160v-160H180v160Zm440 0h160v-160H620v160ZM180-180h160v-160H180v160Zm440 0h160v-160H620v160Z\"/>\n",
              "  </svg>\n",
              "    </button>\n",
              "\n",
              "  <style>\n",
              "    .colab-df-container {\n",
              "      display:flex;\n",
              "      gap: 12px;\n",
              "    }\n",
              "\n",
              "    .colab-df-convert {\n",
              "      background-color: #E8F0FE;\n",
              "      border: none;\n",
              "      border-radius: 50%;\n",
              "      cursor: pointer;\n",
              "      display: none;\n",
              "      fill: #1967D2;\n",
              "      height: 32px;\n",
              "      padding: 0 0 0 0;\n",
              "      width: 32px;\n",
              "    }\n",
              "\n",
              "    .colab-df-convert:hover {\n",
              "      background-color: #E2EBFA;\n",
              "      box-shadow: 0px 1px 2px rgba(60, 64, 67, 0.3), 0px 1px 3px 1px rgba(60, 64, 67, 0.15);\n",
              "      fill: #174EA6;\n",
              "    }\n",
              "\n",
              "    .colab-df-buttons div {\n",
              "      margin-bottom: 4px;\n",
              "    }\n",
              "\n",
              "    [theme=dark] .colab-df-convert {\n",
              "      background-color: #3B4455;\n",
              "      fill: #D2E3FC;\n",
              "    }\n",
              "\n",
              "    [theme=dark] .colab-df-convert:hover {\n",
              "      background-color: #434B5C;\n",
              "      box-shadow: 0px 1px 3px 1px rgba(0, 0, 0, 0.15);\n",
              "      filter: drop-shadow(0px 1px 2px rgba(0, 0, 0, 0.3));\n",
              "      fill: #FFFFFF;\n",
              "    }\n",
              "  </style>\n",
              "\n",
              "    <script>\n",
              "      const buttonEl =\n",
              "        document.querySelector('#df-05f17d38-4206-41c7-b3ee-0db3f24fd745 button.colab-df-convert');\n",
              "      buttonEl.style.display =\n",
              "        google.colab.kernel.accessAllowed ? 'block' : 'none';\n",
              "\n",
              "      async function convertToInteractive(key) {\n",
              "        const element = document.querySelector('#df-05f17d38-4206-41c7-b3ee-0db3f24fd745');\n",
              "        const dataTable =\n",
              "          await google.colab.kernel.invokeFunction('convertToInteractive',\n",
              "                                                    [key], {});\n",
              "        if (!dataTable) return;\n",
              "\n",
              "        const docLinkHtml = 'Like what you see? Visit the ' +\n",
              "          '<a target=\"_blank\" href=https://colab.research.google.com/notebooks/data_table.ipynb>data table notebook</a>'\n",
              "          + ' to learn more about interactive tables.';\n",
              "        element.innerHTML = '';\n",
              "        dataTable['output_type'] = 'display_data';\n",
              "        await google.colab.output.renderOutput(dataTable, element);\n",
              "        const docLink = document.createElement('div');\n",
              "        docLink.innerHTML = docLinkHtml;\n",
              "        element.appendChild(docLink);\n",
              "      }\n",
              "    </script>\n",
              "  </div>\n",
              "\n",
              "\n",
              "    </div>\n",
              "  </div>\n"
            ],
            "application/vnd.google.colaboratory.intrinsic+json": {
              "type": "dataframe",
              "variable_name": "selected_cols_df",
              "summary": "{\n  \"name\": \"selected_cols_df\",\n  \"rows\": 1315,\n  \"fields\": [\n    {\n      \"column\": \"source\",\n      \"properties\": {\n        \"dtype\": \"category\",\n        \"num_unique_values\": 20,\n        \"samples\": [\n          \"tovima.gr\",\n          \"newsbomb.gr\",\n          \"naftemporiki.gr\"\n        ],\n        \"semantic_type\": \"\",\n        \"description\": \"\"\n      }\n    },\n    {\n      \"column\": \"title\",\n      \"properties\": {\n        \"dtype\": \"string\",\n        \"num_unique_values\": 1281,\n        \"samples\": [\n          \"\\u039c\\u03b5\\u03b3\\u03b1\\u03bb\\u03cd\\u03c4\\u03b5\\u03c1\\u03b7 \\u03b7 \\u03b1\\u03c0\\u03bf\\u03c7\\u03ae \\u03c3\\u03c4\\u03b7 \\u0393\\u03b5\\u03c1\\u03bc\\u03b1\\u03bd\\u03af\\u03b1 \\u03c3\\u03c5\\u03b3\\u03ba\\u03c1\\u03b9\\u03c4\\u03b9\\u03ba\\u03ac \\u03bc\\u03b5 \\u03c4\\u03b9\\u03c2 \\u03b5\\u03c5\\u03c1\\u03c9\\u03b5\\u03ba\\u03bb\\u03bf\\u03b3\\u03b9\\u03ba\\u03ad\\u03c2 \\u03c4\\u03bf\\u03c5 2019\",\n          \"\\u0391\\u03c0\\u03bf\\u03c4\\u03b5\\u03bb\\u03ad\\u03c3\\u03bc\\u03b1\\u03c4\\u03b1 \\u03b5\\u03c5\\u03c1\\u03c9\\u03b5\\u03ba\\u03bb\\u03bf\\u03b3\\u03ce\\u03bd 2024: \\u03a0\\u03ce\\u03c2 \\u03c8\\u03ae\\u03c6\\u03b9\\u03c3\\u03b5 \\u03b7 \\u039d\\u03cc\\u03c4\\u03b9\\u03b1 \\u0391\\u03c4\\u03c4\\u03b9\\u03ba\\u03ae\",\n          \"\\u03a4\\u03b5\\u03bb\\u03b9\\u03ba\\u03ae \\u03b5\\u03ba\\u03c4\\u03af\\u03bc\\u03b7\\u03c3\\u03b7 \\u03c0\\u03c1\\u03b9\\u03bd \\u03b4\\u03b7\\u03bc\\u03bf\\u03c3\\u03b9\\u03b5\\u03c5\\u03b8\\u03b5\\u03af \\u03c4\\u03bf exit poll\"\n        ],\n        \"semantic_type\": \"\",\n        \"description\": \"\"\n      }\n    },\n    {\n      \"column\": \"date\",\n      \"properties\": {\n        \"dtype\": \"object\",\n        \"num_unique_values\": 1197,\n        \"samples\": [\n          \"2024-06-09 19:54:21\",\n          \"2024-06-09 22:20:49\",\n          \"2024-06-09 23:26:43\"\n        ],\n        \"semantic_type\": \"\",\n        \"description\": \"\"\n      }\n    },\n    {\n      \"column\": \"full_text\",\n      \"properties\": {\n        \"dtype\": \"string\",\n        \"num_unique_values\": 1315,\n        \"samples\": [\n          \"\\u0395\\u03c5\\u03c1\\u03c9\\u03b5\\u03ba\\u03bb\\u03bf\\u03b3\\u03ad\\u03c2 2024 \\u03b1\\u03c0\\u03bf\\u03c4\\u03b5\\u03bb\\u03ad\\u03c3\\u03bc\\u03b1\\u03c4\\u03b1: \\u03a0\\u03c1\\u03ce\\u03c4\\u03b7 \\u03b7 \\u039d\\u0394 \\u03ba\\u03b1\\u03b9 \\u03c3\\u03c4\\u03bf\\u03c5\\u03c2 \\u03c4\\u03c1\\u03b5\\u03b9\\u03c2 \\u03c4\\u03bf\\u03bc\\u03b5\\u03af\\u03c2 \\u03c4\\u03b7\\u03c2 \\u0392' \\u0391\\u03b8\\u03b7\\u03bd\\u03ce\\u03bd \\u03a4\\u03b9 \\u03b4\\u03b5\\u03af\\u03c7\\u03bd\\u03bf\\u03c5\\u03bd \\u03c4\\u03b1 \\u03b1\\u03c0\\u03bf\\u03c4\\u03b5\\u03bb\\u03ad\\u03c3\\u03bc\\u03b1\\u03c4\\u03b1\\n\\u03a3\\u03c4\\u03b7 \\u03b4\\u03b5\\u03cd\\u03c4\\u03b5\\u03c1\\u03b7 \\u03b8\\u03ad\\u03c3\\u03b7 \\u03bf \\u03a3\\u03a5\\u03a1\\u0399\\u0396\\u0391 \\u03ba\\u03b1\\u03b9 \\u03c3\\u03c4\\u03b7\\u03bd \\u03c4\\u03c1\\u03af\\u03c4\\u03b7 \\u03c4\\u03bf \\u039a\\u039a\\u0395\\n\\u03a0\\u03c1\\u03ce\\u03c4\\u03b7 \\u03ba\\u03b1\\u03b9 \\u03c3\\u03c4\\u03bf\\u03c5\\u03c2 \\u03c4\\u03c1\\u03b5\\u03b9\\u03c2 \\u03c4\\u03bf\\u03bc\\u03b5\\u03af\\u03c2 \\u03c4\\u03b7\\u03c2 \\u0392' \\u0391\\u03b8\\u03b7\\u03bd\\u03ce\\u03bd \\u03b2\\u03c1\\u03af\\u03c3\\u03ba\\u03b5\\u03c4\\u03b1\\u03b9 \\u03b7 \\u039d\\u03ad\\u03b1 \\u0394\\u03b7\\u03bc\\u03bf\\u03ba\\u03c1\\u03b1\\u03c4\\u03af\\u03b1 \\u03bc\\u03b5 \\u03c4\\u03bf\\u03bd \\u03a3\\u03a5\\u03a1\\u0399\\u0396\\u0391 \\u03bd\\u03b1 \\u03b1\\u03ba\\u03bf\\u03bb\\u03bf\\u03c5\\u03b8\\u03b5\\u03af \\u03ba\\u03b1\\u03b9 \\u03c4\\u03bf \\u039a\\u039a\\u0395 \\u03bd\\u03b1 \\u03b5\\u03af\\u03bd\\u03b1\\u03b9 \\u03c4\\u03c1\\u03af\\u03c4\\u03bf. \\u03a3\\u03cd\\u03bc\\u03c6\\u03c9\\u03bd\\u03b1 \\u03bc\\u03b5 \\u03c4\\u03b1 \\u03c0\\u03c1\\u03ce\\u03c4\\u03b1 \\u03b1\\u03c0\\u03bf\\u03c4\\u03b5\\u03bb\\u03ad\\u03c3\\u03bc\\u03b1\\u03c4\\u03b1, \\u03c4\\u03c9\\u03bd\\n\\u03b5\\u03c5\\u03c1\\u03c9\\u03b5\\u03ba\\u03bb\\u03bf\\u03b3\\u03ce\\u03bd\\n\\u03c3\\u03c4\\u03bf\\u03bd \\u03b2\\u03cc\\u03c1\\u03b5\\u03b9\\u03bf \\u03c4\\u03bf\\u03bc\\u03ad\\u03b1 \\u03b7 \\u039d\\u0394 \\u03c3\\u03c5\\u03b3\\u03ba\\u03b5\\u03bd\\u03c4\\u03c1\\u03ce\\u03bd\\u03b5\\u03b9 33,92%, \\u03c3\\u03c4\\u03bf\\u03bd \\u03b4\\u03c5\\u03c4\\u03b9\\u03ba\\u03cc \\u03c4\\u03bf\\u03bc\\u03ad\\u03b1 22,50% \\u03ba\\u03b1\\u03b9 \\u03c3\\u03c4\\u03bf\\u03bd \\u03bd\\u03cc\\u03c4\\u03b9\\u03bf \\u03c4\\u03bf\\u03bc\\u03ad\\u03b1 29,49%.\\n\\u03a4\\u03b1 \\u03b1\\u03bd\\u03c4\\u03af\\u03c3\\u03c4\\u03bf\\u03b9\\u03c7\\u03b1 \\u03c0\\u03bf\\u03c3\\u03bf\\u03c3\\u03c4\\u03ac \\u03c4\\u03bf\\u03c5 \\u03a3\\u03a5\\u03a1\\u0399\\u0396\\u0391 \\u03b5\\u03af\\u03bd\\u03b1\\u03b9 15,07%, 18,89% \\u03ba\\u03b1\\u03b9 17,02%. \\u03a4\\u03b7\\u03bd \\u03af\\u03b4\\u03b9\\u03b1 \\u03ce\\u03c1\\u03b1 \\u03c4\\u03b1 \\u03c0\\u03bf\\u03c3\\u03bf\\u03c3\\u03c4\\u03ac \\u03c4\\u03bf\\u03c5 \\u039a\\u039a\\u0395 \\u03b5\\u03af\\u03bd\\u03b1\\u03b9 9,98%, 14,64% \\u03ba\\u03b1\\u03b9 11,47%.\",\n          \"\\u00ab\\u038c\\u03bb\\u03b1 \\u03b1\\u03c1\\u03c7\\u03af\\u03b6\\u03bf\\u03c5\\u03bd \\u03b1\\u03bb\\u03bb\\u03b9\\u03ce\\u03c2\\u00bb \\u2013 T\\u03bf \\u03c3\\u03ba\\u03b7\\u03bd\\u03b9\\u03ba\\u03cc \\u03bc\\u03b5\\u03c4\\u03ac \\u03c4\\u03b1 exit polls \\u0394\\u03b7\\u03bc\\u03ae\\u03c4\\u03c1\\u03b7\\u03c2 \\u03a7\\u03cc\\u03bd\\u03b4\\u03c1\\u03bf\\u03c2\\n\\u0394\\u03b7\\u03bc\\u03ae\\u03c4\\u03c1\\u03b7\\u03c2 \\u03a7\\u03cc\\u03bd\\u03b4\\u03c1\\u03bf\\u03c2\\n09.06.2024\\n19:14\\n\\u0393\\u03bd\\u03ce\\u03bc\\u03b5\\u03c2\\n\\u0394\\u03b7\\u03bc\\u03ae\\u03c4\\u03c1\\u03b7\\u03c2 \\u03a7\\u03cc\\u03bd\\u03b4\\u03c1\\u03bf\\u03c2\\n\\u0391\\u03c0\\u03cc \\u03c4\\u03b9\\u03c2 \\u03ba\\u03ac\\u03bb\\u03c0\\u03b5\\u03c2 \\u03c6\\u03b1\\u03af\\u03bd\\u03b5\\u03c4\\u03b1\\u03b9 \\u03bd\\u03b1 \\u03be\\u03b5\\u03c0\\u03c1\\u03bf\\u03b2\\u03ac\\u03bb\\u03bb\\u03b5\\u03b9 \\u03ad\\u03bd\\u03b1 \\u03bd\\u03ad\\u03bf \\u03c0\\u03bf\\u03bb\\u03b9\\u03c4\\u03b9\\u03ba\\u03cc \\u03c3\\u03ba\\u03b7\\u03bd\\u03b9\\u03ba\\u03cc - \\u0391\\u03c0\\u03cc \\u03c4\\u03b7 \\u0394\\u03b5\\u03c5\\u03c4\\u03ad\\u03c1\\u03b1 \\u00ab\\u03cc\\u03bb\\u03b1 \\u03b1\\u03c1\\u03c7\\u03af\\u03b6\\u03bf\\u03c5\\u03bd \\u03b1\\u03bb\\u03bb\\u03b9\\u03ce\\u03c2\\u00bb.\\n\\u039a\\u03ac\\u03b8\\u03b5 \\u03c0\\u03c1\\u03bf\\u03c3\\u03c0\\u03ac\\u03b8\\u03b5\\u03b9\\u03b1 \\u03b1\\u03c0\\u03bf\\u03c4\\u03cd\\u03c0\\u03c9\\u03c3\\u03b7\\u03c2 \\u03c4\\u03bf\\u03c5 \\u03bc\\u03b5\\u03c4\\u03b5\\u03ba\\u03bb\\u03bf\\u03b3\\u03b9\\u03ba\\u03bf\\u03cd \\u03c4\\u03bf\\u03c0\\u03af\\u03bf\\u03c5 \\u03bc\\u03b5 \\u03b2\\u03ac\\u03c3\\u03b7 \\u03c4\\u03b1\\nexit polls\\n\\u03c4\\u03b5\\u03bb\\u03b5\\u03af \\u03c5\\u03c0\\u03cc \\u03c4\\u03b7\\u03bd \\u03b1\\u03af\\u03c1\\u03b5\\u03c3\\u03b7 \\u03c4\\u03bf\\u03c5 \\u03b5\\u03ba\\u03bb\\u03bf\\u03b3\\u03b9\\u03ba\\u03bf\\u03cd \\u03b1\\u03c0\\u03bf\\u03c4\\u03b5\\u03bb\\u03ad\\u03c3\\u03bc\\u03b1\\u03c4\\u03bf\\u03c2. \\u0397 \\u03bc\\u03b5\\u03b3\\u03ac\\u03bb\\u03b7 \\u03b5\\u03b9\\u03ba\\u03cc\\u03bd\\u03b1, \\u03c3\\u03b5 \\u03c3\\u03c7\\u03ad\\u03c3\\u03b7 \\u03bc\\u03b5 \\u03c4\\u03b9\\u03c2 \\u03b5\\u03b8\\u03bd\\u03b9\\u03ba\\u03ad\\u03c2 \\u03b5\\u03ba\\u03bb\\u03bf\\u03b3\\u03ad\\u03c2, \\u03b4\\u03b5\\u03bd \\u03b1\\u03bb\\u03bb\\u03ac\\u03b6\\u03b5\\u03b9 \\u03b4\\u03c1\\u03b1\\u03bc\\u03b1\\u03c4\\u03b9\\u03ba\\u03ac. \\u03a9\\u03c3\\u03c4\\u03cc\\u03c3\\u03bf, \\u03b1\\u03c0\\u03cc \\u03c4\\u03b9\\u03c2 \\u03ba\\u03ac\\u03bb\\u03c0\\u03b5\\u03c2 \\u03c6\\u03b1\\u03af\\u03bd\\u03b5\\u03c4\\u03b1\\u03b9 \\u03bd\\u03b1 \\u03be\\u03b5\\u03c0\\u03c1\\u03bf\\u03b2\\u03ac\\u03bb\\u03bb\\u03b5\\u03b9 \\u03ad\\u03bd\\u03b1 \\u03bd\\u03ad\\u03bf \\u03c0\\u03bf\\u03bb\\u03b9\\u03c4\\u03b9\\u03ba\\u03cc \\u03c3\\u03ba\\u03b7\\u03bd\\u03b9\\u03ba\\u03cc. \\u03a7\\u03c9\\u03c1\\u03af\\u03c2 \\u03b1\\u03c0\\u03cc\\u03bb\\u03c5\\u03c4\\u03b5\\u03c2 \\u03c0\\u03bf\\u03bb\\u03b9\\u03c4\\u03b9\\u03ba\\u03ad\\u03c2 \\u03ba\\u03c5\\u03c1\\u03b9\\u03b1\\u03c1\\u03c7\\u03af\\u03b5\\u03c2. \\u039c\\u03b5 \\u03bd\\u03ad\\u03b1 \\u03b4\\u03b5\\u03b4\\u03bf\\u03bc\\u03ad\\u03bd\\u03b1 \\u03c3\\u03c4\\u03bf \\u03c7\\u03ce\\u03c1\\u03bf \\u03c4\\u03b7\\u03c2 \\u03ba\\u03b5\\u03bd\\u03c4\\u03c1\\u03bf\\u03b1\\u03c1\\u03b9\\u03c3\\u03c4\\u03b5\\u03c1\\u03ac\\u03c2. \\u039f\\u03b9 \\u03c0\\u03bf\\u03bb\\u03af\\u03c4\\u03b5\\u03c2 \\u03b5\\u03c0\\u03ad\\u03bb\\u03b5\\u03be\\u03b1\\u03bd \\u03bd\\u03b1 \\u03c3\\u03c4\\u03b5\\u03af\\u03bb\\u03bf\\u03c5\\u03bd \\u03ad\\u03bd\\u03b1 \\u03b4\\u03b9\\u03c0\\u03bb\\u03cc \\u03bc\\u03ae\\u03bd\\u03c5\\u03bc\\u03b1. \\u03a3\\u03b5 \\u03cc\\u03bb\\u03bf \\u03c4\\u03bf \\u03c0\\u03bf\\u03bb\\u03b9\\u03c4\\u03b9\\u03ba\\u03cc \\u03c3\\u03ba\\u03b7\\u03bd\\u03b9\\u03ba\\u03cc \\u03bc\\u03b5 \\u03c4\\u03b7\\u03bd\\n\\u03b1\\u03c0\\u03bf\\u03c7\\u03ae\\n\\u03c4\\u03bf\\u03c5\\u03c2. \\u039a\\u03b1\\u03b9 \\u03c3\\u03c4\\u03bf \\u03ba\\u03ac\\u03b8\\u03b5 \\u03ba\\u03cc\\u03bc\\u03bc\\u03b1 \\u03be\\u03b5\\u03c7\\u03c9\\u03c1\\u03b9\\u03c3\\u03c4\\u03ac \\u03bc\\u03b5 \\u03c4\\u03b7\\u03bd \\u03b5\\u03c0\\u03b9\\u03bb\\u03bf\\u03b3\\u03ae \\u03c4\\u03bf\\u03c5\\u03c2 \\u03c3\\u03c4\\u03b7\\u03bd \\u03ba\\u03ac\\u03bb\\u03c0\\u03b7. \\u0391\\u03c0\\u03cc \\u03c4\\u03b7 \\u0394\\u03b5\\u03c5\\u03c4\\u03ad\\u03c1\\u03b1 \\u00ab\\u03cc\\u03bb\\u03b1 \\u03b1\\u03c1\\u03c7\\u03af\\u03b6\\u03bf\\u03c5\\u03bd \\u03b1\\u03bb\\u03bb\\u03b9\\u03ce\\u03c2\\u00bb.\\n\\u039f\\n\\u039a\\u03c5\\u03c1\\u03b9\\u03ac\\u03ba\\u03bf\\u03c2 \\u039c\\u03b7\\u03c4\\u03c3\\u03bf\\u03c4\\u03ac\\u03ba\\u03b7\\u03c2\\n\\u03b5\\u03c0\\u03b9\\u03b2\\u03b5\\u03b2\\u03b1\\u03af\\u03c9\\u03c3\\u03b5 \\u03c4\\u03b7\\u03bd \\u03c0\\u03bf\\u03bb\\u03b9\\u03c4\\u03b9\\u03ba\\u03ae \\u03c5\\u03c0\\u03b5\\u03c1\\u03bf\\u03c7\\u03ae \\u03c4\\u03bf\\u03c5 \\u03ad\\u03bd\\u03b1\\u03bd\\u03c4\\u03b9 \\u03c4\\u03c9\\u03bd \\u03b1\\u03bd\\u03c4\\u03b9\\u03c0\\u03ac\\u03bb\\u03c9\\u03bd \\u03c4\\u03bf\\u03c5 \\u03b1\\u03bb\\u03bb\\u03ac \\u03ba\\u03b1\\u03b9 \\u03c4\\u03b1 \\u03b1\\u03bd\\u03bf\\u03b9\\u03c7\\u03c4\\u03ac \\u03c4\\u03bf\\u03c5 \\u03bc\\u03ad\\u03c4\\u03c9\\u03c0\\u03b1 \\u03bc\\u03b5 \\u03c4\\u03b7\\u03bd \\u03ba\\u03bf\\u03b9\\u03bd\\u03c9\\u03bd\\u03af\\u03b1. \\u0397 \\u039d\\u0394 \\u03b4\\u03b5\\u03bd \\u03c6\\u03b1\\u03af\\u03bd\\u03b5\\u03c4\\u03b1\\u03b9 \\u03bd\\u03b1 \\u03be\\u03b5\\u03c0\\u03b5\\u03c1\\u03bd\\u03ac \\u03c4\\u03bf\\u03bd \\u03c0\\u03ae\\u03c7\\u03b7 \\u03c4\\u03c9\\u03bd \\u03c0\\u03c1\\u03bf\\u03b7\\u03b3\\u03bf\\u03cd\\u03bc\\u03b5\\u03bd\\u03c9\\u03bd \\u03b5\\u03ba\\u03bb\\u03bf\\u03b3\\u03ce\\u03bd \\u03b8\\u03b1 \\u03ba\\u03b9\\u03bd\\u03b7\\u03b8\\u03b5\\u03af \\u03ba\\u03bf\\u03bd\\u03c4\\u03ac \\u03c3\\u03c4\\u03bf 30%. \\u0391\\u03c5\\u03c4\\u03cc \\u03c3\\u03c5\\u03bd\\u03b9\\u03c3\\u03c4\\u03ac \\u03ad\\u03bd\\u03b1 \\u03bc\\u03ae\\u03bd\\u03c5\\u03bc\\u03b1 \\u03b4\\u03c5\\u03c3\\u03b1\\u03c1\\u03ad\\u03c3\\u03ba\\u03b5\\u03b9\\u03b1\\u03c2 \\u03c0\\u03bf\\u03c5 \\u03b4\\u03b5\\u03bd \\u03bc\\u03c0\\u03bf\\u03c1\\u03b5\\u03af \\u03bd\\u03b1 \\u03c0\\u03b5\\u03c1\\u03ac\\u03c3\\u03b5\\u03b9 \\u03b1\\u03c0\\u03b1\\u03c1\\u03b1\\u03c4\\u03ae\\u03c1\\u03b7\\u03c4\\u03bf. \\u0397 \\u03c6\\u03b8\\u03bf\\u03c1\\u03ac \\u03ba\\u03b1\\u03c4\\u03ac\\u03c6\\u03b5\\u03c1\\u03b5 \\u03bd\\u03b1 \\u03c0\\u03b5\\u03c1\\u03ac\\u03c3\\u03b5\\u03b9 \\u03c4\\u03b7\\u03bd \\u03ba\\u03c5\\u03b2\\u03b5\\u03c1\\u03bd\\u03b7\\u03c4\\u03b9\\u03ba\\u03ae \\u03c0\\u03b1\\u03bd\\u03bf\\u03c0\\u03bb\\u03af\\u03b1 \\u03ba\\u03b1\\u03b9 \\u03b1\\u03c5\\u03c4\\u03cc \\u03b5\\u03af\\u03bd\\u03b1\\u03b9 \\u03ad\\u03bd\\u03b1 \\u03b1\\u03bd\\u03b7\\u03c3\\u03c5\\u03c7\\u03b7\\u03c4\\u03b9\\u03ba\\u03cc \\u03bc\\u03ae\\u03bd\\u03c5\\u03bc\\u03b1 \\u03b3\\u03b9\\u03b1 \\u03c4\\u03bf \\u039c\\u03ad\\u03b3\\u03b1\\u03c1\\u03bf \\u039c\\u03b1\\u03be\\u03af\\u03bc\\u03bf\\u03c5. \\u039f \\u03b4\\u03c1\\u03cc\\u03bc\\u03bf\\u03c2 \\u03c0\\u03c1\\u03bf\\u03c2 \\u03c4\\u03b9\\u03c2 \\u03b5\\u03c0\\u03cc\\u03bc\\u03b5\\u03bd\\u03b5\\u03c2 \\u03b5\\u03b8\\u03bd\\u03b9\\u03ba\\u03ad\\u03c2 \\u03b5\\u03ba\\u03bb\\u03bf\\u03b3\\u03ad\\u03c2 \\u03b1\\u03c0\\u03ad\\u03ba\\u03c4\\u03b7\\u03c3\\u03b5 \\u03ad\\u03bd\\u03b1 \\u03bc\\u03b5\\u03b3\\u03b1\\u03bb\\u03cd\\u03c4\\u03b5\\u03c1\\u03bf \\u03b2\\u03b1\\u03b8\\u03bc\\u03cc \\u03b4\\u03c5\\u03c3\\u03ba\\u03bf\\u03bb\\u03af\\u03b1\\u03c2 \\u03b3\\u03b9\\u03b1 \\u03c4\\u03bf\\u03bd \\u039a\\u03c5\\u03c1\\u03b9\\u03ac\\u03ba\\u03bf \\u039c\\u03b7\\u03c4\\u03c3\\u03bf\\u03c4\\u03ac\\u03ba\\u03b7. \\u0394\\u03b5\\u03bd \\u03b5\\u03af\\u03bd\\u03b1\\u03b9 \\u03bc\\u03b9\\u03ba\\u03c1\\u03cc \\u03c0\\u03c1\\u03ac\\u03b3\\u03bc\\u03b1 \\u03b7 \\u03b1\\u03c0\\u03ce\\u03bb\\u03b5\\u03b9\\u03b1 10 \\u03bc\\u03bf\\u03bd\\u03ac\\u03b4\\u03c9\\u03bd \\u03bc\\u03ad\\u03c3\\u03b1 \\u03c3\\u03b5 \\u03ad\\u03bd\\u03b1 \\u03c7\\u03c1\\u03cc\\u03bd\\u03bf.\\n\\u03a4\\u03b1 \\u03b2\\u03bb\\u03ad\\u03bc\\u03bc\\u03b1\\u03c4\\u03b1, \\u03c3\\u03c4\\u03c1\\u03ad\\u03c6\\u03bf\\u03bd\\u03c4\\u03b1\\u03b9 \\u03c3\\u03c4\\u03bf\\u03bd\\n\\u03a3\\u03c4\\u03ad\\u03c6\\u03b1\\u03bd\\u03bf \\u039a\\u03b1\\u03c3\\u03c3\\u03b5\\u03bb\\u03ac\\u03ba\\u03b7\\n. \\u0394\\u03b5\\u03bd \\u03c6\\u03b1\\u03af\\u03bd\\u03b5\\u03c4\\u03b1\\u03b9 \\u03bd\\u03b1 \\u03c0\\u03b1\\u03af\\u03c1\\u03bd\\u03b5\\u03b9 \\u03c0\\u03bf\\u03c3\\u03bf\\u03c3\\u03c4\\u03cc \\u03c0\\u03ac\\u03bd\\u03c9 \\u03b1\\u03c0\\u03cc 20%, \\u03cc\\u03c0\\u03c9\\u03c2 \\u03b8\\u03b1 \\u03ae\\u03b8\\u03b5\\u03bb\\u03b5, \\u03ba\\u03b9\\u03bd\\u03b5\\u03af\\u03c4\\u03b1\\u03b9 \\u03ba\\u03ac\\u03c4\\u03c9 \\u03b1\\u03c0\\u03cc \\u03c4\\u03b9\\u03c2 \\u03b5\\u03c0\\u03b9\\u03b4\\u03cc\\u03c3\\u03b5\\u03b9\\u03c2 \\u03c4\\u03bf\\u03c5 \\u03a3\\u03a5\\u03a1\\u0399\\u0396\\u0391 \\u03c3\\u03c4\\u03b9\\u03c2 \\u03b5\\u03b8\\u03bd\\u03b9\\u03ba\\u03ad\\u03c2 \\u03b5\\u03ba\\u03bb\\u03bf\\u03b3\\u03ad\\u03c2 \\u03b1\\u03bb\\u03bb\\u03ac \\u03ad\\u03c7\\u03b5\\u03b9 \\u03c4\\u03b7 \\u03bc\\u03c0\\u03ac\\u03bb\\u03b1 \\u03c3\\u03c4\\u03b1 \\u03c0\\u03cc\\u03b4\\u03b9\\u03b1 \\u03c4\\u03bf\\u03c5. \\u039a\\u03b1\\u03c4\\u03ac\\u03c6\\u03b5\\u03c1\\u03b5 \\u03bd\\u03b1 \\u03b5\\u03af\\u03bd\\u03b1\\u03b9 \\u03c3\\u03c4\\u03b7 \\u03b4\\u03b5\\u03cd\\u03c4\\u03b5\\u03c1\\u03b7 \\u03b8\\u03ad\\u03c3\\u03b7 \\u03b1\\u03c6\\u03ae\\u03bd\\u03bf\\u03bd\\u03c4\\u03b1\\u03c2 \\u03c4\\u03c1\\u03af\\u03c4\\u03bf, \\u03bc\\u03b5 \\u03b4\\u03b9\\u03b1\\u03c6\\u03bf\\u03c1\\u03ac, \\u03c4\\u03bf \\u03a0\\u03b1\\u03a3\\u03bf\\u039a. \\u039f \\u03ba. \\u039a\\u03b1\\u03c3\\u03c3\\u03b5\\u03bb\\u03ac\\u03ba\\u03b7\\u03c2 \\u03bc\\u03b5 \\u03c4\\u03b7\\u03bd \\u03b5\\u03ba\\u03bb\\u03bf\\u03b3\\u03b9\\u03ba\\u03ae \\u03c4\\u03bf\\u03c5 \\u03b5\\u03c0\\u03af\\u03b4\\u03bf\\u03c3\\u03b7, \\u03c0\\u03bf\\u03c5 \\u03c3\\u03b5 \\u03bc\\u03b5\\u03b3\\u03ac\\u03bb\\u03bf \\u03b2\\u03b1\\u03b8\\u03bc\\u03cc \\u03b5\\u03af\\u03bd\\u03b1\\u03b9 \\u03c0\\u03c1\\u03bf\\u03c3\\u03c9\\u03c0\\u03b9\\u03ba\\u03ae, \\u03bc\\u03c0\\u03ae\\u03ba\\u03b5 \\u03c3\\u03c4\\u03b7 \\u03b8\\u03ad\\u03c3\\u03b7 \\u03c4\\u03bf\\u03c5 \\u03bf\\u03b4\\u03b7\\u03b3\\u03bf\\u03cd \\u03c4\\u03c9\\u03bd \\u03b5\\u03be\\u03b5\\u03bb\\u03af\\u03be\\u03b5\\u03c9\\u03bd \\u03c3\\u03c4\\u03b7\\u03bd \\u03ba\\u03b5\\u03bd\\u03c4\\u03c1\\u03bf\\u03b1\\u03c1\\u03b9\\u03c3\\u03c4\\u03b5\\u03c1\\u03ac. \\u03a4\\u03bf \\u03b5\\u03c1\\u03ce\\u03c4\\u03b7\\u03bc\\u03b1 \\u03b5\\u03af\\u03bd\\u03b1\\u03b9 \\u03c0\\u03bf\\u03b9\\u03b5\\u03c2 \\u03b8\\u03b1 \\u03b5\\u03af\\u03bd\\u03b1\\u03b9 \\u03bf\\u03b9 \\u03b5\\u03c0\\u03cc\\u03bc\\u03b5\\u03bd\\u03b5\\u03c2 \\u03ba\\u03b9\\u03bd\\u03ae\\u03c3\\u03b5\\u03b9\\u03c2 \\u03c4\\u03bf\\u03c5. \\u039c\\u03b5 \\u03c0\\u03bf\\u03b9\\u03b1 \\u03c4\\u03b1\\u03c7\\u03cd\\u03c4\\u03b7\\u03c4\\u03b1 \\u03b8\\u03b1 \\u03c0\\u03c1\\u03bf\\u03c7\\u03c9\\u03c1\\u03ae\\u03c3\\u03b5\\u03b9 \\u03c3\\u03c4\\u03b7 \\u03b4\\u03b7\\u03bc\\u03b9\\u03bf\\u03c5\\u03c1\\u03b3\\u03af\\u03b1 \\u03c4\\u03b7\\u03c2 \\u03b4\\u03b9\\u03ba\\u03ae\\u03c2 \\u03c4\\u03bf\\u03c5 \\u00ab\\u03c0\\u03c1\\u03bf\\u03bf\\u03b4\\u03b5\\u03c5\\u03c4\\u03b9\\u03ba\\u03ae\\u03c2 \\u03c0\\u03b1\\u03c1\\u03ac\\u03c4\\u03b1\\u03be\\u03b7\\u03c2\\u00bb. \\u03a4\\u03b9 \\u03b1\\u03bd\\u03b1\\u03c4\\u03b1\\u03c1\\u03ac\\u03be\\u03b5\\u03b9\\u03c2 \\u03b8\\u03b1 \\u03c0\\u03c1\\u03bf\\u03ba\\u03b1\\u03bb\\u03ad\\u03c3\\u03b5\\u03b9 \\u03ba\\u03b1\\u03b9 \\u03c4\\u03b9 \\u03b1\\u03bd\\u03c4\\u03b9\\u03b4\\u03c1\\u03ac\\u03c3\\u03b5\\u03b9\\u03c2 \\u03b8\\u03b1 \\u03c3\\u03c5\\u03bd\\u03b1\\u03bd\\u03c4\\u03ae\\u03c3\\u03b5\\u03b9. \\u03a3\\u03b5 \\u03ba\\u03ac\\u03b8\\u03b5 \\u03c0\\u03b5\\u03c1\\u03af\\u03c0\\u03c4\\u03c9\\u03c3\\u03b7 \\u03bf \\u03a3\\u03a5\\u03a1\\u0399\\u0396\\u0391 \\u03b5\\u03b9\\u03c3\\u03ad\\u03c1\\u03c7\\u03b5\\u03c4\\u03b1\\u03b9 \\u03c3\\u03b5 \\u03ad\\u03bd\\u03b1 \\u03bd\\u03ad\\u03bf \\u03ba\\u03b5\\u03c6\\u03ac\\u03bb\\u03b1\\u03b9\\u03bf \\u03c4\\u03b7\\u03c2 \\u03b9\\u03c3\\u03c4\\u03bf\\u03c1\\u03af\\u03b1\\u03c2 \\u03c4\\u03bf\\u03c5.\\n\\u03a4\\u03bf\\n\\u03a0\\u03b1\\u03a3\\u03bf\\u039a\\n\\u03b4\\u03b5\\u03af\\u03c7\\u03bd\\u03b5\\u03b9 \\u03bd\\u03b1 \\u03ba\\u03b9\\u03bd\\u03b5\\u03af\\u03c4\\u03b1\\u03b9 \\u03ba\\u03bf\\u03bd\\u03c4\\u03ac \\u03c3\\u03c4\\u03b7\\u03bd \\u03b5\\u03c0\\u03af\\u03b4\\u03bf\\u03c3\\u03b7 \\u03c0\\u03bf\\u03c5 \\u03b5\\u03af\\u03c7\\u03b5 \\u03c3\\u03c4\\u03b9\\u03c2 \\u03b5\\u03b8\\u03bd\\u03b9\\u03ba\\u03ad\\u03c2 \\u03b5\\u03ba\\u03bb\\u03bf\\u03b3\\u03ad\\u03c2. \\u0394\\u03b5\\u03bd \\u03ba\\u03b1\\u03c4\\u03ac\\u03c6\\u03b5\\u03c1\\u03b5, \\u03cc\\u03bc\\u03c9\\u03c2 \\u03bd\\u03b1 \\u03b1\\u03bd\\u03b1\\u03c4\\u03c1\\u03ad\\u03c8\\u03b5\\u03b9 \\u03c4\\u03bf\\u03c5\\u03c2 \\u03c3\\u03c5\\u03c3\\u03c7\\u03b5\\u03c4\\u03b9\\u03c3\\u03bc\\u03bf\\u03cd\\u03c2 \\u03c3\\u03c4\\u03bf\\u03bd \\u03ba\\u03b5\\u03bd\\u03c4\\u03c1\\u03bf\\u03b1\\u03c1\\u03b9\\u03c3\\u03c4\\u03b5\\u03c1\\u03cc \\u03c7\\u03ce\\u03c1\\u03bf, \\u03bd\\u03b1 \\u03c0\\u03ac\\u03c1\\u03b5\\u03b9 \\u03c4\\u03b7 \\u03b4\\u03b5\\u03cd\\u03c4\\u03b5\\u03c1\\u03b7 \\u03b8\\u03ad\\u03c3\\u03b7. \\u039f\\u03b9 \\u03ba\\u03ac\\u03bb\\u03c0\\u03b5\\u03c2 \\u03b4\\u03b5\\u03bd \\u03bc\\u03b5\\u03c4\\u03ad\\u03b4\\u03c9\\u03c3\\u03b1\\u03bd, \\u03cc\\u03c0\\u03c9\\u03c2 \\u03b8\\u03b1 \\u03ae\\u03b8\\u03b5\\u03bb\\u03b5 \\u03b7 \\u03b7\\u03b3\\u03b5\\u03c3\\u03af\\u03b1 \\u03ba\\u03b1\\u03b9 \\u03b7 \\u03b2\\u03ac\\u03c3\\u03b7 \\u03c4\\u03bf\\u03c5, \\u03c4\\u03bf \\u03bc\\u03ae\\u03bd\\u03c5\\u03bc\\u03b1 \\u03b5\\u03bd\\u03cc\\u03c2 \\u03ba\\u03cc\\u03bc\\u03bc\\u03b1\\u03c4\\u03bf\\u03c2 \\u03c0\\u03bf\\u03c5 \\u03b2\\u03c1\\u03af\\u03c3\\u03ba\\u03b5\\u03c4\\u03b1\\u03b9 \\u03c3\\u03b5 \\u03ac\\u03bd\\u03bf\\u03b4\\u03bf \\u03b1\\u03bb\\u03bb\\u03ac \\u03b5\\u03bd\\u03cc\\u03c2 \\u03ba\\u03cc\\u03bc\\u03bc\\u03b1\\u03c4\\u03bf\\u03c2 \\u03c0\\u03bf\\u03c5 \\u03b8\\u03b1 \\u03bc\\u03c0\\u03b5\\u03b9 \\u03c3\\u03b5 \\u03c3\\u03c5\\u03b6\\u03b7\\u03c4\\u03ae\\u03c3\\u03b5\\u03b9\\u03c2 \\u03b3\\u03b9\\u03b1 \\u03c4\\u03bf \\u03bc\\u03ad\\u03bb\\u03bb\\u03bf\\u03bd \\u03c4\\u03bf\\u03c5. \\u038a\\u03c3\\u03c9\\u03c2 \\u03ba\\u03b1\\u03b9 \\u03c3\\u03b5 \\u03ad\\u03bd\\u03b1 \\u03ba\\u03cd\\u03ba\\u03bb\\u03bf \\u03b5\\u03c3\\u03c9\\u03c3\\u03c4\\u03c1\\u03ad\\u03c6\\u03b5\\u03b9\\u03b1\\u03c2. \\u03a3\\u03b5 \\u03ba\\u03ac\\u03b8\\u03b5 \\u03c0\\u03b5\\u03c1\\u03af\\u03c0\\u03c4\\u03c9\\u03c3\\u03b7, \\u03c4\\u03bf \\u03c0\\u03b5\\u03c1\\u03b9\\u03b8\\u03ce\\u03c1\\u03b9\\u03bf \\u03c0\\u03bf\\u03c5 \\u03ad\\u03c7\\u03b5\\u03b9 \\u03bf \\u039d\\u03af\\u03ba\\u03bf\\u03c2 \\u0391\\u03bd\\u03b4\\u03c1\\u03bf\\u03c5\\u03bb\\u03ac\\u03ba\\u03b7\\u03c2 \\u03b3\\u03b9\\u03b1 \\u03c4\\u03b7\\u03bd \\u03b1\\u03bd\\u03ac\\u03bb\\u03b7\\u03c8\\u03b7 \\u03c0\\u03c1\\u03c9\\u03c4\\u03bf\\u03b2\\u03bf\\u03c5\\u03bb\\u03b9\\u03ce\\u03bd \\u03b3\\u03b9\\u03b1 \\u03c0\\u03c1\\u03c9\\u03c4\\u03bf\\u03b2\\u03bf\\u03c5\\u03bb\\u03b9\\u03ce\\u03bd \\u03c3\\u03c4\\u03bf\\u03bd \\u03ba\\u03b5\\u03bd\\u03c4\\u03c1\\u03bf\\u03b1\\u03c1\\u03b9\\u03c3\\u03c4\\u03b5\\u03c1\\u03cc \\u03c7\\u03ce\\u03c1\\u03bf \\u03ad\\u03c7\\u03b5\\u03b9 \\u03c0\\u03b5\\u03c1\\u03b9\\u03bf\\u03c1\\u03b9\\u03c3\\u03c4\\u03b5\\u03af.\\n\\u03a3\\u03c4\\u03b9\\u03c2 \\u03b5\\u03be\\u03b5\\u03bb\\u03af\\u03be\\u03b5\\u03b9\\u03c2 \\u03c3\\u03c4\\u03b7\\u03bd \\u03ba\\u03b5\\u03bd\\u03c4\\u03c1\\u03bf\\u03b1\\u03c1\\u03b9\\u03c3\\u03c4\\u03b5\\u03c1\\u03ac \\u03b8\\u03b1 \\u03c0\\u03c1\\u03ad\\u03c0\\u03b5\\u03b9 \\u03bd\\u03b1 \\u03c3\\u03c5\\u03bd\\u03c5\\u03c0\\u03bf\\u03bb\\u03bf\\u03b3\\u03b9\\u03c3\\u03c4\\u03b5\\u03af \\u03b7 \\u03b1\\u03c0\\u03bf\\u03c4\\u03c5\\u03c7\\u03af\\u03b1 \\u03c4\\u03b7\\u03c2 \\u039d\\u03ad\\u03b1\\u03c2 \\u0391\\u03c1\\u03b9\\u03c3\\u03c4\\u03b5\\u03c1\\u03ac\\u03c2 \\u03bd\\u03b1 \\u03b5\\u03ba\\u03bb\\u03ad\\u03be\\u03b5\\u03b9 \\u03b5\\u03c5\\u03c1\\u03c9\\u03b2\\u03bf\\u03c5\\u03bb\\u03b5\\u03c5\\u03c4\\u03ae. \\u0397 \\u03c0\\u03c1\\u03ce\\u03c4\\u03b7 \\u03c4\\u03b7\\u03c2 \\u03b5\\u03ba\\u03bb\\u03bf\\u03b3\\u03b9\\u03ba\\u03ae \\u03c4\\u03b7\\u03c2 \\u03c0\\u03c1\\u03bf\\u03c3\\u03c0\\u03ac\\u03b8\\u03b5\\u03b9\\u03b1, \\u03cc\\u03c0\\u03c9\\u03c2 \\u03ba\\u03b1\\u03b9 \\u03b1\\u03c5\\u03c4\\u03ae \\u03c4\\u03c9\\u03bd \\u00ab\\u0394\\u03b7\\u03bc\\u03bf\\u03ba\\u03c1\\u03b1\\u03c4\\u03ce\\u03bd\\u00bb \\u03c4\\u03bf\\u03c5 \\u0391\\u03bd\\u03b4\\u03c1\\u03ad\\u03b1 \\u039b\\u03bf\\u03b2\\u03ad\\u03b4\\u03c1\\u03bf\\u03c5 \\u03b4\\u03b5\\u03bd \\u03c3\\u03c4\\u03ad\\u03c6\\u03b8\\u03b7\\u03ba\\u03b5 \\u03bc\\u03b5 \\u03b5\\u03c0\\u03b9\\u03c4\\u03c5\\u03c7\\u03af\\u03b1. \\u0398\\u03b1 \\u03ad\\u03c7\\u03b5\\u03b9 \\u03b5\\u03bd\\u03b4\\u03b9\\u03b1\\u03c6\\u03ad\\u03c1\\u03bf\\u03bd \\u03b7 \\u03c4\\u03b5\\u03bb\\u03b9\\u03ba\\u03ae \\u03ad\\u03ba\\u03b2\\u03b1\\u03c3\\u03b7 \\u03c4\\u03b7\\u03c2 \\u03bc\\u03ac\\u03c7\\u03b7\\u03c2 \\u03c4\\u03bf\\u03c5\\n\\u039a\\u039a\\u0395\\n\\u03bc\\u03b5 \\u03c4\\u03b7\\u03bd \\u00ab\\u0395\\u03bb\\u03bb\\u03b7\\u03bd\\u03b9\\u03ba\\u03ae \\u039b\\u03cd\\u03c3\\u03b7\\u00bb \\u03b3\\u03b9\\u03b1 \\u03c4\\u03b7\\u03bd \\u03c4\\u03ad\\u03c4\\u03b1\\u03c1\\u03c4\\u03b7 \\u03b8\\u03ad\\u03c3\\u03b7. \\u0388\\u03c7\\u03b5\\u03b9 \\u03c4\\u03b7 \\u03c3\\u03b7\\u03bc\\u03b1\\u03c3\\u03af\\u03b1 \\u03c4\\u03bf\\u03c5 \\u03ba\\u03b1\\u03b9 \\u03c4\\u03bf \\u03cc\\u03c4\\u03b9 \\u03ba\\u03b1\\u03bd\\u03ad\\u03bd\\u03b1 \\u03b1\\u03c0\\u03cc \\u03c4\\u03b1 \\u03ba\\u03cc\\u03bc\\u03bc\\u03b1\\u03c4\\u03b1 \\u03c0\\u03bf\\u03c5 \\u03b5\\u03af\\u03bd\\u03b1\\u03b9 \\u03b5\\u03ba\\u03c4\\u03cc\\u03c2 \\u0392\\u03bf\\u03c5\\u03bb\\u03ae\\u03c2 \\u03b4\\u03b5\\u03bd \\u03c6\\u03b1\\u03af\\u03bd\\u03b5\\u03c4\\u03b1\\u03b9 \\u03bd\\u03b1 \\u03ba\\u03b1\\u03c4\\u03b1\\u03c6\\u03ad\\u03c1\\u03bd\\u03b5\\u03b9 \\u03bd\\u03b1 \\u03b5\\u03ba\\u03bb\\u03ad\\u03be\\u03b5\\u03b9 \\u03b5\\u03c5\\u03c1\\u03c9\\u03b2\\u03bf\\u03c5\\u03bb\\u03b5\\u03c5\\u03c4\\u03ae, \\u03b1\\u03bb\\u03bb\\u03ac \\u03ba\\u03b1\\u03b9 \\u03c4\\u03bf \\u03c0\\u03bf\\u03c3\\u03bf\\u03c3\\u03c4\\u03cc \\u03b3\\u03cd\\u03c1\\u03c9 \\u03c3\\u03c4\\u03bf 17% \\u03c0\\u03bf\\u03c5 \\u03b1\\u03bd\\u03b1\\u03bc\\u03ad\\u03bd\\u03b5\\u03c4\\u03b1\\u03b9 \\u03bd\\u03b1 \\u03c3\\u03c5\\u03b3\\u03ba\\u03b5\\u03bd\\u03c4\\u03c1\\u03ce\\u03c3\\u03bf\\u03c5\\u03bd \\u03c4\\u03b1 \\u03ba\\u03cc\\u03bc\\u03bc\\u03b1\\u03c4\\u03b1 \\u03b4\\u03b5\\u03be\\u03b9\\u03ac \\u03c4\\u03b7\\u03c2 \\u039d\\u0394\\n\\u03b5\\u03c5\\u03c1\\u03c9\\u03b5\\u03ba\\u03bb\\u03bf\\u03b3\\u03ad\\u03c2\\n\\u0395\\u03c5\\u03c1\\u03c9\\u03b5\\u03ba\\u03bb\\u03bf\\u03b3\\u03ad\\u03c2 2024\\n\\u039a\\u03c5\\u03c1\\u03b9\\u03ac\\u03ba\\u03bf\\u03c2 \\u039c\\u03b7\\u03c4\\u03c3\\u03bf\\u03c4\\u03ac\\u03ba\\u03b7\\u03c2\\n\\u03a3\\u03c4\\u03ad\\u03c6\\u03b1\\u03bd\\u03bf\\u03c2 \\u039a\\u03b1\\u03c3\\u03c3\\u03b5\\u03bb\\u03ac\\u03ba\\u03b7\\u03c2\\n\\u039a\\u039a\\u0395\\n\\u03a0\\u0391\\u03a3\\u039f\\u039a\\n\\u03b1\\u03c0\\u03bf\\u03c7\\u03ae\\n\\u0391\\u03ba\\u03bf\\u03bb\\u03bf\\u03cd\\u03b8\\u03b7\\u03c3\\u03b5 \\u03c4\\u03bf \\u0392\\u03ae\\u03bc\\u03b1 \\u03c3\\u03c4\\u03bf\\nGoogle news\\n\\u03ba\\u03b1\\u03b9 \\u03bc\\u03ac\\u03b8\\u03b5 \\u03cc\\u03bb\\u03b5\\u03c2 \\u03c4\\u03b9\\u03c2\\n\\u03c4\\u03b5\\u03bb\\u03b5\\u03c5\\u03c4\\u03b1\\u03af\\u03b5\\u03c2 \\u03b5\\u03b9\\u03b4\\u03ae\\u03c3\\u03b5\\u03b9\\u03c2\\n.\\n\\u03a3\\u03c7\\u03b5\\u03c4\\u03b9\\u03ba\\u03ac \\u03ac\\u03c1\\u03b8\\u03c1\\u03b1\\nExit Poll: \\u03a0\\u03c1\\u03ce\\u03c4\\u03b7 \\u03b7 \\u039d\\u0394 (28% \\u2013 32%), \\u03ba\\u03b1\\u03b8\\u03b1\\u03c1\\u03ac \\u03b4\\u03b5\\u03cd\\u03c4\\u03b5\\u03c1\\u03bf\\u03c2 \\u03bf \\u03a3\\u03a5\\u03a1\\u0399\\u0396\\u0391 (15,2% \\u2013 18,2%) \\u2013 \\u039c\\u03ac\\u03c7\\u03b7 \\u03b3\\u03b9\\u03b1 \\u039d\\u0399\\u039a\\u0397, \\u03a0\\u03bb\\u03b5\\u03cd\\u03c3\\u03b7 \\u0395\\u03bb\\u03b5\\u03c5\\u03b8\\u03b5\\u03c1\\u03af\\u03b1\\u03c2\\n09.06.2024, 19:01\\nExit poll: \\u039f\\u03b9 \\u03ad\\u03b4\\u03c1\\u03b5\\u03c2 \\u03c0\\u03bf\\u03c5 \\u03b2\\u03b3\\u03ac\\u03b6\\u03bf\\u03c5\\u03bd \\u03c4\\u03b1 \\u03ba\\u03cc\\u03bc\\u03bc\\u03b1\\u03c4\\u03b1\\n09.06.2024, 18:59\\n\\u0394\\u03b7\\u03bc\\u03ae\\u03c4\\u03c1\\u03b7\\u03c2 \\u03a7\\u03cc\\u03bd\\u03b4\\u03c1\\u03bf\\u03c2\",\n          \"\\u0395\\u03c5\\u03c1\\u03c9\\u03b5\\u03ba\\u03bb\\u03bf\\u03b3\\u03ad\\u03c2: \\u03a3\\u03c4\\u03b9\\u03c2 20:20 \\u03c4\\u03b1 \\u03c0\\u03c1\\u03ce\\u03c4\\u03b1 \\u03b1\\u03c3\\u03c6\\u03b1\\u03bb\\u03ae \\u03b1\\u03c0\\u03bf\\u03c4\\u03b5\\u03bb\\u03ad\\u03c3\\u03bc\\u03b1\\u03c4\\u03b1 \\u03a3\\u03cd\\u03bc\\u03c6\\u03c9\\u03bd\\u03b1 \\u03bc\\u03b5 \\u03c3\\u03c4\\u03b5\\u03bb\\u03ad\\u03c7\\u03b7 \\u03c4\\u03b7\\u03c2 Singular Logic, \\u03bb\\u03cc\\u03b3\\u03c9 \\u03c4\\u03b7\\u03c2 \\u03bc\\u03b5\\u03b3\\u03ac\\u03bb\\u03b7\\u03c2 \\u03b1\\u03c0\\u03bf\\u03c7\\u03ae\\u03c2, \\u03b1\\u03bd\\u03c4\\u03af \\u03b3\\u03b9\\u03b1 \\u03c4\\u03b9\\u03c2 21:00, \\u03b7 \\u03b5\\u03ba\\u03c4\\u03af\\u03bc\\u03b7\\u03c3\\u03b7 \\u03b3\\u03b9\\u03b1 \\u03c4\\u03bf \\u03c4\\u03b5\\u03bb\\u03b9\\u03ba\\u03cc \\u03b1\\u03c0\\u03bf\\u03c4\\u03ad\\u03bb\\u03b5\\u03c3\\u03bc\\u03b1 \\u03b1\\u03bd\\u03b1\\u03bc\\u03ad\\u03bd\\u03b5\\u03c4\\u03b1\\u03b9 \\u03c3\\u03c4\\u03b9\\u03c2 20:20 \\u03ae \\u03ba\\u03b1\\u03b9 \\u03bd\\u03c9\\u03c1\\u03af\\u03c4\\u03b5\\u03c1\\u03b1\\nNewsroom\\n\\u03a3\\u03b1\\u03c1\\u03ac\\u03bd\\u03c4\\u03b1 \\u03bb\\u03b5\\u03c0\\u03c4\\u03ac \\u03bd\\u03c9\\u03c1\\u03af\\u03c4\\u03b5\\u03c1\\u03b1, \\u03c3\\u03b5 \\u03c3\\u03c7\\u03ad\\u03c3\\u03b7 \\u03bc\\u03b5 \\u03c4\\u03b9\\u03c2 \\u03c0\\u03c1\\u03bf\\u03b7\\u03b3\\u03bf\\u03cd\\u03bc\\u03b5\\u03bd\\u03b5\\u03c2 \\u03b5\\u03ba\\u03c4\\u03b9\\u03bc\\u03ae\\u03c3\\u03b5\\u03b9\\u03c2, \\u03b1\\u03bd\\u03b1\\u03bc\\u03ad\\u03bd\\u03b5\\u03c4\\u03b1\\u03b9 \\u03bd\\u03b1 \\u03b1\\u03bd\\u03b1\\u03ba\\u03bf\\u03b9\\u03bd\\u03c9\\u03b8\\u03b5\\u03af \\u03c4\\u03bf \\u03c0\\u03c1\\u03ce\\u03c4\\u03bf \\u03b1\\u03c3\\u03c6\\u03b1\\u03bb\\u03ad\\u03c2 \\u03b1\\u03c0\\u03bf\\u03c4\\u03ad\\u03bb\\u03b5\\u03c3\\u03bc\\u03b1 \\u03c4\\u03c9\\u03bd\\n\\u03b5\\u03c5\\u03c1\\u03c9\\u03b5\\u03ba\\u03bb\\u03bf\\u03b3\\u03ce\\u03bd\\n.\\n\\u03a3\\u03cd\\u03bc\\u03c6\\u03c9\\u03bd\\u03b1 \\u03bc\\u03b5 \\u03c3\\u03c4\\u03b5\\u03bb\\u03ad\\u03c7\\u03b7 \\u03c4\\u03b7\\u03c2 Singular Logic \\u03c0\\u03bf\\u03c5 \\u03b5\\u03c0\\u03b9\\u03ba\\u03b1\\u03bb\\u03b5\\u03af\\u03c4\\u03b1\\u03b9 \\u03c4\\u03bf \\u0391\\u03b8\\u03b7\\u03bd\\u03b1\\u03ca\\u03ba\\u03cc \\u03a0\\u03c1\\u03b1\\u03ba\\u03c4\\u03bf\\u03c1\\u03b5\\u03af\\u03bf \\u0395\\u03b9\\u03b4\\u03ae\\u03c3\\u03b5\\u03c9\\u03bd, \\u03bb\\u03cc\\u03b3\\u03c9 \\u03c4\\u03b7\\u03c2 \\u03bc\\u03b5\\u03b3\\u03ac\\u03bb\\u03b7\\u03c2 \\u03b1\\u03c0\\u03bf\\u03c7\\u03ae\\u03c2, \\u03b1\\u03bd\\u03c4\\u03af \\u03b3\\u03b9\\u03b1 \\u03c4\\u03b9\\u03c2 21:00, \\u03b7 \\u03b5\\u03ba\\u03c4\\u03af\\u03bc\\u03b7\\u03c3\\u03b7 \\u03b3\\u03b9\\u03b1 \\u03c4\\u03bf \\u03c4\\u03b5\\u03bb\\u03b9\\u03ba\\u03cc \\u03b1\\u03c0\\u03bf\\u03c4\\u03ad\\u03bb\\u03b5\\u03c3\\u03bc\\u03b1 \\u03b1\\u03bd\\u03b1\\u03bc\\u03ad\\u03bd\\u03b5\\u03c4\\u03b1\\u03b9 \\u03c3\\u03c4\\u03b9\\u03c2 20:20 \\u03ae \\u03ba\\u03b1\\u03b9 \\u03bd\\u03c9\\u03c1\\u03af\\u03c4\\u03b5\\u03c1\\u03b1.\\n\\u03a4\\u03b9\\u03c2 \\u03c3\\u03c7\\u03b5\\u03c4\\u03b9\\u03ba\\u03ad\\u03c2 \\u03b1\\u03bd\\u03b1\\u03ba\\u03bf\\u03b9\\u03bd\\u03ce\\u03c3\\u03b5\\u03b9\\u03c2 \\u03b8\\u03b1 \\u03ba\\u03ac\\u03bd\\u03b5\\u03b9 \\u03b1\\u03c0\\u03cc \\u03c4\\u03bf \\u03c5\\u03c0\\u03bf\\u03c5\\u03c1\\u03b3\\u03b5\\u03af\\u03bf \\u0395\\u03c3\\u03c9\\u03c4\\u03b5\\u03c1\\u03b9\\u03ba\\u03ce\\u03bd \\u03bf \\u03b3\\u03b5\\u03bd\\u03b9\\u03ba\\u03cc\\u03c2 \\u03b4\\u03b9\\u03b5\\u03c5\\u03b8\\u03c5\\u03bd\\u03c4\\u03ae\\u03c2 \\u03c4\\u03b7\\u03c2 \\u03b5\\u03c4\\u03b1\\u03b9\\u03c1\\u03b5\\u03af\\u03b1\\u03c2, \\u0394\\u03b7\\u03bc\\u03ae\\u03c4\\u03c1\\u03b7\\u03c2 \\u039c\\u03c0\\u03b1\\u03ba\\u03ac\\u03ba\\u03bf\\u03c2.\"\n        ],\n        \"semantic_type\": \"\",\n        \"description\": \"\"\n      }\n    }\n  ]\n}"
            }
          },
          "metadata": {},
          "execution_count": 19
        }
      ]
    },
    {
      "cell_type": "code",
      "source": [
        "selected_cols_df.to_csv(\"/content/gdrive/MyDrive/Τελική εργασία σεμινάριο/report1c.csv\", index=False)\n",
        "selected_cols_df.tail(1)"
      ],
      "metadata": {
        "colab": {
          "base_uri": "https://localhost:8080/",
          "height": 80
        },
        "id": "XKXBXjugnWSA",
        "outputId": "92a371c6-a992-42d2-a21c-6263f70b227b"
      },
      "execution_count": null,
      "outputs": [
        {
          "output_type": "execute_result",
          "data": {
            "text/plain": [
              "       source                                              title  \\\n",
              "1314  skai.gr  Πόλωση, επιθέσεις, διαδηλώσεις: Oι «γερμανικές...   \n",
              "\n",
              "                     date                                          full_text  \n",
              "1314  2024-06-09 17:51:00  Πόλωση, επιθέσεις, διαδηλώσεις: Oι «γερμανικές...  "
            ],
            "text/html": [
              "\n",
              "  <div id=\"df-00a59378-89a2-4272-a480-b959e05962b1\" class=\"colab-df-container\">\n",
              "    <div>\n",
              "<style scoped>\n",
              "    .dataframe tbody tr th:only-of-type {\n",
              "        vertical-align: middle;\n",
              "    }\n",
              "\n",
              "    .dataframe tbody tr th {\n",
              "        vertical-align: top;\n",
              "    }\n",
              "\n",
              "    .dataframe thead th {\n",
              "        text-align: right;\n",
              "    }\n",
              "</style>\n",
              "<table border=\"1\" class=\"dataframe\">\n",
              "  <thead>\n",
              "    <tr style=\"text-align: right;\">\n",
              "      <th></th>\n",
              "      <th>source</th>\n",
              "      <th>title</th>\n",
              "      <th>date</th>\n",
              "      <th>full_text</th>\n",
              "    </tr>\n",
              "  </thead>\n",
              "  <tbody>\n",
              "    <tr>\n",
              "      <th>1314</th>\n",
              "      <td>skai.gr</td>\n",
              "      <td>Πόλωση, επιθέσεις, διαδηλώσεις: Oι «γερμανικές...</td>\n",
              "      <td>2024-06-09 17:51:00</td>\n",
              "      <td>Πόλωση, επιθέσεις, διαδηλώσεις: Oι «γερμανικές...</td>\n",
              "    </tr>\n",
              "  </tbody>\n",
              "</table>\n",
              "</div>\n",
              "    <div class=\"colab-df-buttons\">\n",
              "\n",
              "  <div class=\"colab-df-container\">\n",
              "    <button class=\"colab-df-convert\" onclick=\"convertToInteractive('df-00a59378-89a2-4272-a480-b959e05962b1')\"\n",
              "            title=\"Convert this dataframe to an interactive table.\"\n",
              "            style=\"display:none;\">\n",
              "\n",
              "  <svg xmlns=\"http://www.w3.org/2000/svg\" height=\"24px\" viewBox=\"0 -960 960 960\">\n",
              "    <path d=\"M120-120v-720h720v720H120Zm60-500h600v-160H180v160Zm220 220h160v-160H400v160Zm0 220h160v-160H400v160ZM180-400h160v-160H180v160Zm440 0h160v-160H620v160ZM180-180h160v-160H180v160Zm440 0h160v-160H620v160Z\"/>\n",
              "  </svg>\n",
              "    </button>\n",
              "\n",
              "  <style>\n",
              "    .colab-df-container {\n",
              "      display:flex;\n",
              "      gap: 12px;\n",
              "    }\n",
              "\n",
              "    .colab-df-convert {\n",
              "      background-color: #E8F0FE;\n",
              "      border: none;\n",
              "      border-radius: 50%;\n",
              "      cursor: pointer;\n",
              "      display: none;\n",
              "      fill: #1967D2;\n",
              "      height: 32px;\n",
              "      padding: 0 0 0 0;\n",
              "      width: 32px;\n",
              "    }\n",
              "\n",
              "    .colab-df-convert:hover {\n",
              "      background-color: #E2EBFA;\n",
              "      box-shadow: 0px 1px 2px rgba(60, 64, 67, 0.3), 0px 1px 3px 1px rgba(60, 64, 67, 0.15);\n",
              "      fill: #174EA6;\n",
              "    }\n",
              "\n",
              "    .colab-df-buttons div {\n",
              "      margin-bottom: 4px;\n",
              "    }\n",
              "\n",
              "    [theme=dark] .colab-df-convert {\n",
              "      background-color: #3B4455;\n",
              "      fill: #D2E3FC;\n",
              "    }\n",
              "\n",
              "    [theme=dark] .colab-df-convert:hover {\n",
              "      background-color: #434B5C;\n",
              "      box-shadow: 0px 1px 3px 1px rgba(0, 0, 0, 0.15);\n",
              "      filter: drop-shadow(0px 1px 2px rgba(0, 0, 0, 0.3));\n",
              "      fill: #FFFFFF;\n",
              "    }\n",
              "  </style>\n",
              "\n",
              "    <script>\n",
              "      const buttonEl =\n",
              "        document.querySelector('#df-00a59378-89a2-4272-a480-b959e05962b1 button.colab-df-convert');\n",
              "      buttonEl.style.display =\n",
              "        google.colab.kernel.accessAllowed ? 'block' : 'none';\n",
              "\n",
              "      async function convertToInteractive(key) {\n",
              "        const element = document.querySelector('#df-00a59378-89a2-4272-a480-b959e05962b1');\n",
              "        const dataTable =\n",
              "          await google.colab.kernel.invokeFunction('convertToInteractive',\n",
              "                                                    [key], {});\n",
              "        if (!dataTable) return;\n",
              "\n",
              "        const docLinkHtml = 'Like what you see? Visit the ' +\n",
              "          '<a target=\"_blank\" href=https://colab.research.google.com/notebooks/data_table.ipynb>data table notebook</a>'\n",
              "          + ' to learn more about interactive tables.';\n",
              "        element.innerHTML = '';\n",
              "        dataTable['output_type'] = 'display_data';\n",
              "        await google.colab.output.renderOutput(dataTable, element);\n",
              "        const docLink = document.createElement('div');\n",
              "        docLink.innerHTML = docLinkHtml;\n",
              "        element.appendChild(docLink);\n",
              "      }\n",
              "    </script>\n",
              "  </div>\n",
              "\n",
              "\n",
              "    </div>\n",
              "  </div>\n"
            ],
            "application/vnd.google.colaboratory.intrinsic+json": {
              "type": "dataframe",
              "repr_error": "0"
            }
          },
          "metadata": {},
          "execution_count": 20
        }
      ]
    }
  ]
}