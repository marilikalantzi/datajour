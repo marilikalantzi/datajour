{
  "nbformat": 4,
  "nbformat_minor": 0,
  "metadata": {
    "colab": {
      "provenance": [],
      "authorship_tag": "ABX9TyNsm76lkbBKUJCnxuY7IHgv",
      "include_colab_link": true
    },
    "kernelspec": {
      "name": "python3",
      "display_name": "Python 3"
    },
    "language_info": {
      "name": "python"
    }
  },
  "cells": [
    {
      "cell_type": "markdown",
      "metadata": {
        "id": "view-in-github",
        "colab_type": "text"
      },
      "source": [
        "<a href=\"https://colab.research.google.com/github/marilikalantzi/datajour/blob/main/WEEK5_H_W.ipynb\" target=\"_parent\"><img src=\"https://colab.research.google.com/assets/colab-badge.svg\" alt=\"Open In Colab\"/></a>"
      ]
    },
    {
      "cell_type": "markdown",
      "source": [
        "ΆΣΚΗΣΗ 1:"
      ],
      "metadata": {
        "id": "BvUD09nUpy_s"
      }
    },
    {
      "cell_type": "code",
      "execution_count": 36,
      "metadata": {
        "id": "V2dpDscahPcY"
      },
      "outputs": [],
      "source": [
        "urlsL = [\"https://www.reporter.gr/Oles-oi-eidhseis/600370-Ghpeda-Pws-na-apokthsete-hlektroniko-eisithrio-me-kinhto-Huawei-H-diadikasia\",\n",
        "         \"https://www.reporter.gr/Diethnh/Diethneis-Eidhseis/600372-Synodos-Koryfhs-Proshlwsh-sth-synolikh-dieythethsh-toy-Kypriakoy\",\n",
        "         \"https://www.reporter.gr/Analyseis/600531-AVE-Apo-12-4-se-diapragmateysh-oi-20,64-ekat-nees-metoches\",\n",
        "         \"https://www.reporter.gr/Diethnh/Chrhmatisthria/600539-Meikta-proshma-stis-eyrwagores-meta-to-alma-plhthwrismoy-stis-HPA\"]"
      ]
    },
    {
      "cell_type": "code",
      "source": [
        "titles_list = []\n",
        "words_nbr_list = []"
      ],
      "metadata": {
        "id": "a83wwN0BhY51"
      },
      "execution_count": 37,
      "outputs": []
    },
    {
      "cell_type": "code",
      "source": [
        "for url in urlsL:\n",
        "  url = url.split(\"/\")\n",
        "  title = url[-1]\n",
        "  index_start = title.index(\"-\")\n",
        "  title = title[index_start+1 : ]\n",
        "  title = title.replace(\"-\", \" \")\n",
        "  titles_list.append(title)\n",
        "  title_words = title.split(\" \")\n",
        "  words_nbr = len(title_words)\n",
        "  words_nbr_list.append(words_nbr)"
      ],
      "metadata": {
        "id": "SBqyde1ehdJE"
      },
      "execution_count": 38,
      "outputs": []
    },
    {
      "cell_type": "code",
      "source": [
        "print(titles_list)\n",
        "print(words_nbr_list)"
      ],
      "metadata": {
        "colab": {
          "base_uri": "https://localhost:8080/"
        },
        "id": "dNJi4uNHpJTS",
        "outputId": "7d9233df-145a-450c-8066-683326ef78a3"
      },
      "execution_count": 39,
      "outputs": [
        {
          "output_type": "stream",
          "name": "stdout",
          "text": [
            "['Ghpeda Pws na apokthsete hlektroniko eisithrio me kinhto Huawei H diadikasia', 'Synodos Koryfhs Proshlwsh sth synolikh dieythethsh toy Kypriakoy', 'AVE Apo 12 4 se diapragmateysh oi 20,64 ekat nees metoches', 'Meikta proshma stis eyrwagores meta to alma plhthwrismoy stis HPA']\n",
            "[11, 8, 11, 10]\n"
          ]
        }
      ]
    },
    {
      "cell_type": "markdown",
      "source": [
        "ΆΣΚΗΣΗ 2:"
      ],
      "metadata": {
        "id": "ief5f1mRqWve"
      }
    },
    {
      "cell_type": "code",
      "source": [
        "urlsL_2 = [\"https://www.efsyn.gr/oikonomia/diethnis-oikonomia/429654_mpoyrloto-gia-kaysima-kai-plithorismo\" ,\n",
        "           \"https://www.efsyn.gr/ellada/ekpaideysi/429486_synelifthi-kai-kathigitria-gia-tin-kannabi-kai-ton-soygia-toy-mathiti\" ,\n",
        "           \"https://www.efsyn.gr/kosmos/mesi-anatoli/429711_antipoina-me-synesi-exetazei-israil-eno-i-teherani-proeidopoiei\" ,\n",
        "           \"https://www.efsyn.gr/athlitismos/podosfairo/429679_nikes-me-myalo-stin-eyropi\"]"
      ],
      "metadata": {
        "id": "fyWWZ9SAqczA"
      },
      "execution_count": 89,
      "outputs": []
    },
    {
      "cell_type": "code",
      "source": [
        "titles_list2 = []\n",
        "words_nbr_list2 = []"
      ],
      "metadata": {
        "id": "YcCxICHFsBcb"
      },
      "execution_count": 90,
      "outputs": []
    },
    {
      "cell_type": "code",
      "source": [
        "for url in urlsL_2:\n",
        "  url = url.split(\"/\")\n",
        "  title = url[-1]\n",
        "  index_start = title.index(\"_\")\n",
        "  title = title[index_start+1 : ]\n",
        "  title = title.replace(\"-\", \" \")\n",
        "  titles_list2.append(title)\n",
        "  title_words = title.split(\" \")\n",
        "  words_nbr = len(title_words)\n",
        "  words_nbr_list2.append(words_nbr)"
      ],
      "metadata": {
        "id": "EV0pX0vdsQin"
      },
      "execution_count": 91,
      "outputs": []
    },
    {
      "cell_type": "code",
      "source": [
        "print(titles_list2)\n",
        "print(words_nbr_list2)"
      ],
      "metadata": {
        "colab": {
          "base_uri": "https://localhost:8080/"
        },
        "id": "n_gbwxJ8uVhe",
        "outputId": "49a0f994-0d45-400e-f4fb-e06aa2b40a6c"
      },
      "execution_count": 92,
      "outputs": [
        {
          "output_type": "stream",
          "name": "stdout",
          "text": [
            "['mpoyrloto gia kaysima kai plithorismo', 'synelifthi kai kathigitria gia tin kannabi kai ton soygia toy mathiti', 'antipoina me synesi exetazei israil eno i teherani proeidopoiei', 'nikes me myalo stin eyropi']\n",
            "[5, 11, 9, 5]\n"
          ]
        }
      ]
    }
  ]
}