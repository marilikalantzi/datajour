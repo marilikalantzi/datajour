{
  "nbformat": 4,
  "nbformat_minor": 0,
  "metadata": {
    "colab": {
      "provenance": [],
      "authorship_tag": "ABX9TyN/M3fRY/SIAyWAwOn6bwyX",
      "include_colab_link": true
    },
    "kernelspec": {
      "name": "python3",
      "display_name": "Python 3"
    },
    "language_info": {
      "name": "python"
    }
  },
  "cells": [
    {
      "cell_type": "markdown",
      "metadata": {
        "id": "view-in-github",
        "colab_type": "text"
      },
      "source": [
        "<a href=\"https://colab.research.google.com/github/marilikalantzi/datajour/blob/main/Untitled0.ipynb\" target=\"_parent\"><img src=\"https://colab.research.google.com/assets/colab-badge.svg\" alt=\"Open In Colab\"/></a>"
      ]
    },
    {
      "cell_type": "markdown",
      "source": [
        "Άσκηση 1 :"
      ],
      "metadata": {
        "id": "YkzrQmpqBDZc"
      }
    },
    {
      "cell_type": "code",
      "source": [
        "my_name = \"Vasilis\"\n",
        "my_email = \"bill2005@example.com\"\n",
        "myAM_4first_digits = \"9983\"\n",
        "_2FavoriteMovies = \"Life of Bryan,\"+\"The meaning of life\"\n",
        "print(my_name,my_email,myAM_4first_digits,_2FavoriteMovies)\n"
      ],
      "metadata": {
        "colab": {
          "base_uri": "https://localhost:8080/"
        },
        "id": "gckzYCMaBJ8a",
        "outputId": "445a84e5-e892-4b82-f0b3-b999b6e52a69"
      },
      "execution_count": 1,
      "outputs": [
        {
          "output_type": "stream",
          "name": "stdout",
          "text": [
            "Vasilis bill2005@example.com 9983 Life of Bryan,The meaning of life\n"
          ]
        }
      ]
    },
    {
      "cell_type": "markdown",
      "source": [
        "Άσκηση 2:"
      ],
      "metadata": {
        "id": "yhufcp2yF5pp"
      }
    },
    {
      "cell_type": "code",
      "source": [
        "article_title = \"Bloomberg: «Τα Γλυπτά του Παρθενώνα δεν είναι της Βρετανίας για να τα κρατά»\"\n",
        "publ_date = \"04.05.2023\"\n",
        "sitename = \"Η Καθημερινή\"\n",
        "article_url = \"https://www.kathimerini.gr/world/562401634/bloomberg-ta-glypta-toy-parthenona-den-einai-tis-vretanias-gia-na-ta-krata/\"\n",
        "print('Το άρθρο:', article_title), print('δημοσιεύτηκε στο :',sitename), print('στις:', publ_date), print('και βρίσκεται στην ηλεκτρονική διεύθυνση:', article_url)\n",
        "\n",
        "\n",
        "\n",
        "\n"
      ],
      "metadata": {
        "colab": {
          "base_uri": "https://localhost:8080/"
        },
        "id": "e0r1mBuDH6EG",
        "outputId": "da122d95-1ea7-4340-f537-877043517a1e"
      },
      "execution_count": 6,
      "outputs": [
        {
          "output_type": "stream",
          "name": "stdout",
          "text": [
            "Το άρθρο: Bloomberg: «Τα Γλυπτά του Παρθενώνα δεν είναι της Βρετανίας για να τα κρατά»\n",
            "δημοσιεύτηκε στο : Η Καθημερινή\n",
            "στις: 04.05.2023\n",
            "και βρίσκεται στην ηλεκτρονική διεύθυνση: https://www.kathimerini.gr/world/562401634/bloomberg-ta-glypta-toy-parthenona-den-einai-tis-vretanias-gia-na-ta-krata/\n"
          ]
        },
        {
          "output_type": "execute_result",
          "data": {
            "text/plain": [
              "(None, None, None, None)"
            ]
          },
          "metadata": {},
          "execution_count": 6
        }
      ]
    },
    {
      "cell_type": "markdown",
      "source": [
        "Άσκηση 3:"
      ],
      "metadata": {
        "id": "SRHZ-2wZSadE"
      }
    },
    {
      "cell_type": "code",
      "source": [
        "monthly_rent = 300\n",
        "months = 12\n",
        "yearly_rent = monthly_rent * months\n",
        "print(yearly_rent)"
      ],
      "metadata": {
        "colab": {
          "base_uri": "https://localhost:8080/"
        },
        "id": "gCsl17n-SiKh",
        "outputId": "e4fcc86a-05c3-4484-df70-9be141d12fd9"
      },
      "execution_count": 9,
      "outputs": [
        {
          "output_type": "stream",
          "name": "stdout",
          "text": [
            "3600\n"
          ]
        }
      ]
    },
    {
      "cell_type": "markdown",
      "source": [
        "Άσκηση 4a:"
      ],
      "metadata": {
        "id": "qnHWRPFYmfiN"
      }
    },
    {
      "cell_type": "code",
      "source": [
        "result = str(132 + 13)\n",
        "print (result)\n"
      ],
      "metadata": {
        "colab": {
          "base_uri": "https://localhost:8080/"
        },
        "id": "gx8iGJS6mpre",
        "outputId": "5ff15e15-1b8f-4100-fdff-e77895cc01e5"
      },
      "execution_count": 2,
      "outputs": [
        {
          "output_type": "stream",
          "name": "stdout",
          "text": [
            "145\n"
          ]
        }
      ]
    },
    {
      "cell_type": "markdown",
      "source": [
        "Άσκηση 4b:"
      ],
      "metadata": {
        "id": "U6qx40Wc2uBf"
      }
    },
    {
      "cell_type": "code",
      "source": [
        "athroisma = 145\n",
        "upoloipo = 8\n",
        "praxh = str(145 / 8)\n",
        "print(praxh)\n",
        "\n"
      ],
      "metadata": {
        "colab": {
          "base_uri": "https://localhost:8080/"
        },
        "id": "8v3NDE_N5BkQ",
        "outputId": "cfee020f-314a-4a5d-acf2-60da23fcf1ac"
      },
      "execution_count": 11,
      "outputs": [
        {
          "output_type": "stream",
          "name": "stdout",
          "text": [
            "18.125\n"
          ]
        }
      ]
    },
    {
      "cell_type": "code",
      "source": [
        "tlk_apotelesma = str(18.125**2)\n",
        "print(tlk_apotelesma)"
      ],
      "metadata": {
        "colab": {
          "base_uri": "https://localhost:8080/"
        },
        "id": "73zsjD9r65i5",
        "outputId": "b476439e-afa2-4a95-8856-7a5f9cd42ebc"
      },
      "execution_count": 12,
      "outputs": [
        {
          "output_type": "stream",
          "name": "stdout",
          "text": [
            "328.515625\n"
          ]
        }
      ]
    },
    {
      "cell_type": "markdown",
      "source": [
        "Άσκηση 5:\n"
      ],
      "metadata": {
        "id": "PwyThiJX7TJZ"
      }
    },
    {
      "cell_type": "code",
      "source": [
        "counter = 1\n",
        "print(counter)"
      ],
      "metadata": {
        "colab": {
          "base_uri": "https://localhost:8080/"
        },
        "id": "5xs8VWxp8TA1",
        "outputId": "023e97f1-13cb-444d-c48b-0b92737b40f2"
      },
      "execution_count": 18,
      "outputs": [
        {
          "output_type": "stream",
          "name": "stdout",
          "text": [
            "1\n"
          ]
        }
      ]
    },
    {
      "cell_type": "code",
      "source": [
        "counter += 1\n",
        "print(counter)"
      ],
      "metadata": {
        "colab": {
          "base_uri": "https://localhost:8080/"
        },
        "id": "eY5ej3FK8Y4O",
        "outputId": "b9506ed9-2953-41a2-fcd4-d57f214e9320"
      },
      "execution_count": 19,
      "outputs": [
        {
          "output_type": "stream",
          "name": "stdout",
          "text": [
            "2\n"
          ]
        }
      ]
    },
    {
      "cell_type": "code",
      "source": [
        "counter += 1\n",
        "print(counter)"
      ],
      "metadata": {
        "colab": {
          "base_uri": "https://localhost:8080/"
        },
        "id": "wYUVMn3I8drj",
        "outputId": "24c36326-c6b2-45bf-8b87-7a3e7c40141d"
      },
      "execution_count": 21,
      "outputs": [
        {
          "output_type": "stream",
          "name": "stdout",
          "text": [
            "3\n"
          ]
        }
      ]
    },
    {
      "cell_type": "code",
      "source": [
        "counter += 1\n",
        "print(counter)"
      ],
      "metadata": {
        "colab": {
          "base_uri": "https://localhost:8080/"
        },
        "id": "Od5qXv7m8oJx",
        "outputId": "6a709129-9d14-4aed-ac8d-27c13c5376ac"
      },
      "execution_count": 22,
      "outputs": [
        {
          "output_type": "stream",
          "name": "stdout",
          "text": [
            "4\n"
          ]
        }
      ]
    },
    {
      "cell_type": "code",
      "source": [
        "counter += 1\n",
        "print(counter)"
      ],
      "metadata": {
        "colab": {
          "base_uri": "https://localhost:8080/"
        },
        "id": "ewMcMtk68tZd",
        "outputId": "9b683f66-e0a9-4e88-cb8b-e219dc768f8a"
      },
      "execution_count": 23,
      "outputs": [
        {
          "output_type": "stream",
          "name": "stdout",
          "text": [
            "5\n"
          ]
        }
      ]
    },
    {
      "cell_type": "code",
      "source": [],
      "metadata": {
        "id": "S1A_fqub8yyR"
      },
      "execution_count": null,
      "outputs": []
    }
  ]
}